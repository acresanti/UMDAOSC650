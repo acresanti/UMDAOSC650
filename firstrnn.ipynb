{
  "nbformat": 4,
  "nbformat_minor": 0,
  "metadata": {
    "colab": {
      "provenance": [],
      "mount_file_id": "1-tlc5GGh7ywSlvTy1btcndCkZMeoS3s2",
      "authorship_tag": "ABX9TyPWxaDkpAiO38barpMvUhFo",
      "include_colab_link": true
    },
    "kernelspec": {
      "name": "python3",
      "display_name": "Python 3"
    },
    "language_info": {
      "name": "python"
    }
  },
  "cells": [
    {
      "cell_type": "markdown",
      "metadata": {
        "id": "view-in-github",
        "colab_type": "text"
      },
      "source": [
        "<a href=\"https://colab.research.google.com/github/mariajmolina/UMDAOSC650/blob/main/firstrnn.ipynb\" target=\"_parent\"><img src=\"https://colab.research.google.com/assets/colab-badge.svg\" alt=\"Open In Colab\"/></a>"
      ]
    },
    {
      "cell_type": "markdown",
      "source": [
        "# LSTM\n",
        "\n",
        "An example using ONI (Oceanic Nino Index).\n",
        "\n",
        "Let's predict a future ONI value using four previous values.\n",
        "\n",
        "First, we will tackle a Many (4 input time steps) to One (1 future time step) framework.\n",
        "\n",
        "Second, we will tackle a Many (4 input time steps) to Many (Y future time steps) framework. The Many-to-Many framework does not need to be Tx==Ty (but can be)."
      ],
      "metadata": {
        "id": "2wbxelrgNBGe"
      }
    },
    {
      "cell_type": "code",
      "execution_count": 1,
      "metadata": {
        "id": "p-cre9b5l0WQ"
      },
      "outputs": [],
      "source": [
        "import numpy as np\n",
        "import matplotlib.pyplot as plt\n",
        "import pandas as pd\n",
        "from sklearn.preprocessing import MinMaxScaler\n",
        "import keras\n",
        "from keras.models import Sequential\n",
        "from keras.layers import LSTM, Dense, Dropout, Activation, TimeDistributed, RepeatVector\n",
        "#from keras.src.preprocessing.sequence import TimeseriesGenerator # old timeseries generator\n",
        "# from google.colab import drive\n",
        "# drive.mount('/content/drive')"
      ]
    },
    {
      "cell_type": "code",
      "source": [
        "# reading dataset from NOAA\n",
        "dataset = pd.read_csv(\n",
        "    'http://www.cpc.ncep.noaa.gov/data/indices/oni.ascii.txt',\n",
        "    sep='\\s+')"
      ],
      "metadata": {
        "id": "iKKGgzDJmBMD"
      },
      "execution_count": 2,
      "outputs": []
    },
    {
      "cell_type": "code",
      "source": [
        "# data features include seasons, year, total SST (C), and ONI (ENSO index)\n",
        "dataset.head()"
      ],
      "metadata": {
        "colab": {
          "base_uri": "https://localhost:8080/",
          "height": 206
        },
        "id": "_lFFxKALqnlb",
        "outputId": "a643271c-0f35-4707-dae3-b9941158b3b3"
      },
      "execution_count": 3,
      "outputs": [
        {
          "output_type": "execute_result",
          "data": {
            "text/plain": [
              "  SEAS    YR  TOTAL  ANOM\n",
              "0  DJF  1950  24.72 -1.53\n",
              "1  JFM  1950  25.17 -1.34\n",
              "2  FMA  1950  25.75 -1.16\n",
              "3  MAM  1950  26.12 -1.18\n",
              "4  AMJ  1950  26.32 -1.07"
            ],
            "text/html": [
              "\n",
              "  <div id=\"df-636a34b6-8264-49c4-9aee-6d04eeea5cbf\" class=\"colab-df-container\">\n",
              "    <div>\n",
              "<style scoped>\n",
              "    .dataframe tbody tr th:only-of-type {\n",
              "        vertical-align: middle;\n",
              "    }\n",
              "\n",
              "    .dataframe tbody tr th {\n",
              "        vertical-align: top;\n",
              "    }\n",
              "\n",
              "    .dataframe thead th {\n",
              "        text-align: right;\n",
              "    }\n",
              "</style>\n",
              "<table border=\"1\" class=\"dataframe\">\n",
              "  <thead>\n",
              "    <tr style=\"text-align: right;\">\n",
              "      <th></th>\n",
              "      <th>SEAS</th>\n",
              "      <th>YR</th>\n",
              "      <th>TOTAL</th>\n",
              "      <th>ANOM</th>\n",
              "    </tr>\n",
              "  </thead>\n",
              "  <tbody>\n",
              "    <tr>\n",
              "      <th>0</th>\n",
              "      <td>DJF</td>\n",
              "      <td>1950</td>\n",
              "      <td>24.72</td>\n",
              "      <td>-1.53</td>\n",
              "    </tr>\n",
              "    <tr>\n",
              "      <th>1</th>\n",
              "      <td>JFM</td>\n",
              "      <td>1950</td>\n",
              "      <td>25.17</td>\n",
              "      <td>-1.34</td>\n",
              "    </tr>\n",
              "    <tr>\n",
              "      <th>2</th>\n",
              "      <td>FMA</td>\n",
              "      <td>1950</td>\n",
              "      <td>25.75</td>\n",
              "      <td>-1.16</td>\n",
              "    </tr>\n",
              "    <tr>\n",
              "      <th>3</th>\n",
              "      <td>MAM</td>\n",
              "      <td>1950</td>\n",
              "      <td>26.12</td>\n",
              "      <td>-1.18</td>\n",
              "    </tr>\n",
              "    <tr>\n",
              "      <th>4</th>\n",
              "      <td>AMJ</td>\n",
              "      <td>1950</td>\n",
              "      <td>26.32</td>\n",
              "      <td>-1.07</td>\n",
              "    </tr>\n",
              "  </tbody>\n",
              "</table>\n",
              "</div>\n",
              "    <div class=\"colab-df-buttons\">\n",
              "\n",
              "  <div class=\"colab-df-container\">\n",
              "    <button class=\"colab-df-convert\" onclick=\"convertToInteractive('df-636a34b6-8264-49c4-9aee-6d04eeea5cbf')\"\n",
              "            title=\"Convert this dataframe to an interactive table.\"\n",
              "            style=\"display:none;\">\n",
              "\n",
              "  <svg xmlns=\"http://www.w3.org/2000/svg\" height=\"24px\" viewBox=\"0 -960 960 960\">\n",
              "    <path d=\"M120-120v-720h720v720H120Zm60-500h600v-160H180v160Zm220 220h160v-160H400v160Zm0 220h160v-160H400v160ZM180-400h160v-160H180v160Zm440 0h160v-160H620v160ZM180-180h160v-160H180v160Zm440 0h160v-160H620v160Z\"/>\n",
              "  </svg>\n",
              "    </button>\n",
              "\n",
              "  <style>\n",
              "    .colab-df-container {\n",
              "      display:flex;\n",
              "      gap: 12px;\n",
              "    }\n",
              "\n",
              "    .colab-df-convert {\n",
              "      background-color: #E8F0FE;\n",
              "      border: none;\n",
              "      border-radius: 50%;\n",
              "      cursor: pointer;\n",
              "      display: none;\n",
              "      fill: #1967D2;\n",
              "      height: 32px;\n",
              "      padding: 0 0 0 0;\n",
              "      width: 32px;\n",
              "    }\n",
              "\n",
              "    .colab-df-convert:hover {\n",
              "      background-color: #E2EBFA;\n",
              "      box-shadow: 0px 1px 2px rgba(60, 64, 67, 0.3), 0px 1px 3px 1px rgba(60, 64, 67, 0.15);\n",
              "      fill: #174EA6;\n",
              "    }\n",
              "\n",
              "    .colab-df-buttons div {\n",
              "      margin-bottom: 4px;\n",
              "    }\n",
              "\n",
              "    [theme=dark] .colab-df-convert {\n",
              "      background-color: #3B4455;\n",
              "      fill: #D2E3FC;\n",
              "    }\n",
              "\n",
              "    [theme=dark] .colab-df-convert:hover {\n",
              "      background-color: #434B5C;\n",
              "      box-shadow: 0px 1px 3px 1px rgba(0, 0, 0, 0.15);\n",
              "      filter: drop-shadow(0px 1px 2px rgba(0, 0, 0, 0.3));\n",
              "      fill: #FFFFFF;\n",
              "    }\n",
              "  </style>\n",
              "\n",
              "    <script>\n",
              "      const buttonEl =\n",
              "        document.querySelector('#df-636a34b6-8264-49c4-9aee-6d04eeea5cbf button.colab-df-convert');\n",
              "      buttonEl.style.display =\n",
              "        google.colab.kernel.accessAllowed ? 'block' : 'none';\n",
              "\n",
              "      async function convertToInteractive(key) {\n",
              "        const element = document.querySelector('#df-636a34b6-8264-49c4-9aee-6d04eeea5cbf');\n",
              "        const dataTable =\n",
              "          await google.colab.kernel.invokeFunction('convertToInteractive',\n",
              "                                                    [key], {});\n",
              "        if (!dataTable) return;\n",
              "\n",
              "        const docLinkHtml = 'Like what you see? Visit the ' +\n",
              "          '<a target=\"_blank\" href=https://colab.research.google.com/notebooks/data_table.ipynb>data table notebook</a>'\n",
              "          + ' to learn more about interactive tables.';\n",
              "        element.innerHTML = '';\n",
              "        dataTable['output_type'] = 'display_data';\n",
              "        await google.colab.output.renderOutput(dataTable, element);\n",
              "        const docLink = document.createElement('div');\n",
              "        docLink.innerHTML = docLinkHtml;\n",
              "        element.appendChild(docLink);\n",
              "      }\n",
              "    </script>\n",
              "  </div>\n",
              "\n",
              "\n",
              "<div id=\"df-5aa8a73f-4441-48f1-ba31-c5f6031a196b\">\n",
              "  <button class=\"colab-df-quickchart\" onclick=\"quickchart('df-5aa8a73f-4441-48f1-ba31-c5f6031a196b')\"\n",
              "            title=\"Suggest charts\"\n",
              "            style=\"display:none;\">\n",
              "\n",
              "<svg xmlns=\"http://www.w3.org/2000/svg\" height=\"24px\"viewBox=\"0 0 24 24\"\n",
              "     width=\"24px\">\n",
              "    <g>\n",
              "        <path d=\"M19 3H5c-1.1 0-2 .9-2 2v14c0 1.1.9 2 2 2h14c1.1 0 2-.9 2-2V5c0-1.1-.9-2-2-2zM9 17H7v-7h2v7zm4 0h-2V7h2v10zm4 0h-2v-4h2v4z\"/>\n",
              "    </g>\n",
              "</svg>\n",
              "  </button>\n",
              "\n",
              "<style>\n",
              "  .colab-df-quickchart {\n",
              "      --bg-color: #E8F0FE;\n",
              "      --fill-color: #1967D2;\n",
              "      --hover-bg-color: #E2EBFA;\n",
              "      --hover-fill-color: #174EA6;\n",
              "      --disabled-fill-color: #AAA;\n",
              "      --disabled-bg-color: #DDD;\n",
              "  }\n",
              "\n",
              "  [theme=dark] .colab-df-quickchart {\n",
              "      --bg-color: #3B4455;\n",
              "      --fill-color: #D2E3FC;\n",
              "      --hover-bg-color: #434B5C;\n",
              "      --hover-fill-color: #FFFFFF;\n",
              "      --disabled-bg-color: #3B4455;\n",
              "      --disabled-fill-color: #666;\n",
              "  }\n",
              "\n",
              "  .colab-df-quickchart {\n",
              "    background-color: var(--bg-color);\n",
              "    border: none;\n",
              "    border-radius: 50%;\n",
              "    cursor: pointer;\n",
              "    display: none;\n",
              "    fill: var(--fill-color);\n",
              "    height: 32px;\n",
              "    padding: 0;\n",
              "    width: 32px;\n",
              "  }\n",
              "\n",
              "  .colab-df-quickchart:hover {\n",
              "    background-color: var(--hover-bg-color);\n",
              "    box-shadow: 0 1px 2px rgba(60, 64, 67, 0.3), 0 1px 3px 1px rgba(60, 64, 67, 0.15);\n",
              "    fill: var(--button-hover-fill-color);\n",
              "  }\n",
              "\n",
              "  .colab-df-quickchart-complete:disabled,\n",
              "  .colab-df-quickchart-complete:disabled:hover {\n",
              "    background-color: var(--disabled-bg-color);\n",
              "    fill: var(--disabled-fill-color);\n",
              "    box-shadow: none;\n",
              "  }\n",
              "\n",
              "  .colab-df-spinner {\n",
              "    border: 2px solid var(--fill-color);\n",
              "    border-color: transparent;\n",
              "    border-bottom-color: var(--fill-color);\n",
              "    animation:\n",
              "      spin 1s steps(1) infinite;\n",
              "  }\n",
              "\n",
              "  @keyframes spin {\n",
              "    0% {\n",
              "      border-color: transparent;\n",
              "      border-bottom-color: var(--fill-color);\n",
              "      border-left-color: var(--fill-color);\n",
              "    }\n",
              "    20% {\n",
              "      border-color: transparent;\n",
              "      border-left-color: var(--fill-color);\n",
              "      border-top-color: var(--fill-color);\n",
              "    }\n",
              "    30% {\n",
              "      border-color: transparent;\n",
              "      border-left-color: var(--fill-color);\n",
              "      border-top-color: var(--fill-color);\n",
              "      border-right-color: var(--fill-color);\n",
              "    }\n",
              "    40% {\n",
              "      border-color: transparent;\n",
              "      border-right-color: var(--fill-color);\n",
              "      border-top-color: var(--fill-color);\n",
              "    }\n",
              "    60% {\n",
              "      border-color: transparent;\n",
              "      border-right-color: var(--fill-color);\n",
              "    }\n",
              "    80% {\n",
              "      border-color: transparent;\n",
              "      border-right-color: var(--fill-color);\n",
              "      border-bottom-color: var(--fill-color);\n",
              "    }\n",
              "    90% {\n",
              "      border-color: transparent;\n",
              "      border-bottom-color: var(--fill-color);\n",
              "    }\n",
              "  }\n",
              "</style>\n",
              "\n",
              "  <script>\n",
              "    async function quickchart(key) {\n",
              "      const quickchartButtonEl =\n",
              "        document.querySelector('#' + key + ' button');\n",
              "      quickchartButtonEl.disabled = true;  // To prevent multiple clicks.\n",
              "      quickchartButtonEl.classList.add('colab-df-spinner');\n",
              "      try {\n",
              "        const charts = await google.colab.kernel.invokeFunction(\n",
              "            'suggestCharts', [key], {});\n",
              "      } catch (error) {\n",
              "        console.error('Error during call to suggestCharts:', error);\n",
              "      }\n",
              "      quickchartButtonEl.classList.remove('colab-df-spinner');\n",
              "      quickchartButtonEl.classList.add('colab-df-quickchart-complete');\n",
              "    }\n",
              "    (() => {\n",
              "      let quickchartButtonEl =\n",
              "        document.querySelector('#df-5aa8a73f-4441-48f1-ba31-c5f6031a196b button');\n",
              "      quickchartButtonEl.style.display =\n",
              "        google.colab.kernel.accessAllowed ? 'block' : 'none';\n",
              "    })();\n",
              "  </script>\n",
              "</div>\n",
              "\n",
              "    </div>\n",
              "  </div>\n"
            ],
            "application/vnd.google.colaboratory.intrinsic+json": {
              "type": "dataframe",
              "variable_name": "dataset",
              "summary": "{\n  \"name\": \"dataset\",\n  \"rows\": 901,\n  \"fields\": [\n    {\n      \"column\": \"SEAS\",\n      \"properties\": {\n        \"dtype\": \"category\",\n        \"num_unique_values\": 12,\n        \"samples\": [\n          \"OND\",\n          \"SON\",\n          \"DJF\"\n        ],\n        \"semantic_type\": \"\",\n        \"description\": \"\"\n      }\n    },\n    {\n      \"column\": \"YR\",\n      \"properties\": {\n        \"dtype\": \"number\",\n        \"std\": 21,\n        \"min\": 1950,\n        \"max\": 2025,\n        \"num_unique_values\": 76,\n        \"samples\": [\n          1954,\n          1985,\n          1960\n        ],\n        \"semantic_type\": \"\",\n        \"description\": \"\"\n      }\n    },\n    {\n      \"column\": \"TOTAL\",\n      \"properties\": {\n        \"dtype\": \"number\",\n        \"std\": 0.9436857498266814,\n        \"min\": 24.38,\n        \"max\": 29.26,\n        \"num_unique_values\": 355,\n        \"samples\": [\n          27.06,\n          26.91,\n          27.76\n        ],\n        \"semantic_type\": \"\",\n        \"description\": \"\"\n      }\n    },\n    {\n      \"column\": \"ANOM\",\n      \"properties\": {\n        \"dtype\": \"number\",\n        \"std\": 0.8362091586798466,\n        \"min\": -2.03,\n        \"max\": 2.64,\n        \"num_unique_values\": 314,\n        \"samples\": [\n          1.29,\n          0.4,\n          -0.81\n        ],\n        \"semantic_type\": \"\",\n        \"description\": \"\"\n      }\n    }\n  ]\n}"
            }
          },
          "metadata": {},
          "execution_count": 3
        }
      ]
    },
    {
      "cell_type": "code",
      "source": [
        "dataset.tail()"
      ],
      "metadata": {
        "colab": {
          "base_uri": "https://localhost:8080/",
          "height": 206
        },
        "id": "ep-nRwNHrnsk",
        "outputId": "51eec25d-cc8e-4ad2-949a-91173706ffdd"
      },
      "execution_count": 4,
      "outputs": [
        {
          "output_type": "execute_result",
          "data": {
            "text/plain": [
              "    SEAS    YR  TOTAL  ANOM\n",
              "896  ASO  2024  26.55 -0.21\n",
              "897  SON  2024  26.45 -0.26\n",
              "898  OND  2024  26.30 -0.37\n",
              "899  NDJ  2024  26.09 -0.53\n",
              "900  DJF  2025  25.99 -0.64"
            ],
            "text/html": [
              "\n",
              "  <div id=\"df-a1d20482-91fd-4340-a352-4963adda6bf7\" class=\"colab-df-container\">\n",
              "    <div>\n",
              "<style scoped>\n",
              "    .dataframe tbody tr th:only-of-type {\n",
              "        vertical-align: middle;\n",
              "    }\n",
              "\n",
              "    .dataframe tbody tr th {\n",
              "        vertical-align: top;\n",
              "    }\n",
              "\n",
              "    .dataframe thead th {\n",
              "        text-align: right;\n",
              "    }\n",
              "</style>\n",
              "<table border=\"1\" class=\"dataframe\">\n",
              "  <thead>\n",
              "    <tr style=\"text-align: right;\">\n",
              "      <th></th>\n",
              "      <th>SEAS</th>\n",
              "      <th>YR</th>\n",
              "      <th>TOTAL</th>\n",
              "      <th>ANOM</th>\n",
              "    </tr>\n",
              "  </thead>\n",
              "  <tbody>\n",
              "    <tr>\n",
              "      <th>896</th>\n",
              "      <td>ASO</td>\n",
              "      <td>2024</td>\n",
              "      <td>26.55</td>\n",
              "      <td>-0.21</td>\n",
              "    </tr>\n",
              "    <tr>\n",
              "      <th>897</th>\n",
              "      <td>SON</td>\n",
              "      <td>2024</td>\n",
              "      <td>26.45</td>\n",
              "      <td>-0.26</td>\n",
              "    </tr>\n",
              "    <tr>\n",
              "      <th>898</th>\n",
              "      <td>OND</td>\n",
              "      <td>2024</td>\n",
              "      <td>26.30</td>\n",
              "      <td>-0.37</td>\n",
              "    </tr>\n",
              "    <tr>\n",
              "      <th>899</th>\n",
              "      <td>NDJ</td>\n",
              "      <td>2024</td>\n",
              "      <td>26.09</td>\n",
              "      <td>-0.53</td>\n",
              "    </tr>\n",
              "    <tr>\n",
              "      <th>900</th>\n",
              "      <td>DJF</td>\n",
              "      <td>2025</td>\n",
              "      <td>25.99</td>\n",
              "      <td>-0.64</td>\n",
              "    </tr>\n",
              "  </tbody>\n",
              "</table>\n",
              "</div>\n",
              "    <div class=\"colab-df-buttons\">\n",
              "\n",
              "  <div class=\"colab-df-container\">\n",
              "    <button class=\"colab-df-convert\" onclick=\"convertToInteractive('df-a1d20482-91fd-4340-a352-4963adda6bf7')\"\n",
              "            title=\"Convert this dataframe to an interactive table.\"\n",
              "            style=\"display:none;\">\n",
              "\n",
              "  <svg xmlns=\"http://www.w3.org/2000/svg\" height=\"24px\" viewBox=\"0 -960 960 960\">\n",
              "    <path d=\"M120-120v-720h720v720H120Zm60-500h600v-160H180v160Zm220 220h160v-160H400v160Zm0 220h160v-160H400v160ZM180-400h160v-160H180v160Zm440 0h160v-160H620v160ZM180-180h160v-160H180v160Zm440 0h160v-160H620v160Z\"/>\n",
              "  </svg>\n",
              "    </button>\n",
              "\n",
              "  <style>\n",
              "    .colab-df-container {\n",
              "      display:flex;\n",
              "      gap: 12px;\n",
              "    }\n",
              "\n",
              "    .colab-df-convert {\n",
              "      background-color: #E8F0FE;\n",
              "      border: none;\n",
              "      border-radius: 50%;\n",
              "      cursor: pointer;\n",
              "      display: none;\n",
              "      fill: #1967D2;\n",
              "      height: 32px;\n",
              "      padding: 0 0 0 0;\n",
              "      width: 32px;\n",
              "    }\n",
              "\n",
              "    .colab-df-convert:hover {\n",
              "      background-color: #E2EBFA;\n",
              "      box-shadow: 0px 1px 2px rgba(60, 64, 67, 0.3), 0px 1px 3px 1px rgba(60, 64, 67, 0.15);\n",
              "      fill: #174EA6;\n",
              "    }\n",
              "\n",
              "    .colab-df-buttons div {\n",
              "      margin-bottom: 4px;\n",
              "    }\n",
              "\n",
              "    [theme=dark] .colab-df-convert {\n",
              "      background-color: #3B4455;\n",
              "      fill: #D2E3FC;\n",
              "    }\n",
              "\n",
              "    [theme=dark] .colab-df-convert:hover {\n",
              "      background-color: #434B5C;\n",
              "      box-shadow: 0px 1px 3px 1px rgba(0, 0, 0, 0.15);\n",
              "      filter: drop-shadow(0px 1px 2px rgba(0, 0, 0, 0.3));\n",
              "      fill: #FFFFFF;\n",
              "    }\n",
              "  </style>\n",
              "\n",
              "    <script>\n",
              "      const buttonEl =\n",
              "        document.querySelector('#df-a1d20482-91fd-4340-a352-4963adda6bf7 button.colab-df-convert');\n",
              "      buttonEl.style.display =\n",
              "        google.colab.kernel.accessAllowed ? 'block' : 'none';\n",
              "\n",
              "      async function convertToInteractive(key) {\n",
              "        const element = document.querySelector('#df-a1d20482-91fd-4340-a352-4963adda6bf7');\n",
              "        const dataTable =\n",
              "          await google.colab.kernel.invokeFunction('convertToInteractive',\n",
              "                                                    [key], {});\n",
              "        if (!dataTable) return;\n",
              "\n",
              "        const docLinkHtml = 'Like what you see? Visit the ' +\n",
              "          '<a target=\"_blank\" href=https://colab.research.google.com/notebooks/data_table.ipynb>data table notebook</a>'\n",
              "          + ' to learn more about interactive tables.';\n",
              "        element.innerHTML = '';\n",
              "        dataTable['output_type'] = 'display_data';\n",
              "        await google.colab.output.renderOutput(dataTable, element);\n",
              "        const docLink = document.createElement('div');\n",
              "        docLink.innerHTML = docLinkHtml;\n",
              "        element.appendChild(docLink);\n",
              "      }\n",
              "    </script>\n",
              "  </div>\n",
              "\n",
              "\n",
              "<div id=\"df-34fbb7ef-cfa9-4bef-8b5d-31db690ec4af\">\n",
              "  <button class=\"colab-df-quickchart\" onclick=\"quickchart('df-34fbb7ef-cfa9-4bef-8b5d-31db690ec4af')\"\n",
              "            title=\"Suggest charts\"\n",
              "            style=\"display:none;\">\n",
              "\n",
              "<svg xmlns=\"http://www.w3.org/2000/svg\" height=\"24px\"viewBox=\"0 0 24 24\"\n",
              "     width=\"24px\">\n",
              "    <g>\n",
              "        <path d=\"M19 3H5c-1.1 0-2 .9-2 2v14c0 1.1.9 2 2 2h14c1.1 0 2-.9 2-2V5c0-1.1-.9-2-2-2zM9 17H7v-7h2v7zm4 0h-2V7h2v10zm4 0h-2v-4h2v4z\"/>\n",
              "    </g>\n",
              "</svg>\n",
              "  </button>\n",
              "\n",
              "<style>\n",
              "  .colab-df-quickchart {\n",
              "      --bg-color: #E8F0FE;\n",
              "      --fill-color: #1967D2;\n",
              "      --hover-bg-color: #E2EBFA;\n",
              "      --hover-fill-color: #174EA6;\n",
              "      --disabled-fill-color: #AAA;\n",
              "      --disabled-bg-color: #DDD;\n",
              "  }\n",
              "\n",
              "  [theme=dark] .colab-df-quickchart {\n",
              "      --bg-color: #3B4455;\n",
              "      --fill-color: #D2E3FC;\n",
              "      --hover-bg-color: #434B5C;\n",
              "      --hover-fill-color: #FFFFFF;\n",
              "      --disabled-bg-color: #3B4455;\n",
              "      --disabled-fill-color: #666;\n",
              "  }\n",
              "\n",
              "  .colab-df-quickchart {\n",
              "    background-color: var(--bg-color);\n",
              "    border: none;\n",
              "    border-radius: 50%;\n",
              "    cursor: pointer;\n",
              "    display: none;\n",
              "    fill: var(--fill-color);\n",
              "    height: 32px;\n",
              "    padding: 0;\n",
              "    width: 32px;\n",
              "  }\n",
              "\n",
              "  .colab-df-quickchart:hover {\n",
              "    background-color: var(--hover-bg-color);\n",
              "    box-shadow: 0 1px 2px rgba(60, 64, 67, 0.3), 0 1px 3px 1px rgba(60, 64, 67, 0.15);\n",
              "    fill: var(--button-hover-fill-color);\n",
              "  }\n",
              "\n",
              "  .colab-df-quickchart-complete:disabled,\n",
              "  .colab-df-quickchart-complete:disabled:hover {\n",
              "    background-color: var(--disabled-bg-color);\n",
              "    fill: var(--disabled-fill-color);\n",
              "    box-shadow: none;\n",
              "  }\n",
              "\n",
              "  .colab-df-spinner {\n",
              "    border: 2px solid var(--fill-color);\n",
              "    border-color: transparent;\n",
              "    border-bottom-color: var(--fill-color);\n",
              "    animation:\n",
              "      spin 1s steps(1) infinite;\n",
              "  }\n",
              "\n",
              "  @keyframes spin {\n",
              "    0% {\n",
              "      border-color: transparent;\n",
              "      border-bottom-color: var(--fill-color);\n",
              "      border-left-color: var(--fill-color);\n",
              "    }\n",
              "    20% {\n",
              "      border-color: transparent;\n",
              "      border-left-color: var(--fill-color);\n",
              "      border-top-color: var(--fill-color);\n",
              "    }\n",
              "    30% {\n",
              "      border-color: transparent;\n",
              "      border-left-color: var(--fill-color);\n",
              "      border-top-color: var(--fill-color);\n",
              "      border-right-color: var(--fill-color);\n",
              "    }\n",
              "    40% {\n",
              "      border-color: transparent;\n",
              "      border-right-color: var(--fill-color);\n",
              "      border-top-color: var(--fill-color);\n",
              "    }\n",
              "    60% {\n",
              "      border-color: transparent;\n",
              "      border-right-color: var(--fill-color);\n",
              "    }\n",
              "    80% {\n",
              "      border-color: transparent;\n",
              "      border-right-color: var(--fill-color);\n",
              "      border-bottom-color: var(--fill-color);\n",
              "    }\n",
              "    90% {\n",
              "      border-color: transparent;\n",
              "      border-bottom-color: var(--fill-color);\n",
              "    }\n",
              "  }\n",
              "</style>\n",
              "\n",
              "  <script>\n",
              "    async function quickchart(key) {\n",
              "      const quickchartButtonEl =\n",
              "        document.querySelector('#' + key + ' button');\n",
              "      quickchartButtonEl.disabled = true;  // To prevent multiple clicks.\n",
              "      quickchartButtonEl.classList.add('colab-df-spinner');\n",
              "      try {\n",
              "        const charts = await google.colab.kernel.invokeFunction(\n",
              "            'suggestCharts', [key], {});\n",
              "      } catch (error) {\n",
              "        console.error('Error during call to suggestCharts:', error);\n",
              "      }\n",
              "      quickchartButtonEl.classList.remove('colab-df-spinner');\n",
              "      quickchartButtonEl.classList.add('colab-df-quickchart-complete');\n",
              "    }\n",
              "    (() => {\n",
              "      let quickchartButtonEl =\n",
              "        document.querySelector('#df-34fbb7ef-cfa9-4bef-8b5d-31db690ec4af button');\n",
              "      quickchartButtonEl.style.display =\n",
              "        google.colab.kernel.accessAllowed ? 'block' : 'none';\n",
              "    })();\n",
              "  </script>\n",
              "</div>\n",
              "\n",
              "    </div>\n",
              "  </div>\n"
            ],
            "application/vnd.google.colaboratory.intrinsic+json": {
              "type": "dataframe",
              "summary": "{\n  \"name\": \"dataset\",\n  \"rows\": 5,\n  \"fields\": [\n    {\n      \"column\": \"SEAS\",\n      \"properties\": {\n        \"dtype\": \"string\",\n        \"num_unique_values\": 5,\n        \"samples\": [\n          \"SON\",\n          \"DJF\",\n          \"OND\"\n        ],\n        \"semantic_type\": \"\",\n        \"description\": \"\"\n      }\n    },\n    {\n      \"column\": \"YR\",\n      \"properties\": {\n        \"dtype\": \"number\",\n        \"std\": 0,\n        \"min\": 2024,\n        \"max\": 2025,\n        \"num_unique_values\": 2,\n        \"samples\": [\n          2025,\n          2024\n        ],\n        \"semantic_type\": \"\",\n        \"description\": \"\"\n      }\n    },\n    {\n      \"column\": \"TOTAL\",\n      \"properties\": {\n        \"dtype\": \"number\",\n        \"std\": 0.2357541091900633,\n        \"min\": 25.99,\n        \"max\": 26.55,\n        \"num_unique_values\": 5,\n        \"samples\": [\n          26.45,\n          25.99\n        ],\n        \"semantic_type\": \"\",\n        \"description\": \"\"\n      }\n    },\n    {\n      \"column\": \"ANOM\",\n      \"properties\": {\n        \"dtype\": \"number\",\n        \"std\": 0.18102486017119307,\n        \"min\": -0.64,\n        \"max\": -0.21,\n        \"num_unique_values\": 5,\n        \"samples\": [\n          -0.26,\n          -0.64\n        ],\n        \"semantic_type\": \"\",\n        \"description\": \"\"\n      }\n    }\n  ]\n}"
            }
          },
          "metadata": {},
          "execution_count": 4
        }
      ]
    },
    {
      "cell_type": "code",
      "source": [
        "# drop any nans\n",
        "dataset = dataset.dropna(subset=[\"ANOM\"])"
      ],
      "metadata": {
        "id": "5RcTG8sEqmbb"
      },
      "execution_count": 5,
      "outputs": []
    },
    {
      "cell_type": "code",
      "source": [
        "# quick stats\n",
        "dataset.describe()"
      ],
      "metadata": {
        "colab": {
          "base_uri": "https://localhost:8080/",
          "height": 300
        },
        "id": "EipN-1z-vGAZ",
        "outputId": "ae9ccef6-f9d8-498a-8050-050dd73968e7"
      },
      "execution_count": 6,
      "outputs": [
        {
          "output_type": "execute_result",
          "data": {
            "text/plain": [
              "                YR       TOTAL        ANOM\n",
              "count   901.000000  901.000000  901.000000\n",
              "mean   1987.042175   26.904517    0.012908\n",
              "std      21.685694    0.943686    0.836209\n",
              "min    1950.000000   24.380000   -2.030000\n",
              "25%    1968.000000   26.230000   -0.570000\n",
              "50%    1987.000000   26.950000   -0.050000\n",
              "75%    2006.000000   27.540000    0.530000\n",
              "max    2025.000000   29.260000    2.640000"
            ],
            "text/html": [
              "\n",
              "  <div id=\"df-2d9016e8-b5c5-4b16-8d31-9620b63ef647\" class=\"colab-df-container\">\n",
              "    <div>\n",
              "<style scoped>\n",
              "    .dataframe tbody tr th:only-of-type {\n",
              "        vertical-align: middle;\n",
              "    }\n",
              "\n",
              "    .dataframe tbody tr th {\n",
              "        vertical-align: top;\n",
              "    }\n",
              "\n",
              "    .dataframe thead th {\n",
              "        text-align: right;\n",
              "    }\n",
              "</style>\n",
              "<table border=\"1\" class=\"dataframe\">\n",
              "  <thead>\n",
              "    <tr style=\"text-align: right;\">\n",
              "      <th></th>\n",
              "      <th>YR</th>\n",
              "      <th>TOTAL</th>\n",
              "      <th>ANOM</th>\n",
              "    </tr>\n",
              "  </thead>\n",
              "  <tbody>\n",
              "    <tr>\n",
              "      <th>count</th>\n",
              "      <td>901.000000</td>\n",
              "      <td>901.000000</td>\n",
              "      <td>901.000000</td>\n",
              "    </tr>\n",
              "    <tr>\n",
              "      <th>mean</th>\n",
              "      <td>1987.042175</td>\n",
              "      <td>26.904517</td>\n",
              "      <td>0.012908</td>\n",
              "    </tr>\n",
              "    <tr>\n",
              "      <th>std</th>\n",
              "      <td>21.685694</td>\n",
              "      <td>0.943686</td>\n",
              "      <td>0.836209</td>\n",
              "    </tr>\n",
              "    <tr>\n",
              "      <th>min</th>\n",
              "      <td>1950.000000</td>\n",
              "      <td>24.380000</td>\n",
              "      <td>-2.030000</td>\n",
              "    </tr>\n",
              "    <tr>\n",
              "      <th>25%</th>\n",
              "      <td>1968.000000</td>\n",
              "      <td>26.230000</td>\n",
              "      <td>-0.570000</td>\n",
              "    </tr>\n",
              "    <tr>\n",
              "      <th>50%</th>\n",
              "      <td>1987.000000</td>\n",
              "      <td>26.950000</td>\n",
              "      <td>-0.050000</td>\n",
              "    </tr>\n",
              "    <tr>\n",
              "      <th>75%</th>\n",
              "      <td>2006.000000</td>\n",
              "      <td>27.540000</td>\n",
              "      <td>0.530000</td>\n",
              "    </tr>\n",
              "    <tr>\n",
              "      <th>max</th>\n",
              "      <td>2025.000000</td>\n",
              "      <td>29.260000</td>\n",
              "      <td>2.640000</td>\n",
              "    </tr>\n",
              "  </tbody>\n",
              "</table>\n",
              "</div>\n",
              "    <div class=\"colab-df-buttons\">\n",
              "\n",
              "  <div class=\"colab-df-container\">\n",
              "    <button class=\"colab-df-convert\" onclick=\"convertToInteractive('df-2d9016e8-b5c5-4b16-8d31-9620b63ef647')\"\n",
              "            title=\"Convert this dataframe to an interactive table.\"\n",
              "            style=\"display:none;\">\n",
              "\n",
              "  <svg xmlns=\"http://www.w3.org/2000/svg\" height=\"24px\" viewBox=\"0 -960 960 960\">\n",
              "    <path d=\"M120-120v-720h720v720H120Zm60-500h600v-160H180v160Zm220 220h160v-160H400v160Zm0 220h160v-160H400v160ZM180-400h160v-160H180v160Zm440 0h160v-160H620v160ZM180-180h160v-160H180v160Zm440 0h160v-160H620v160Z\"/>\n",
              "  </svg>\n",
              "    </button>\n",
              "\n",
              "  <style>\n",
              "    .colab-df-container {\n",
              "      display:flex;\n",
              "      gap: 12px;\n",
              "    }\n",
              "\n",
              "    .colab-df-convert {\n",
              "      background-color: #E8F0FE;\n",
              "      border: none;\n",
              "      border-radius: 50%;\n",
              "      cursor: pointer;\n",
              "      display: none;\n",
              "      fill: #1967D2;\n",
              "      height: 32px;\n",
              "      padding: 0 0 0 0;\n",
              "      width: 32px;\n",
              "    }\n",
              "\n",
              "    .colab-df-convert:hover {\n",
              "      background-color: #E2EBFA;\n",
              "      box-shadow: 0px 1px 2px rgba(60, 64, 67, 0.3), 0px 1px 3px 1px rgba(60, 64, 67, 0.15);\n",
              "      fill: #174EA6;\n",
              "    }\n",
              "\n",
              "    .colab-df-buttons div {\n",
              "      margin-bottom: 4px;\n",
              "    }\n",
              "\n",
              "    [theme=dark] .colab-df-convert {\n",
              "      background-color: #3B4455;\n",
              "      fill: #D2E3FC;\n",
              "    }\n",
              "\n",
              "    [theme=dark] .colab-df-convert:hover {\n",
              "      background-color: #434B5C;\n",
              "      box-shadow: 0px 1px 3px 1px rgba(0, 0, 0, 0.15);\n",
              "      filter: drop-shadow(0px 1px 2px rgba(0, 0, 0, 0.3));\n",
              "      fill: #FFFFFF;\n",
              "    }\n",
              "  </style>\n",
              "\n",
              "    <script>\n",
              "      const buttonEl =\n",
              "        document.querySelector('#df-2d9016e8-b5c5-4b16-8d31-9620b63ef647 button.colab-df-convert');\n",
              "      buttonEl.style.display =\n",
              "        google.colab.kernel.accessAllowed ? 'block' : 'none';\n",
              "\n",
              "      async function convertToInteractive(key) {\n",
              "        const element = document.querySelector('#df-2d9016e8-b5c5-4b16-8d31-9620b63ef647');\n",
              "        const dataTable =\n",
              "          await google.colab.kernel.invokeFunction('convertToInteractive',\n",
              "                                                    [key], {});\n",
              "        if (!dataTable) return;\n",
              "\n",
              "        const docLinkHtml = 'Like what you see? Visit the ' +\n",
              "          '<a target=\"_blank\" href=https://colab.research.google.com/notebooks/data_table.ipynb>data table notebook</a>'\n",
              "          + ' to learn more about interactive tables.';\n",
              "        element.innerHTML = '';\n",
              "        dataTable['output_type'] = 'display_data';\n",
              "        await google.colab.output.renderOutput(dataTable, element);\n",
              "        const docLink = document.createElement('div');\n",
              "        docLink.innerHTML = docLinkHtml;\n",
              "        element.appendChild(docLink);\n",
              "      }\n",
              "    </script>\n",
              "  </div>\n",
              "\n",
              "\n",
              "<div id=\"df-c79a0b84-7aed-4bc0-99cd-4a63ac800885\">\n",
              "  <button class=\"colab-df-quickchart\" onclick=\"quickchart('df-c79a0b84-7aed-4bc0-99cd-4a63ac800885')\"\n",
              "            title=\"Suggest charts\"\n",
              "            style=\"display:none;\">\n",
              "\n",
              "<svg xmlns=\"http://www.w3.org/2000/svg\" height=\"24px\"viewBox=\"0 0 24 24\"\n",
              "     width=\"24px\">\n",
              "    <g>\n",
              "        <path d=\"M19 3H5c-1.1 0-2 .9-2 2v14c0 1.1.9 2 2 2h14c1.1 0 2-.9 2-2V5c0-1.1-.9-2-2-2zM9 17H7v-7h2v7zm4 0h-2V7h2v10zm4 0h-2v-4h2v4z\"/>\n",
              "    </g>\n",
              "</svg>\n",
              "  </button>\n",
              "\n",
              "<style>\n",
              "  .colab-df-quickchart {\n",
              "      --bg-color: #E8F0FE;\n",
              "      --fill-color: #1967D2;\n",
              "      --hover-bg-color: #E2EBFA;\n",
              "      --hover-fill-color: #174EA6;\n",
              "      --disabled-fill-color: #AAA;\n",
              "      --disabled-bg-color: #DDD;\n",
              "  }\n",
              "\n",
              "  [theme=dark] .colab-df-quickchart {\n",
              "      --bg-color: #3B4455;\n",
              "      --fill-color: #D2E3FC;\n",
              "      --hover-bg-color: #434B5C;\n",
              "      --hover-fill-color: #FFFFFF;\n",
              "      --disabled-bg-color: #3B4455;\n",
              "      --disabled-fill-color: #666;\n",
              "  }\n",
              "\n",
              "  .colab-df-quickchart {\n",
              "    background-color: var(--bg-color);\n",
              "    border: none;\n",
              "    border-radius: 50%;\n",
              "    cursor: pointer;\n",
              "    display: none;\n",
              "    fill: var(--fill-color);\n",
              "    height: 32px;\n",
              "    padding: 0;\n",
              "    width: 32px;\n",
              "  }\n",
              "\n",
              "  .colab-df-quickchart:hover {\n",
              "    background-color: var(--hover-bg-color);\n",
              "    box-shadow: 0 1px 2px rgba(60, 64, 67, 0.3), 0 1px 3px 1px rgba(60, 64, 67, 0.15);\n",
              "    fill: var(--button-hover-fill-color);\n",
              "  }\n",
              "\n",
              "  .colab-df-quickchart-complete:disabled,\n",
              "  .colab-df-quickchart-complete:disabled:hover {\n",
              "    background-color: var(--disabled-bg-color);\n",
              "    fill: var(--disabled-fill-color);\n",
              "    box-shadow: none;\n",
              "  }\n",
              "\n",
              "  .colab-df-spinner {\n",
              "    border: 2px solid var(--fill-color);\n",
              "    border-color: transparent;\n",
              "    border-bottom-color: var(--fill-color);\n",
              "    animation:\n",
              "      spin 1s steps(1) infinite;\n",
              "  }\n",
              "\n",
              "  @keyframes spin {\n",
              "    0% {\n",
              "      border-color: transparent;\n",
              "      border-bottom-color: var(--fill-color);\n",
              "      border-left-color: var(--fill-color);\n",
              "    }\n",
              "    20% {\n",
              "      border-color: transparent;\n",
              "      border-left-color: var(--fill-color);\n",
              "      border-top-color: var(--fill-color);\n",
              "    }\n",
              "    30% {\n",
              "      border-color: transparent;\n",
              "      border-left-color: var(--fill-color);\n",
              "      border-top-color: var(--fill-color);\n",
              "      border-right-color: var(--fill-color);\n",
              "    }\n",
              "    40% {\n",
              "      border-color: transparent;\n",
              "      border-right-color: var(--fill-color);\n",
              "      border-top-color: var(--fill-color);\n",
              "    }\n",
              "    60% {\n",
              "      border-color: transparent;\n",
              "      border-right-color: var(--fill-color);\n",
              "    }\n",
              "    80% {\n",
              "      border-color: transparent;\n",
              "      border-right-color: var(--fill-color);\n",
              "      border-bottom-color: var(--fill-color);\n",
              "    }\n",
              "    90% {\n",
              "      border-color: transparent;\n",
              "      border-bottom-color: var(--fill-color);\n",
              "    }\n",
              "  }\n",
              "</style>\n",
              "\n",
              "  <script>\n",
              "    async function quickchart(key) {\n",
              "      const quickchartButtonEl =\n",
              "        document.querySelector('#' + key + ' button');\n",
              "      quickchartButtonEl.disabled = true;  // To prevent multiple clicks.\n",
              "      quickchartButtonEl.classList.add('colab-df-spinner');\n",
              "      try {\n",
              "        const charts = await google.colab.kernel.invokeFunction(\n",
              "            'suggestCharts', [key], {});\n",
              "      } catch (error) {\n",
              "        console.error('Error during call to suggestCharts:', error);\n",
              "      }\n",
              "      quickchartButtonEl.classList.remove('colab-df-spinner');\n",
              "      quickchartButtonEl.classList.add('colab-df-quickchart-complete');\n",
              "    }\n",
              "    (() => {\n",
              "      let quickchartButtonEl =\n",
              "        document.querySelector('#df-c79a0b84-7aed-4bc0-99cd-4a63ac800885 button');\n",
              "      quickchartButtonEl.style.display =\n",
              "        google.colab.kernel.accessAllowed ? 'block' : 'none';\n",
              "    })();\n",
              "  </script>\n",
              "</div>\n",
              "\n",
              "    </div>\n",
              "  </div>\n"
            ],
            "application/vnd.google.colaboratory.intrinsic+json": {
              "type": "dataframe",
              "summary": "{\n  \"name\": \"dataset\",\n  \"rows\": 8,\n  \"fields\": [\n    {\n      \"column\": \"YR\",\n      \"properties\": {\n        \"dtype\": \"number\",\n        \"std\": 744.731141691054,\n        \"min\": 21.68569414092293,\n        \"max\": 2025.0,\n        \"num_unique_values\": 8,\n        \"samples\": [\n          1987.0421753607104,\n          1987.0,\n          901.0\n        ],\n        \"semantic_type\": \"\",\n        \"description\": \"\"\n      }\n    },\n    {\n      \"column\": \"TOTAL\",\n      \"properties\": {\n        \"dtype\": \"number\",\n        \"std\": 310.4944403080411,\n        \"min\": 0.9436857498266814,\n        \"max\": 901.0,\n        \"num_unique_values\": 8,\n        \"samples\": [\n          26.90451720310766,\n          26.95,\n          901.0\n        ],\n        \"semantic_type\": \"\",\n        \"description\": \"\"\n      }\n    },\n    {\n      \"column\": \"ANOM\",\n      \"properties\": {\n        \"dtype\": \"number\",\n        \"std\": 318.4851746469291,\n        \"min\": -2.03,\n        \"max\": 901.0,\n        \"num_unique_values\": 8,\n        \"samples\": [\n          0.012907880133185357,\n          -0.05,\n          901.0\n        ],\n        \"semantic_type\": \"\",\n        \"description\": \"\"\n      }\n    }\n  ]\n}"
            }
          },
          "metadata": {},
          "execution_count": 6
        }
      ]
    },
    {
      "cell_type": "code",
      "source": [
        "# quick viz\n",
        "# djf only\n",
        "dataset[dataset[\"SEAS\"]==\"DJF\"].plot(\"YR\",\"ANOM\")"
      ],
      "metadata": {
        "colab": {
          "base_uri": "https://localhost:8080/",
          "height": 466
        },
        "id": "3QEaavkavtQG",
        "outputId": "19c53050-e837-4c3d-89ec-aa58cd5af2d3"
      },
      "execution_count": 7,
      "outputs": [
        {
          "output_type": "execute_result",
          "data": {
            "text/plain": [
              "<Axes: xlabel='YR'>"
            ]
          },
          "metadata": {},
          "execution_count": 7
        },
        {
          "output_type": "display_data",
          "data": {
            "text/plain": [
              "<Figure size 640x480 with 1 Axes>"
            ],
            "image/png": "[encoded data removed]"
          },
          "metadata": {}
        }
      ]
    },
    {
      "cell_type": "code",
      "source": [
        "# train test split by years\n",
        "trainds = dataset[dataset[\"YR\"]<=2010]\n",
        "testsds = dataset[dataset[\"YR\"]>2010]"
      ],
      "metadata": {
        "id": "NtRnXk5nwQbP"
      },
      "execution_count": 8,
      "outputs": []
    },
    {
      "cell_type": "code",
      "source": [
        "# grab anoms columns (ONI) and reset index\n",
        "# reshape to be (samples, features)\n",
        "# number of features here is just 1 (ONI)\n",
        "trainds = trainds.reset_index(drop=True)[\"ANOM\"].values.reshape(-1, 1)\n",
        "testsds = testsds.reset_index(drop=True)[\"ANOM\"].values.reshape(-1, 1)"
      ],
      "metadata": {
        "id": "_O7iYwVZvEyB"
      },
      "execution_count": 9,
      "outputs": []
    },
    {
      "cell_type": "code",
      "source": [
        "# checking shapes -- make sure (samples, features)\n",
        "print(trainds.shape, testsds.shape)"
      ],
      "metadata": {
        "colab": {
          "base_uri": "https://localhost:8080/"
        },
        "id": "-qRzFiAK5oln",
        "outputId": "6b7c309e-920a-461d-b64a-d163ae1456e0"
      },
      "execution_count": 10,
      "outputs": [
        {
          "output_type": "stream",
          "name": "stdout",
          "text": [
            "(732, 1) (169, 1)\n"
          ]
        }
      ]
    },
    {
      "cell_type": "code",
      "source": [
        "# Feature Scaling\n",
        "sc = MinMaxScaler(feature_range=(0,1))"
      ],
      "metadata": {
        "id": "7S-QdRBHmCjm"
      },
      "execution_count": 11,
      "outputs": []
    },
    {
      "cell_type": "code",
      "source": [
        "# do rescaling\n",
        "trainds_scaled = sc.fit_transform(trainds)\n",
        "testsds_scaled = sc.transform(testsds)"
      ],
      "metadata": {
        "id": "a6M2k9RF8cXZ"
      },
      "execution_count": 12,
      "outputs": []
    },
    {
      "cell_type": "markdown",
      "source": [
        "# Why do we need a time series generator for RNNs?"
      ],
      "metadata": {
        "id": "_uUT7O7_6Vj9"
      }
    },
    {
      "cell_type": "code",
      "source": [
        "# for help with data manipulation for time series rnn training; we can use the time series generator from keras\n",
        "\n",
        "# dummy input for understanding\n",
        "data = np.array([[i] for i in range(100)])\n",
        "\n",
        "n_input=4 # the length of the input sequence\n",
        "n_features=1 # the number of features\n",
        "\n",
        "# here we are using the input to predict the next value(s) in the sequence (many-to-one)\n",
        "# in other words, the input and target are the same data source\n",
        "# but we don't have to deal with separating them, the generator does this for us!\n",
        "inpdata = data[:-n_input]\n",
        "outdata = data[n_input:]\n",
        "\n",
        "# check shapes\n",
        "print(inpdata.shape, outdata.shape)\n",
        "print(inpdata[:4])\n",
        "print(outdata[:4])"
      ],
      "metadata": {
        "colab": {
          "base_uri": "https://localhost:8080/"
        },
        "id": "oJcgBvaU7w8h",
        "outputId": "44c4d961-8181-4072-c7ba-2ac973aee26e"
      },
      "execution_count": 13,
      "outputs": [
        {
          "output_type": "stream",
          "name": "stdout",
          "text": [
            "(96, 1) (96, 1)\n",
            "[[0]\n",
            " [1]\n",
            " [2]\n",
            " [3]]\n",
            "[[4]\n",
            " [5]\n",
            " [6]\n",
            " [7]]\n"
          ]
        }
      ]
    },
    {
      "cell_type": "code",
      "source": [
        "# For many-to-one, we can set the timeseries generator to have different\n",
        "# data and targets as below\n",
        "data_gen = keras.utils.timeseries_dataset_from_array(\n",
        "    data=inpdata,\n",
        "    targets=outdata,\n",
        "    sequence_length=4, # Length of the data sequences\n",
        "    sequence_stride=5, # Period between successive output sequences\n",
        "    sampling_rate=1,   # Period between successive individual timesteps (problematic if > 1)\n",
        "    batch_size=3,\n",
        "    shuffle=False,\n",
        "    seed=1,\n",
        "    start_index=None,\n",
        "    end_index=None,\n",
        ")"
      ],
      "metadata": {
        "id": "CRzwmFZH6WgX"
      },
      "execution_count": 14,
      "outputs": []
    },
    {
      "cell_type": "code",
      "source": [
        "for batch in data_gen:\n",
        "  inputs, targets = batch\n",
        "  print(f\"Inputs: {inputs}\")\n",
        "  print(f\"Targets: {targets}\")\n",
        "  break"
      ],
      "metadata": {
        "colab": {
          "base_uri": "https://localhost:8080/"
        },
        "id": "UkB9bRKJEpxC",
        "outputId": "dc45322b-c92e-49b0-a3f5-7828e4f2f9c5"
      },
      "execution_count": 15,
      "outputs": [
        {
          "output_type": "stream",
          "name": "stdout",
          "text": [
            "Inputs: [[[ 0]\n",
            "  [ 1]\n",
            "  [ 2]\n",
            "  [ 3]]\n",
            "\n",
            " [[ 5]\n",
            "  [ 6]\n",
            "  [ 7]\n",
            "  [ 8]]\n",
            "\n",
            " [[10]\n",
            "  [11]\n",
            "  [12]\n",
            "  [13]]]\n",
            "Targets: [[ 4]\n",
            " [ 9]\n",
            " [14]]\n"
          ]
        }
      ]
    },
    {
      "cell_type": "code",
      "source": [
        "# For many-to-many, we can set the timeseries generator to have no targets\n",
        "\n",
        "# dummy input for understanding\n",
        "data = np.array([[i] for i in range(100)])\n",
        "\n",
        "# Example1: Lx = Ly (concurrent output)\n",
        "#sequence_length_inp = 4\n",
        "#sequence_length_out = sequence_length_inp\n",
        "#start_index_out = None\n",
        "#sequence_stride = 1\n",
        "#sampling_rate = 1\n",
        "\n",
        "# Example2: Lx = Ly (input sequence, wait, output sequence)\n",
        "sequence_length_inp = 4\n",
        "sequence_length_out = 3\n",
        "start_index_out = sequence_length_inp\n",
        "sequence_stride = 1\n",
        "sampling_rate = 1\n",
        "\n",
        "# Example3: Lx = Ly (input sequence and slide output sequence)\n",
        "#sequence_length_inp = 4\n",
        "#sequence_length_out = sequence_length_inp\n",
        "#start_index_out = 2\n",
        "#sequence_stride = start_index_out\n",
        "#sampling_rate = start_index_out\n",
        "\n",
        "# data generators\n",
        "data_gen_inp = keras.utils.timeseries_dataset_from_array(\n",
        "    data=data,\n",
        "    targets=None,\n",
        "    sequence_length=sequence_length_inp, # Length of the data sequences\n",
        "    sequence_stride=sequence_stride, # Adjust this to slide the output sequence from the input sequence\n",
        "    sampling_rate=sampling_rate,   # Period between successive individual timesteps\n",
        "    batch_size=2,\n",
        "    shuffle=False,\n",
        "    seed=1,\n",
        "    start_index=None,\n",
        "    end_index=None,\n",
        ")\n",
        "\n",
        "data_gen_out = keras.utils.timeseries_dataset_from_array(\n",
        "    data=data,\n",
        "    targets=None,\n",
        "    sequence_length=sequence_length_out, # Length of the data sequences\n",
        "    sequence_stride=sequence_stride, # Adjust this to slide the output sequence from the input sequence\n",
        "    sampling_rate=sampling_rate,   # Period between successive individual timesteps\n",
        "    batch_size=2,\n",
        "    shuffle=False,\n",
        "    seed=1,\n",
        "    start_index=start_index_out,\n",
        "    end_index=None,\n",
        ")"
      ],
      "metadata": {
        "id": "HE-A2Y6QDqj1"
      },
      "execution_count": 16,
      "outputs": []
    },
    {
      "cell_type": "code",
      "source": [
        "# quick check of output\n",
        "for inputs, outputs in zip(data_gen_inp, data_gen_out):\n",
        "  print(f\"Inputs: {inputs}\")\n",
        "  print(f\"Targets: {outputs}\")\n",
        "  break"
      ],
      "metadata": {
        "colab": {
          "base_uri": "https://localhost:8080/"
        },
        "id": "Sy7QLT0UDq0W",
        "outputId": "94c08bf7-bd2f-44a2-aff0-a5d0bc3f2347"
      },
      "execution_count": 17,
      "outputs": [
        {
          "output_type": "stream",
          "name": "stdout",
          "text": [
            "Inputs: [[[0]\n",
            "  [1]\n",
            "  [2]\n",
            "  [3]]\n",
            "\n",
            " [[1]\n",
            "  [2]\n",
            "  [3]\n",
            "  [4]]]\n",
            "Targets: [[[4]\n",
            "  [5]\n",
            "  [6]]\n",
            "\n",
            " [[5]\n",
            "  [6]\n",
            "  [7]]]\n"
          ]
        }
      ]
    },
    {
      "cell_type": "markdown",
      "source": [
        "# Many-to-One LSTM\n",
        "(Process one time step at a time and only output the final hidden state)\n",
        "\n",
        "This approach is often used when you are primarily interested in the overall context of the sequence for making a single prediction at the end."
      ],
      "metadata": {
        "id": "_1L5-a5eb3TK"
      }
    },
    {
      "cell_type": "code",
      "source": [
        "# the length of the input feature\n",
        "n_input = 4 # you can change this! doesn't HAVE to be 4 months input\n",
        "\n",
        "# here goes our training data\n",
        "inpdata = trainds_scaled[:-n_input]\n",
        "outdata = trainds_scaled[n_input:]\n",
        "\n",
        "n_features = 1\n",
        "BATCHSIZE = 16\n",
        "\n",
        "data_gen = keras.utils.timeseries_dataset_from_array(\n",
        "    data=inpdata,\n",
        "    targets=outdata,\n",
        "    sequence_length=4, # Length of the data sequences\n",
        "    sequence_stride=1, # Period between successive output sequences\n",
        "    sampling_rate=1,   # Period between successive individual timesteps (problematic if > 1)\n",
        "    batch_size=BATCHSIZE,\n",
        "    shuffle=False,\n",
        "    seed=1,\n",
        "    start_index=None,\n",
        "    end_index=None,\n",
        ")\n",
        "\n",
        "# generators make using validation_split not possible when training, we need to define one now\n",
        "test_gen = keras.utils.timeseries_dataset_from_array(\n",
        "    data=testsds_scaled[:-n_input],\n",
        "    targets=testsds_scaled[n_input:],\n",
        "    sequence_length=4, # Length of the data sequences\n",
        "    sequence_stride=1, # Period between successive output sequences\n",
        "    sampling_rate=1,   # Period between successive individual timesteps (problematic if > 1)\n",
        "    batch_size=len(testsds_scaled[n_input:]),\n",
        "    shuffle=False,\n",
        "    seed=1,\n",
        "    start_index=None,\n",
        "    end_index=None,\n",
        ")"
      ],
      "metadata": {
        "id": "zUb6c5liFwG5"
      },
      "execution_count": 18,
      "outputs": []
    },
    {
      "cell_type": "code",
      "source": [
        "# check shapes\n",
        "print(inpdata.shape, outdata.shape, n_features)"
      ],
      "metadata": {
        "colab": {
          "base_uri": "https://localhost:8080/"
        },
        "id": "0KThyhWlzXq6",
        "outputId": "688d7a70-61df-4af2-b435-a4ee4371b1e3"
      },
      "execution_count": 19,
      "outputs": [
        {
          "output_type": "stream",
          "name": "stdout",
          "text": [
            "(728, 1) (728, 1) 1\n"
          ]
        }
      ]
    },
    {
      "cell_type": "code",
      "source": [
        "for batch in data_gen:\n",
        "  inputs, targets = batch\n",
        "  print(f\"Inputs: {inputs[0:3]}\")\n",
        "  print(f\"Targets: {targets[0:3]}\")\n",
        "  break"
      ],
      "metadata": {
        "colab": {
          "base_uri": "https://localhost:8080/"
        },
        "id": "782yjkdpPG_O",
        "outputId": "8360655b-fb4b-4ff3-ad9a-41a109be459d"
      },
      "execution_count": 20,
      "outputs": [
        {
          "output_type": "stream",
          "name": "stdout",
          "text": [
            "Inputs: [[[0.11286682]\n",
            "  [0.15575621]\n",
            "  [0.19638826]\n",
            "  [0.19187359]]\n",
            "\n",
            " [[0.15575621]\n",
            "  [0.19638826]\n",
            "  [0.19187359]\n",
            "  [0.21670429]]\n",
            "\n",
            " [[0.19638826]\n",
            "  [0.19187359]\n",
            "  [0.21670429]\n",
            "  [0.26636569]]]\n",
            "Targets: [[0.21670429]\n",
            " [0.26636569]\n",
            " [0.33634312]]\n"
          ]
        }
      ]
    },
    {
      "cell_type": "code",
      "source": [
        "# many-to-one example\n",
        "# lets make our rnn!\n",
        "regressor = Sequential()\n",
        "\n",
        "# LSTM; input shape is 1 (for one time step at a time)\n",
        "# and n_features which is also 1 for our toy example\n",
        "regressor.add(keras.layers.Input(shape=(1, n_features), batch_size=BATCHSIZE))\n",
        "\n",
        "### NOTE BELOW:\n",
        "# If you want to process the entire sequence at once, change the input\n",
        "# shape above to (4, n_features) while keeping return_sequences=False below.\n",
        "\n",
        "# don't return sequence; just the final hidden state\n",
        "regressor.add(LSTM(units=50, return_sequences=False))\n",
        "\n",
        "# one neuron for output prediction\n",
        "regressor.add(Dense(1))\n",
        "regressor.add(Activation('linear'))\n",
        "\n",
        "# compile model\n",
        "regressor.compile(optimizer='adam', loss='mean_squared_error', metrics=['mse', 'mae'])\n",
        "\n",
        "# what does graph look like?\n",
        "regressor.summary()"
      ],
      "metadata": {
        "id": "dCWIVnYxmCau",
        "colab": {
          "base_uri": "https://localhost:8080/",
          "height": 225
        },
        "outputId": "26583ce2-e1ae-498d-921f-1a9d2beb45a6"
      },
      "execution_count": 21,
      "outputs": [
        {
          "output_type": "display_data",
          "data": {
            "text/plain": [
              "\u001b[1mModel: \"sequential\"\u001b[0m\n"
            ],
            "text/html": [
              "<pre style=\"white-space:pre;overflow-x:auto;line-height:normal;font-family:Menlo,'DejaVu Sans Mono',consolas,'Courier New',monospace\"><span style=\"font-weight: bold\">Model: \"sequential\"</span>\n",
              "</pre>\n"
            ]
          },
          "metadata": {}
        },
        {
          "output_type": "display_data",
          "data": {
            "text/plain": [
              "┏━━━━━━━━━━━━━━━━━━━━━━━━━━━━━━━━━━━━━━┳━━━━━━━━━━━━━━━━━━━━━━━━━━━━━┳━━━━━━━━━━━━━━━━━┓\n",
              "┃\u001b[1m \u001b[0m\u001b[1mLayer (type)                        \u001b[0m\u001b[1m \u001b[0m┃\u001b[1m \u001b[0m\u001b[1mOutput Shape               \u001b[0m\u001b[1m \u001b[0m┃\u001b[1m \u001b[0m\u001b[1m        Param #\u001b[0m\u001b[1m \u001b[0m┃\n",
              "┡━━━━━━━━━━━━━━━━━━━━━━━━━━━━━━━━━━━━━━╇━━━━━━━━━━━━━━━━━━━━━━━━━━━━━╇━━━━━━━━━━━━━━━━━┩\n",
              "│ lstm (\u001b[38;5;33mLSTM\u001b[0m)                          │ (\u001b[38;5;34m16\u001b[0m, \u001b[38;5;34m50\u001b[0m)                    │          \u001b[38;5;34m10,400\u001b[0m │\n",
              "├──────────────────────────────────────┼─────────────────────────────┼─────────────────┤\n",
              "│ dense (\u001b[38;5;33mDense\u001b[0m)                        │ (\u001b[38;5;34m16\u001b[0m, \u001b[38;5;34m1\u001b[0m)                     │              \u001b[38;5;34m51\u001b[0m │\n",
              "├──────────────────────────────────────┼─────────────────────────────┼─────────────────┤\n",
              "│ activation (\u001b[38;5;33mActivation\u001b[0m)              │ (\u001b[38;5;34m16\u001b[0m, \u001b[38;5;34m1\u001b[0m)                     │               \u001b[38;5;34m0\u001b[0m │\n",
              "└──────────────────────────────────────┴─────────────────────────────┴─────────────────┘\n"
            ],
            "text/html": [
              "<pre style=\"white-space:pre;overflow-x:auto;line-height:normal;font-family:Menlo,'DejaVu Sans Mono',consolas,'Courier New',monospace\">┏━━━━━━━━━━━━━━━━━━━━━━━━━━━━━━━━━━━━━━┳━━━━━━━━━━━━━━━━━━━━━━━━━━━━━┳━━━━━━━━━━━━━━━━━┓\n",
              "┃<span style=\"font-weight: bold\"> Layer (type)                         </span>┃<span style=\"font-weight: bold\"> Output Shape                </span>┃<span style=\"font-weight: bold\">         Param # </span>┃\n",
              "┡━━━━━━━━━━━━━━━━━━━━━━━━━━━━━━━━━━━━━━╇━━━━━━━━━━━━━━━━━━━━━━━━━━━━━╇━━━━━━━━━━━━━━━━━┩\n",
              "│ lstm (<span style=\"color: #0087ff; text-decoration-color: #0087ff\">LSTM</span>)                          │ (<span style=\"color: #00af00; text-decoration-color: #00af00\">16</span>, <span style=\"color: #00af00; text-decoration-color: #00af00\">50</span>)                    │          <span style=\"color: #00af00; text-decoration-color: #00af00\">10,400</span> │\n",
              "├──────────────────────────────────────┼─────────────────────────────┼─────────────────┤\n",
              "│ dense (<span style=\"color: #0087ff; text-decoration-color: #0087ff\">Dense</span>)                        │ (<span style=\"color: #00af00; text-decoration-color: #00af00\">16</span>, <span style=\"color: #00af00; text-decoration-color: #00af00\">1</span>)                     │              <span style=\"color: #00af00; text-decoration-color: #00af00\">51</span> │\n",
              "├──────────────────────────────────────┼─────────────────────────────┼─────────────────┤\n",
              "│ activation (<span style=\"color: #0087ff; text-decoration-color: #0087ff\">Activation</span>)              │ (<span style=\"color: #00af00; text-decoration-color: #00af00\">16</span>, <span style=\"color: #00af00; text-decoration-color: #00af00\">1</span>)                     │               <span style=\"color: #00af00; text-decoration-color: #00af00\">0</span> │\n",
              "└──────────────────────────────────────┴─────────────────────────────┴─────────────────┘\n",
              "</pre>\n"
            ]
          },
          "metadata": {}
        },
        {
          "output_type": "display_data",
          "data": {
            "text/plain": [
              "\u001b[1m Total params: \u001b[0m\u001b[38;5;34m10,451\u001b[0m (40.82 KB)\n"
            ],
            "text/html": [
              "<pre style=\"white-space:pre;overflow-x:auto;line-height:normal;font-family:Menlo,'DejaVu Sans Mono',consolas,'Courier New',monospace\"><span style=\"font-weight: bold\"> Total params: </span><span style=\"color: #00af00; text-decoration-color: #00af00\">10,451</span> (40.82 KB)\n",
              "</pre>\n"
            ]
          },
          "metadata": {}
        },
        {
          "output_type": "display_data",
          "data": {
            "text/plain": [
              "\u001b[1m Trainable params: \u001b[0m\u001b[38;5;34m10,451\u001b[0m (40.82 KB)\n"
            ],
            "text/html": [
              "<pre style=\"white-space:pre;overflow-x:auto;line-height:normal;font-family:Menlo,'DejaVu Sans Mono',consolas,'Courier New',monospace\"><span style=\"font-weight: bold\"> Trainable params: </span><span style=\"color: #00af00; text-decoration-color: #00af00\">10,451</span> (40.82 KB)\n",
              "</pre>\n"
            ]
          },
          "metadata": {}
        },
        {
          "output_type": "display_data",
          "data": {
            "text/plain": [
              "\u001b[1m Non-trainable params: \u001b[0m\u001b[38;5;34m0\u001b[0m (0.00 B)\n"
            ],
            "text/html": [
              "<pre style=\"white-space:pre;overflow-x:auto;line-height:normal;font-family:Menlo,'DejaVu Sans Mono',consolas,'Courier New',monospace\"><span style=\"font-weight: bold\"> Non-trainable params: </span><span style=\"color: #00af00; text-decoration-color: #00af00\">0</span> (0.00 B)\n",
              "</pre>\n"
            ]
          },
          "metadata": {}
        }
      ]
    },
    {
      "cell_type": "code",
      "source": [
        "# train the lstm!\n",
        "EPOCHS = 20\n",
        "history = regressor.fit(data_gen, epochs=EPOCHS, validation_data=test_gen)"
      ],
      "metadata": {
        "colab": {
          "base_uri": "https://localhost:8080/"
        },
        "id": "Aue4JDCWyy9L",
        "outputId": "0bd1333a-3243-4659-d968-6cb81605049d"
      },
      "execution_count": 22,
      "outputs": [
        {
          "output_type": "stream",
          "name": "stdout",
          "text": [
            "Epoch 1/20\n",
            "\u001b[1m46/46\u001b[0m \u001b[32m━━━━━━━━━━━━━━━━━━━━\u001b[0m\u001b[37m\u001b[0m \u001b[1m7s\u001b[0m 44ms/step - loss: 0.1486 - mae: 0.3337 - mse: 0.1486 - val_loss: 0.0154 - val_mae: 0.1026 - val_mse: 0.0154\n",
            "Epoch 2/20\n",
            "\u001b[1m46/46\u001b[0m \u001b[32m━━━━━━━━━━━━━━━━━━━━\u001b[0m\u001b[37m\u001b[0m \u001b[1m1s\u001b[0m 13ms/step - loss: 0.0108 - mae: 0.0819 - mse: 0.0108 - val_loss: 0.0121 - val_mae: 0.0883 - val_mse: 0.0121\n",
            "Epoch 3/20\n",
            "\u001b[1m46/46\u001b[0m \u001b[32m━━━━━━━━━━━━━━━━━━━━\u001b[0m\u001b[37m\u001b[0m \u001b[1m0s\u001b[0m 9ms/step - loss: 0.0099 - mae: 0.0773 - mse: 0.0099 - val_loss: 0.0113 - val_mae: 0.0854 - val_mse: 0.0113\n",
            "Epoch 4/20\n",
            "\u001b[1m46/46\u001b[0m \u001b[32m━━━━━━━━━━━━━━━━━━━━\u001b[0m\u001b[37m\u001b[0m \u001b[1m0s\u001b[0m 9ms/step - loss: 0.0095 - mae: 0.0754 - mse: 0.0095 - val_loss: 0.0109 - val_mae: 0.0832 - val_mse: 0.0109\n",
            "Epoch 5/20\n",
            "\u001b[1m46/46\u001b[0m \u001b[32m━━━━━━━━━━━━━━━━━━━━\u001b[0m\u001b[37m\u001b[0m \u001b[1m0s\u001b[0m 9ms/step - loss: 0.0092 - mae: 0.0741 - mse: 0.0092 - val_loss: 0.0105 - val_mae: 0.0816 - val_mse: 0.0105\n",
            "Epoch 6/20\n",
            "\u001b[1m46/46\u001b[0m \u001b[32m━━━━━━━━━━━━━━━━━━━━\u001b[0m\u001b[37m\u001b[0m \u001b[1m0s\u001b[0m 9ms/step - loss: 0.0089 - mae: 0.0732 - mse: 0.0089 - val_loss: 0.0102 - val_mae: 0.0805 - val_mse: 0.0102\n",
            "Epoch 7/20\n",
            "\u001b[1m46/46\u001b[0m \u001b[32m━━━━━━━━━━━━━━━━━━━━\u001b[0m\u001b[37m\u001b[0m \u001b[1m0s\u001b[0m 9ms/step - loss: 0.0087 - mae: 0.0724 - mse: 0.0087 - val_loss: 0.0100 - val_mae: 0.0795 - val_mse: 0.0100\n",
            "Epoch 8/20\n",
            "\u001b[1m46/46\u001b[0m \u001b[32m━━━━━━━━━━━━━━━━━━━━\u001b[0m\u001b[37m\u001b[0m \u001b[1m0s\u001b[0m 9ms/step - loss: 0.0085 - mae: 0.0716 - mse: 0.0085 - val_loss: 0.0097 - val_mae: 0.0785 - val_mse: 0.0097\n",
            "Epoch 9/20\n",
            "\u001b[1m46/46\u001b[0m \u001b[32m━━━━━━━━━━━━━━━━━━━━\u001b[0m\u001b[37m\u001b[0m \u001b[1m0s\u001b[0m 9ms/step - loss: 0.0083 - mae: 0.0709 - mse: 0.0083 - val_loss: 0.0095 - val_mae: 0.0775 - val_mse: 0.0095\n",
            "Epoch 10/20\n",
            "\u001b[1m46/46\u001b[0m \u001b[32m━━━━━━━━━━━━━━━━━━━━\u001b[0m\u001b[37m\u001b[0m \u001b[1m0s\u001b[0m 9ms/step - loss: 0.0081 - mae: 0.0700 - mse: 0.0081 - val_loss: 0.0092 - val_mae: 0.0764 - val_mse: 0.0092\n",
            "Epoch 11/20\n",
            "\u001b[1m46/46\u001b[0m \u001b[32m━━━━━━━━━━━━━━━━━━━━\u001b[0m\u001b[37m\u001b[0m \u001b[1m1s\u001b[0m 10ms/step - loss: 0.0078 - mae: 0.0691 - mse: 0.0078 - val_loss: 0.0089 - val_mae: 0.0753 - val_mse: 0.0089\n",
            "Epoch 12/20\n",
            "\u001b[1m46/46\u001b[0m \u001b[32m━━━━━━━━━━━━━━━━━━━━\u001b[0m\u001b[37m\u001b[0m \u001b[1m0s\u001b[0m 9ms/step - loss: 0.0076 - mae: 0.0681 - mse: 0.0076 - val_loss: 0.0086 - val_mae: 0.0741 - val_mse: 0.0086\n",
            "Epoch 13/20\n",
            "\u001b[1m46/46\u001b[0m \u001b[32m━━━━━━━━━━━━━━━━━━━━\u001b[0m\u001b[37m\u001b[0m \u001b[1m0s\u001b[0m 9ms/step - loss: 0.0074 - mae: 0.0671 - mse: 0.0074 - val_loss: 0.0083 - val_mae: 0.0728 - val_mse: 0.0083\n",
            "Epoch 14/20\n",
            "\u001b[1m46/46\u001b[0m \u001b[32m━━━━━━━━━━━━━━━━━━━━\u001b[0m\u001b[37m\u001b[0m \u001b[1m0s\u001b[0m 9ms/step - loss: 0.0071 - mae: 0.0661 - mse: 0.0071 - val_loss: 0.0080 - val_mae: 0.0714 - val_mse: 0.0080\n",
            "Epoch 15/20\n",
            "\u001b[1m46/46\u001b[0m \u001b[32m━━━━━━━━━━━━━━━━━━━━\u001b[0m\u001b[37m\u001b[0m \u001b[1m0s\u001b[0m 9ms/step - loss: 0.0069 - mae: 0.0649 - mse: 0.0069 - val_loss: 0.0077 - val_mae: 0.0699 - val_mse: 0.0077\n",
            "Epoch 16/20\n",
            "\u001b[1m46/46\u001b[0m \u001b[32m━━━━━━━━━━━━━━━━━━━━\u001b[0m\u001b[37m\u001b[0m \u001b[1m0s\u001b[0m 9ms/step - loss: 0.0066 - mae: 0.0637 - mse: 0.0066 - val_loss: 0.0073 - val_mae: 0.0683 - val_mse: 0.0073\n",
            "Epoch 17/20\n",
            "\u001b[1m46/46\u001b[0m \u001b[32m━━━━━━━━━━━━━━━━━━━━\u001b[0m\u001b[37m\u001b[0m \u001b[1m0s\u001b[0m 9ms/step - loss: 0.0063 - mae: 0.0624 - mse: 0.0063 - val_loss: 0.0069 - val_mae: 0.0664 - val_mse: 0.0069\n",
            "Epoch 18/20\n",
            "\u001b[1m46/46\u001b[0m \u001b[32m━━━━━━━━━━━━━━━━━━━━\u001b[0m\u001b[37m\u001b[0m \u001b[1m0s\u001b[0m 9ms/step - loss: 0.0060 - mae: 0.0609 - mse: 0.0060 - val_loss: 0.0064 - val_mae: 0.0643 - val_mse: 0.0064\n",
            "Epoch 19/20\n",
            "\u001b[1m46/46\u001b[0m \u001b[32m━━━━━━━━━━━━━━━━━━━━\u001b[0m\u001b[37m\u001b[0m \u001b[1m0s\u001b[0m 9ms/step - loss: 0.0057 - mae: 0.0592 - mse: 0.0057 - val_loss: 0.0059 - val_mae: 0.0618 - val_mse: 0.0059\n",
            "Epoch 20/20\n",
            "\u001b[1m46/46\u001b[0m \u001b[32m━━━━━━━━━━━━━━━━━━━━\u001b[0m\u001b[37m\u001b[0m \u001b[1m1s\u001b[0m 11ms/step - loss: 0.0053 - mae: 0.0573 - mse: 0.0053 - val_loss: 0.0054 - val_mae: 0.0590 - val_mse: 0.0054\n"
          ]
        }
      ]
    },
    {
      "cell_type": "code",
      "source": [
        "plt.plot(range(0,EPOCHS), history.history['loss'], c='k', label='training')\n",
        "plt.plot(range(0,EPOCHS), history.history['val_loss'], c='r', label='validation')\n",
        "plt.legend()\n",
        "plt.show()"
      ],
      "metadata": {
        "colab": {
          "base_uri": "https://localhost:8080/",
          "height": 430
        },
        "id": "x3EcKOa8RO_j",
        "outputId": "96f983b4-f579-4b27-db8c-85f6dd14ede2"
      },
      "execution_count": 23,
      "outputs": [
        {
          "output_type": "display_data",
          "data": {
            "text/plain": [
              "<Figure size 640x480 with 1 Axes>"
            ],
            "image/png": "[encoded data removed]"
          },
          "metadata": {}
        }
      ]
    },
    {
      "cell_type": "code",
      "source": [
        "for batch in test_gen:\n",
        "  _, y = batch\n",
        "  print(f\"Targets: {y.shape}\")\n",
        "  break"
      ],
      "metadata": {
        "colab": {
          "base_uri": "https://localhost:8080/"
        },
        "id": "yD-8nXD4-rZu",
        "outputId": "ec5e4d68-3363-4629-daf0-16d4398a629b"
      },
      "execution_count": 24,
      "outputs": [
        {
          "output_type": "stream",
          "name": "stdout",
          "text": [
            "Targets: (162, 1)\n"
          ]
        }
      ]
    },
    {
      "cell_type": "code",
      "source": [
        "# predict using test data\n",
        "oni_predictions = regressor.predict(test_gen)"
      ],
      "metadata": {
        "id": "DPA3UGBsmCXX",
        "colab": {
          "base_uri": "https://localhost:8080/"
        },
        "outputId": "2bbcf2f7-7041-43db-f949-eeb22ce55922"
      },
      "execution_count": 25,
      "outputs": [
        {
          "output_type": "stream",
          "name": "stdout",
          "text": [
            "\u001b[1m1/1\u001b[0m \u001b[32m━━━━━━━━━━━━━━━━━━━━\u001b[0m\u001b[37m\u001b[0m \u001b[1m0s\u001b[0m 252ms/step\n"
          ]
        }
      ]
    },
    {
      "cell_type": "code",
      "source": [
        "# quick check that we have a match of shapes\n",
        "print(oni_predictions.shape, y.shape)"
      ],
      "metadata": {
        "colab": {
          "base_uri": "https://localhost:8080/"
        },
        "id": "dHY10TFu_Hp5",
        "outputId": "9964f304-4787-4114-a90b-91a2422b49d9"
      },
      "execution_count": 26,
      "outputs": [
        {
          "output_type": "stream",
          "name": "stdout",
          "text": [
            "(162, 1) (162, 1)\n"
          ]
        }
      ]
    },
    {
      "cell_type": "code",
      "source": [
        "# how did we do!?\n",
        "plt.scatter(\n",
        "    sc.inverse_transform(y).reshape(-1),\n",
        "    sc.inverse_transform(oni_predictions).reshape(-1)\n",
        "    )\n",
        "plt.xlim([-3,3])\n",
        "plt.ylim([-3,3])\n",
        "plt.show()"
      ],
      "metadata": {
        "colab": {
          "base_uri": "https://localhost:8080/",
          "height": 435
        },
        "id": "ZPeSf6qzGrd1",
        "outputId": "7b06073c-f977-444e-84b5-3d170a122e99"
      },
      "execution_count": 27,
      "outputs": [
        {
          "output_type": "display_data",
          "data": {
            "text/plain": [
              "<Figure size 640x480 with 1 Axes>"
            ],
            "image/png": "[encoded data removed]"
          },
          "metadata": {}
        }
      ]
    },
    {
      "cell_type": "markdown",
      "source": [
        "# Many-to-Many LSTM"
      ],
      "metadata": {
        "id": "ydKfkPRzfuLD"
      }
    },
    {
      "cell_type": "code",
      "source": [
        "# redoing data preprocessing steps here more quickly\n",
        "\n",
        "# reading dataset from NOAA online\n",
        "dataset = pd.read_csv(\n",
        "    'http://www.cpc.ncep.noaa.gov/data/indices/oni.ascii.txt',\n",
        "    sep='\\s+')\n",
        "\n",
        "# drop any nans\n",
        "dataset = dataset.dropna(subset=[\"ANOM\"])\n",
        "\n",
        "# train test split by years\n",
        "trainds = dataset[dataset[\"YR\"]<=2010]\n",
        "testsds = dataset[dataset[\"YR\"]>2010]\n",
        "\n",
        "# grab anoms columns (ONI) and reset index\n",
        "# reshape to be (samples, features)\n",
        "# number of features here is just 1 (ONI)\n",
        "trainds = trainds.reset_index(drop=True)[\"ANOM\"].values.reshape(-1, 1)\n",
        "testsds = testsds.reset_index(drop=True)[\"ANOM\"].values.reshape(-1, 1)\n",
        "\n",
        "# Feature Scaling\n",
        "sc = MinMaxScaler(feature_range=(0,1))\n",
        "\n",
        "# do rescaling\n",
        "trainds_scaled = sc.fit_transform(trainds)\n",
        "testsds_scaled = sc.transform(testsds)"
      ],
      "metadata": {
        "id": "HyKsK1p2frBp"
      },
      "execution_count": 28,
      "outputs": []
    },
    {
      "cell_type": "code",
      "source": [
        "inpdata = trainds_scaled\n",
        "outdata = trainds_scaled\n",
        "n_features = 1\n",
        "BATCHSIZE = 16\n",
        "\n",
        "# For many-to-many, we can set the timeseries generator to have no targets\n",
        "\n",
        "# Example1: Lx = Ly (concurrent output)\n",
        "#sequence_length_inp = 4\n",
        "#sequence_length_out = sequence_length_inp\n",
        "#start_index_out = None\n",
        "#sequence_stride = 1\n",
        "#sampling_rate = 1\n",
        "\n",
        "# Example2: Lx = Ly (input sequence, wait, output sequence)\n",
        "sequence_length_inp = 4\n",
        "sequence_length_out = 3\n",
        "start_index_out = sequence_length_inp\n",
        "sequence_stride = 1\n",
        "sampling_rate = 1\n",
        "\n",
        "# Example3: Lx = Ly (input sequence and slide output sequence)\n",
        "#sequence_length_inp = 4\n",
        "#sequence_length_out = sequence_length_inp\n",
        "#start_index_out = 2\n",
        "#sequence_stride = start_index_out\n",
        "#sampling_rate = start_index_out\n",
        "\n",
        "# data generators\n",
        "data_gen_inp = keras.utils.timeseries_dataset_from_array(\n",
        "    data=inpdata,\n",
        "    targets=None,\n",
        "    sequence_length=sequence_length_inp, # Length of the data sequences\n",
        "    sequence_stride=sequence_stride, # Adjust this to slide the output sequence from the input sequence\n",
        "    sampling_rate=sampling_rate,   # Period between successive individual timesteps\n",
        "    batch_size=BATCHSIZE,\n",
        "    shuffle=False,\n",
        "    seed=1,\n",
        "    start_index=None,\n",
        "    end_index=None,\n",
        ")\n",
        "\n",
        "data_gen_out = keras.utils.timeseries_dataset_from_array(\n",
        "    data=outdata,\n",
        "    targets=None,\n",
        "    sequence_length=sequence_length_out, # Length of the data sequences\n",
        "    sequence_stride=sequence_stride, # Adjust this to slide the output sequence from the input sequence\n",
        "    sampling_rate=sampling_rate,   # Period between successive individual timesteps\n",
        "    batch_size=BATCHSIZE,\n",
        "    shuffle=False,\n",
        "    seed=1,\n",
        "    start_index=start_index_out,\n",
        "    end_index=None,\n",
        ")"
      ],
      "metadata": {
        "id": "780eNEwefrJt"
      },
      "execution_count": 29,
      "outputs": []
    },
    {
      "cell_type": "code",
      "source": [
        "# quick check of output\n",
        "for inputs, outputs in zip(data_gen_inp, data_gen_out):\n",
        "  print(f\"Inputs: {inputs[:3]}\")\n",
        "  print(f\"Targets: {outputs[:3]}\")\n",
        "  break"
      ],
      "metadata": {
        "colab": {
          "base_uri": "https://localhost:8080/"
        },
        "id": "UFMqsQTdfrM2",
        "outputId": "3e8da87f-a4b1-47dc-d748-fdd30912024e"
      },
      "execution_count": 30,
      "outputs": [
        {
          "output_type": "stream",
          "name": "stdout",
          "text": [
            "Inputs: [[[0.11286682]\n",
            "  [0.15575621]\n",
            "  [0.19638826]\n",
            "  [0.19187359]]\n",
            "\n",
            " [[0.15575621]\n",
            "  [0.19638826]\n",
            "  [0.19187359]\n",
            "  [0.21670429]]\n",
            "\n",
            " [[0.19638826]\n",
            "  [0.19187359]\n",
            "  [0.21670429]\n",
            "  [0.26636569]]]\n",
            "Targets: [[[0.21670429]\n",
            "  [0.26636569]\n",
            "  [0.33634312]]\n",
            "\n",
            " [[0.26636569]\n",
            "  [0.33634312]\n",
            "  [0.36343115]]\n",
            "\n",
            " [[0.33634312]\n",
            "  [0.36343115]\n",
            "  [0.37020316]]]\n"
          ]
        }
      ]
    },
    {
      "cell_type": "code",
      "source": [
        "# many-to-many encoder-decoder example\n",
        "\n",
        "# lets make our rnn!\n",
        "regressor = Sequential()\n",
        "\n",
        "# LSTM; the encoder stage treats each time step as an individual input\n",
        "regressor.add(\n",
        "    keras.layers.Input(shape=(sequence_length_inp, n_features), batch_size=BATCHSIZE)\n",
        "    )\n",
        "\n",
        "# encoder is needed because we are using many to predict future manys\n",
        "# the LSTM layer will only output the final hidden state of the sequence\n",
        "regressor.add(LSTM(units=50, return_sequences=False))\n",
        "\n",
        "# repeat the encoder output to create an input sequence for\n",
        "# the decoder that is of the same length as the desired output sequence\n",
        "regressor.add(RepeatVector(sequence_length_out))\n",
        "\n",
        "# decoder to predict;\n",
        "# In contrast to the encoder, return_sequence is set to True for the decoder\n",
        "# because we want the LSTM to output a prediction at each time step of the output sequence\n",
        "regressor.add(LSTM(units=50, return_sequences=True))\n",
        "\n",
        "# predict 1 value per returned sequence value\n",
        "# TimeDistributed: apply to the output of the LSTM at each time step, allowing it to\n",
        "# make a prediction for each step in the output sequence.\n",
        "regressor.add(TimeDistributed(Dense(1)))\n",
        "regressor.add(Activation('linear'))\n",
        "\n",
        "# compile model\n",
        "regressor.compile(optimizer='adam', loss='mean_squared_error', metrics=['mse', 'mae'])\n",
        "\n",
        "# what does graph look like?\n",
        "regressor.summary()"
      ],
      "metadata": {
        "colab": {
          "base_uri": "https://localhost:8080/",
          "height": 289
        },
        "id": "6FVy06vcfrPe",
        "outputId": "f04346d7-6f2f-4ff3-dc0f-d06295cdc3e7"
      },
      "execution_count": 31,
      "outputs": [
        {
          "output_type": "display_data",
          "data": {
            "text/plain": [
              "\u001b[1mModel: \"sequential_1\"\u001b[0m\n"
            ],
            "text/html": [
              "<pre style=\"white-space:pre;overflow-x:auto;line-height:normal;font-family:Menlo,'DejaVu Sans Mono',consolas,'Courier New',monospace\"><span style=\"font-weight: bold\">Model: \"sequential_1\"</span>\n",
              "</pre>\n"
            ]
          },
          "metadata": {}
        },
        {
          "output_type": "display_data",
          "data": {
            "text/plain": [
              "┏━━━━━━━━━━━━━━━━━━━━━━━━━━━━━━━━━━━━━━┳━━━━━━━━━━━━━━━━━━━━━━━━━━━━━┳━━━━━━━━━━━━━━━━━┓\n",
              "┃\u001b[1m \u001b[0m\u001b[1mLayer (type)                        \u001b[0m\u001b[1m \u001b[0m┃\u001b[1m \u001b[0m\u001b[1mOutput Shape               \u001b[0m\u001b[1m \u001b[0m┃\u001b[1m \u001b[0m\u001b[1m        Param #\u001b[0m\u001b[1m \u001b[0m┃\n",
              "┡━━━━━━━━━━━━━━━━━━━━━━━━━━━━━━━━━━━━━━╇━━━━━━━━━━━━━━━━━━━━━━━━━━━━━╇━━━━━━━━━━━━━━━━━┩\n",
              "│ lstm_1 (\u001b[38;5;33mLSTM\u001b[0m)                        │ (\u001b[38;5;34m16\u001b[0m, \u001b[38;5;34m50\u001b[0m)                    │          \u001b[38;5;34m10,400\u001b[0m │\n",
              "├──────────────────────────────────────┼─────────────────────────────┼─────────────────┤\n",
              "│ repeat_vector (\u001b[38;5;33mRepeatVector\u001b[0m)         │ (\u001b[38;5;34m16\u001b[0m, \u001b[38;5;34m3\u001b[0m, \u001b[38;5;34m50\u001b[0m)                 │               \u001b[38;5;34m0\u001b[0m │\n",
              "├──────────────────────────────────────┼─────────────────────────────┼─────────────────┤\n",
              "│ lstm_2 (\u001b[38;5;33mLSTM\u001b[0m)                        │ (\u001b[38;5;34m16\u001b[0m, \u001b[38;5;34m3\u001b[0m, \u001b[38;5;34m50\u001b[0m)                 │          \u001b[38;5;34m20,200\u001b[0m │\n",
              "├──────────────────────────────────────┼─────────────────────────────┼─────────────────┤\n",
              "│ time_distributed (\u001b[38;5;33mTimeDistributed\u001b[0m)   │ (\u001b[38;5;34m16\u001b[0m, \u001b[38;5;34m3\u001b[0m, \u001b[38;5;34m1\u001b[0m)                  │              \u001b[38;5;34m51\u001b[0m │\n",
              "├──────────────────────────────────────┼─────────────────────────────┼─────────────────┤\n",
              "│ activation_1 (\u001b[38;5;33mActivation\u001b[0m)            │ (\u001b[38;5;34m16\u001b[0m, \u001b[38;5;34m3\u001b[0m, \u001b[38;5;34m1\u001b[0m)                  │               \u001b[38;5;34m0\u001b[0m │\n",
              "└──────────────────────────────────────┴─────────────────────────────┴─────────────────┘\n"
            ],
            "text/html": [
              "<pre style=\"white-space:pre;overflow-x:auto;line-height:normal;font-family:Menlo,'DejaVu Sans Mono',consolas,'Courier New',monospace\">┏━━━━━━━━━━━━━━━━━━━━━━━━━━━━━━━━━━━━━━┳━━━━━━━━━━━━━━━━━━━━━━━━━━━━━┳━━━━━━━━━━━━━━━━━┓\n",
              "┃<span style=\"font-weight: bold\"> Layer (type)                         </span>┃<span style=\"font-weight: bold\"> Output Shape                </span>┃<span style=\"font-weight: bold\">         Param # </span>┃\n",
              "┡━━━━━━━━━━━━━━━━━━━━━━━━━━━━━━━━━━━━━━╇━━━━━━━━━━━━━━━━━━━━━━━━━━━━━╇━━━━━━━━━━━━━━━━━┩\n",
              "│ lstm_1 (<span style=\"color: #0087ff; text-decoration-color: #0087ff\">LSTM</span>)                        │ (<span style=\"color: #00af00; text-decoration-color: #00af00\">16</span>, <span style=\"color: #00af00; text-decoration-color: #00af00\">50</span>)                    │          <span style=\"color: #00af00; text-decoration-color: #00af00\">10,400</span> │\n",
              "├──────────────────────────────────────┼─────────────────────────────┼─────────────────┤\n",
              "│ repeat_vector (<span style=\"color: #0087ff; text-decoration-color: #0087ff\">RepeatVector</span>)         │ (<span style=\"color: #00af00; text-decoration-color: #00af00\">16</span>, <span style=\"color: #00af00; text-decoration-color: #00af00\">3</span>, <span style=\"color: #00af00; text-decoration-color: #00af00\">50</span>)                 │               <span style=\"color: #00af00; text-decoration-color: #00af00\">0</span> │\n",
              "├──────────────────────────────────────┼─────────────────────────────┼─────────────────┤\n",
              "│ lstm_2 (<span style=\"color: #0087ff; text-decoration-color: #0087ff\">LSTM</span>)                        │ (<span style=\"color: #00af00; text-decoration-color: #00af00\">16</span>, <span style=\"color: #00af00; text-decoration-color: #00af00\">3</span>, <span style=\"color: #00af00; text-decoration-color: #00af00\">50</span>)                 │          <span style=\"color: #00af00; text-decoration-color: #00af00\">20,200</span> │\n",
              "├──────────────────────────────────────┼─────────────────────────────┼─────────────────┤\n",
              "│ time_distributed (<span style=\"color: #0087ff; text-decoration-color: #0087ff\">TimeDistributed</span>)   │ (<span style=\"color: #00af00; text-decoration-color: #00af00\">16</span>, <span style=\"color: #00af00; text-decoration-color: #00af00\">3</span>, <span style=\"color: #00af00; text-decoration-color: #00af00\">1</span>)                  │              <span style=\"color: #00af00; text-decoration-color: #00af00\">51</span> │\n",
              "├──────────────────────────────────────┼─────────────────────────────┼─────────────────┤\n",
              "│ activation_1 (<span style=\"color: #0087ff; text-decoration-color: #0087ff\">Activation</span>)            │ (<span style=\"color: #00af00; text-decoration-color: #00af00\">16</span>, <span style=\"color: #00af00; text-decoration-color: #00af00\">3</span>, <span style=\"color: #00af00; text-decoration-color: #00af00\">1</span>)                  │               <span style=\"color: #00af00; text-decoration-color: #00af00\">0</span> │\n",
              "└──────────────────────────────────────┴─────────────────────────────┴─────────────────┘\n",
              "</pre>\n"
            ]
          },
          "metadata": {}
        },
        {
          "output_type": "display_data",
          "data": {
            "text/plain": [
              "\u001b[1m Total params: \u001b[0m\u001b[38;5;34m30,651\u001b[0m (119.73 KB)\n"
            ],
            "text/html": [
              "<pre style=\"white-space:pre;overflow-x:auto;line-height:normal;font-family:Menlo,'DejaVu Sans Mono',consolas,'Courier New',monospace\"><span style=\"font-weight: bold\"> Total params: </span><span style=\"color: #00af00; text-decoration-color: #00af00\">30,651</span> (119.73 KB)\n",
              "</pre>\n"
            ]
          },
          "metadata": {}
        },
        {
          "output_type": "display_data",
          "data": {
            "text/plain": [
              "\u001b[1m Trainable params: \u001b[0m\u001b[38;5;34m30,651\u001b[0m (119.73 KB)\n"
            ],
            "text/html": [
              "<pre style=\"white-space:pre;overflow-x:auto;line-height:normal;font-family:Menlo,'DejaVu Sans Mono',consolas,'Courier New',monospace\"><span style=\"font-weight: bold\"> Trainable params: </span><span style=\"color: #00af00; text-decoration-color: #00af00\">30,651</span> (119.73 KB)\n",
              "</pre>\n"
            ]
          },
          "metadata": {}
        },
        {
          "output_type": "display_data",
          "data": {
            "text/plain": [
              "\u001b[1m Non-trainable params: \u001b[0m\u001b[38;5;34m0\u001b[0m (0.00 B)\n"
            ],
            "text/html": [
              "<pre style=\"white-space:pre;overflow-x:auto;line-height:normal;font-family:Menlo,'DejaVu Sans Mono',consolas,'Courier New',monospace\"><span style=\"font-weight: bold\"> Non-trainable params: </span><span style=\"color: #00af00; text-decoration-color: #00af00\">0</span> (0.00 B)\n",
              "</pre>\n"
            ]
          },
          "metadata": {}
        }
      ]
    },
    {
      "cell_type": "code",
      "source": [
        "def combine_generators(gen1, gen2, batch_size_threshold=BATCHSIZE):\n",
        "  \"\"\"Combines two generators into one yielding tuples of (inputs, targets).\"\"\"\n",
        "  # Convert the datasets to iterators using iter()\n",
        "  gen1_iter = iter(gen1)\n",
        "  gen2_iter = iter(gen2)\n",
        "  while True:\n",
        "    try:\n",
        "      x = next(gen1_iter)  # Get the next batch from the first iterator\n",
        "      y = next(gen2_iter)  # Get the next batch from the second iterator\n",
        "\n",
        "      # Check if batch size is below threshold\n",
        "      if x.shape[0] < batch_size_threshold or y.shape[0] < batch_size_threshold:\n",
        "        break  # Stop if batch size is too small\n",
        "\n",
        "      yield x, y  # Yield the combined data\n",
        "    except StopIteration:\n",
        "        # Stop when one of the iterators is exhausted\n",
        "        break"
      ],
      "metadata": {
        "id": "Ku-AyPeBqmIp"
      },
      "execution_count": 32,
      "outputs": []
    },
    {
      "cell_type": "code",
      "source": [
        "# Combine the input and target data generators\n",
        "train_data_gen = combine_generators(data_gen_inp, data_gen_out)"
      ],
      "metadata": {
        "id": "TXjveufnqtk9"
      },
      "execution_count": 33,
      "outputs": []
    },
    {
      "cell_type": "code",
      "source": [
        "EPOCHS = 20\n",
        "# train the lstm!\n",
        "history = regressor.fit(\n",
        "    train_data_gen, epochs=EPOCHS, steps_per_epoch=len(data_gen_inp)\n",
        "    )"
      ],
      "metadata": {
        "colab": {
          "base_uri": "https://localhost:8080/"
        },
        "id": "kaipkME-hYxO",
        "outputId": "5097834a-be88-4d9f-c516-490d171156a1"
      },
      "execution_count": 34,
      "outputs": [
        {
          "output_type": "stream",
          "name": "stdout",
          "text": [
            "Epoch 1/20\n",
            "\u001b[1m46/46\u001b[0m \u001b[32m━━━━━━━━━━━━━━━━━━━━\u001b[0m\u001b[37m\u001b[0m \u001b[1m5s\u001b[0m 9ms/step - loss: 0.1531 - mae: 0.3422 - mse: 0.1531 \n",
            "Epoch 2/20\n",
            "\u001b[1m46/46\u001b[0m \u001b[32m━━━━━━━━━━━━━━━━━━━━\u001b[0m\u001b[37m\u001b[0m \u001b[1m0s\u001b[0m 371us/step - loss: 0.0314 - mae: 0.1430 - mse: 0.0314\n",
            "Epoch 3/20\n",
            "\u001b[1m46/46\u001b[0m \u001b[32m━━━━━━━━━━━━━━━━━━━━\u001b[0m\u001b[37m\u001b[0m \u001b[1m0s\u001b[0m 364us/step - loss: 0.0306 - mae: 0.1410 - mse: 0.0306\n",
            "Epoch 4/20\n",
            "\u001b[1m46/46\u001b[0m \u001b[32m━━━━━━━━━━━━━━━━━━━━\u001b[0m\u001b[37m\u001b[0m \u001b[1m0s\u001b[0m 350us/step - loss: 0.0292 - mae: 0.1371 - mse: 0.0292\n",
            "Epoch 5/20\n"
          ]
        },
        {
          "output_type": "stream",
          "name": "stderr",
          "text": [
            "/usr/local/lib/python3.11/dist-packages/keras/src/trainers/epoch_iterator.py:151: UserWarning: Your input ran out of data; interrupting training. Make sure that your dataset or generator can generate at least `steps_per_epoch * epochs` batches. You may need to use the `.repeat()` function when building your dataset.\n",
            "  self._interrupted_warning()\n"
          ]
        },
        {
          "output_type": "stream",
          "name": "stdout",
          "text": [
            "\u001b[1m46/46\u001b[0m \u001b[32m━━━━━━━━━━━━━━━━━━━━\u001b[0m\u001b[37m\u001b[0m \u001b[1m0s\u001b[0m 340us/step - loss: 0.0274 - mae: 0.1327 - mse: 0.0274\n",
            "Epoch 6/20\n",
            "\u001b[1m46/46\u001b[0m \u001b[32m━━━━━━━━━━━━━━━━━━━━\u001b[0m\u001b[37m\u001b[0m \u001b[1m0s\u001b[0m 332us/step - loss: 0.0257 - mae: 0.1287 - mse: 0.0257\n",
            "Epoch 7/20\n",
            "\u001b[1m46/46\u001b[0m \u001b[32m━━━━━━━━━━━━━━━━━━━━\u001b[0m\u001b[37m\u001b[0m \u001b[1m0s\u001b[0m 342us/step - loss: 0.0243 - mae: 0.1261 - mse: 0.0243\n",
            "Epoch 8/20\n",
            "\u001b[1m46/46\u001b[0m \u001b[32m━━━━━━━━━━━━━━━━━━━━\u001b[0m\u001b[37m\u001b[0m \u001b[1m0s\u001b[0m 400us/step - loss: 0.0233 - mae: 0.1245 - mse: 0.0233\n",
            "Epoch 9/20\n",
            "\u001b[1m46/46\u001b[0m \u001b[32m━━━━━━━━━━━━━━━━━━━━\u001b[0m\u001b[37m\u001b[0m \u001b[1m0s\u001b[0m 374us/step - loss: 0.0227 - mae: 0.1235 - mse: 0.0227\n",
            "Epoch 10/20\n",
            "\u001b[1m46/46\u001b[0m \u001b[32m━━━━━━━━━━━━━━━━━━━━\u001b[0m\u001b[37m\u001b[0m \u001b[1m0s\u001b[0m 372us/step - loss: 0.0222 - mae: 0.1224 - mse: 0.0222\n",
            "Epoch 11/20\n",
            "\u001b[1m46/46\u001b[0m \u001b[32m━━━━━━━━━━━━━━━━━━━━\u001b[0m\u001b[37m\u001b[0m \u001b[1m0s\u001b[0m 360us/step - loss: 0.0216 - mae: 0.1207 - mse: 0.0216\n",
            "Epoch 12/20\n",
            "\u001b[1m46/46\u001b[0m \u001b[32m━━━━━━━━━━━━━━━━━━━━\u001b[0m\u001b[37m\u001b[0m \u001b[1m0s\u001b[0m 419us/step - loss: 0.0207 - mae: 0.1183 - mse: 0.0207\n",
            "Epoch 13/20\n",
            "\u001b[1m46/46\u001b[0m \u001b[32m━━━━━━━━━━━━━━━━━━━━\u001b[0m\u001b[37m\u001b[0m \u001b[1m0s\u001b[0m 550us/step - loss: 0.0197 - mae: 0.1153 - mse: 0.0197\n",
            "Epoch 14/20\n",
            "\u001b[1m46/46\u001b[0m \u001b[32m━━━━━━━━━━━━━━━━━━━━\u001b[0m\u001b[37m\u001b[0m \u001b[1m0s\u001b[0m 447us/step - loss: 0.0187 - mae: 0.1123 - mse: 0.0187\n",
            "Epoch 15/20\n",
            "\u001b[1m46/46\u001b[0m \u001b[32m━━━━━━━━━━━━━━━━━━━━\u001b[0m\u001b[37m\u001b[0m \u001b[1m0s\u001b[0m 329us/step - loss: 0.0179 - mae: 0.1096 - mse: 0.0179\n",
            "Epoch 16/20\n",
            "\u001b[1m46/46\u001b[0m \u001b[32m━━━━━━━━━━━━━━━━━━━━\u001b[0m\u001b[37m\u001b[0m \u001b[1m0s\u001b[0m 442us/step - loss: 0.0172 - mae: 0.1073 - mse: 0.0172\n",
            "Epoch 17/20\n",
            "\u001b[1m46/46\u001b[0m \u001b[32m━━━━━━━━━━━━━━━━━━━━\u001b[0m\u001b[37m\u001b[0m \u001b[1m0s\u001b[0m 323us/step - loss: 0.0165 - mae: 0.1051 - mse: 0.0165\n",
            "Epoch 18/20\n",
            "\u001b[1m46/46\u001b[0m \u001b[32m━━━━━━━━━━━━━━━━━━━━\u001b[0m\u001b[37m\u001b[0m \u001b[1m0s\u001b[0m 340us/step - loss: 0.0159 - mae: 0.1030 - mse: 0.0159\n",
            "Epoch 19/20\n",
            "\u001b[1m46/46\u001b[0m \u001b[32m━━━━━━━━━━━━━━━━━━━━\u001b[0m\u001b[37m\u001b[0m \u001b[1m0s\u001b[0m 340us/step - loss: 0.0152 - mae: 0.1010 - mse: 0.0152\n",
            "Epoch 20/20\n",
            "\u001b[1m46/46\u001b[0m \u001b[32m━━━━━━━━━━━━━━━━━━━━\u001b[0m\u001b[37m\u001b[0m \u001b[1m0s\u001b[0m 350us/step - loss: 0.0145 - mae: 0.0990 - mse: 0.0145\n"
          ]
        }
      ]
    },
    {
      "cell_type": "code",
      "source": [
        "plt.plot(range(0,EPOCHS), history.history['loss'], c='k', label='training')\n",
        "plt.legend()\n",
        "plt.show()"
      ],
      "metadata": {
        "id": "VaLGBasOuyeC",
        "outputId": "533386b7-cea0-4261-ecb7-7a99dad73846",
        "colab": {
          "base_uri": "https://localhost:8080/",
          "height": 430
        }
      },
      "execution_count": 35,
      "outputs": [
        {
          "output_type": "display_data",
          "data": {
            "text/plain": [
              "<Figure size 640x480 with 1 Axes>"
            ],
            "image/png": "[encoded data removed]"
          },
          "metadata": {}
        }
      ]
    },
    {
      "cell_type": "code",
      "source": [
        "# here goes our testing data\n",
        "inpdata = testsds_scaled\n",
        "outdata = testsds_scaled\n",
        "n_features = 1\n",
        "BATCHSIZE = len(testsds_scaled)\n",
        "\n",
        "# For many-to-many, we can set the timeseries generator to have no targets\n",
        "\n",
        "# Example1: Lx = Ly (concurrent output)\n",
        "#sequence_length_inp = 4\n",
        "#sequence_length_out = sequence_length_inp\n",
        "#start_index_out = None\n",
        "#sequence_stride = 1\n",
        "#sampling_rate = 1\n",
        "\n",
        "# Example2: Lx = Ly (input sequence, wait, output sequence)\n",
        "sequence_length_inp = 4\n",
        "sequence_length_out = 3\n",
        "start_index_out = sequence_length_inp\n",
        "sequence_stride = 1\n",
        "sampling_rate = 1\n",
        "\n",
        "# Example3: Lx = Ly (input sequence and slide output sequence)\n",
        "#sequence_length_inp = 4\n",
        "#sequence_length_out = sequence_length_inp\n",
        "#start_index_out = 2\n",
        "#sequence_stride = start_index_out\n",
        "#sampling_rate = start_index_out\n",
        "\n",
        "# data generators\n",
        "test_gen_inp = keras.utils.timeseries_dataset_from_array(\n",
        "    data=inpdata,\n",
        "    targets=None,\n",
        "    sequence_length=sequence_length_inp, # Length of the data sequences\n",
        "    sequence_stride=sequence_stride, # Adjust this to slide the output sequence from the input sequence\n",
        "    sampling_rate=sampling_rate,   # Period between successive individual timesteps\n",
        "    batch_size=BATCHSIZE,\n",
        "    shuffle=False,\n",
        "    seed=1,\n",
        "    start_index=None,\n",
        "    end_index=None,\n",
        ")\n",
        "\n",
        "test_gen_out = keras.utils.timeseries_dataset_from_array(\n",
        "    data=outdata,\n",
        "    targets=None,\n",
        "    sequence_length=sequence_length_out, # Length of the data sequences\n",
        "    sequence_stride=sequence_stride, # Adjust this to slide the output sequence from the input sequence\n",
        "    sampling_rate=sampling_rate,   # Period between successive individual timesteps\n",
        "    batch_size=BATCHSIZE,\n",
        "    shuffle=False,\n",
        "    seed=1,\n",
        "    start_index=start_index_out,\n",
        "    end_index=None,\n",
        ")"
      ],
      "metadata": {
        "id": "3_b36aCChZPy"
      },
      "execution_count": 36,
      "outputs": []
    },
    {
      "cell_type": "code",
      "source": [
        "# quick check of output\n",
        "for inputs, outputs in zip(test_gen_inp, test_gen_out):\n",
        "  print(f\"Inputs: {inputs[:3]}\")\n",
        "  print(f\"Targets: {outputs[:3]}\")\n",
        "  break"
      ],
      "metadata": {
        "colab": {
          "base_uri": "https://localhost:8080/"
        },
        "id": "Pa9VaqHPiDoE",
        "outputId": "ffb0ee10-2b56-452f-da45-c04377673948"
      },
      "execution_count": 37,
      "outputs": [
        {
          "output_type": "stream",
          "name": "stdout",
          "text": [
            "Inputs: [[[0.13769752]\n",
            "  [0.18961625]\n",
            "  [0.248307  ]\n",
            "  [0.29345372]]\n",
            "\n",
            " [[0.18961625]\n",
            "  [0.248307  ]\n",
            "  [0.29345372]\n",
            "  [0.33408578]]\n",
            "\n",
            " [[0.248307  ]\n",
            "  [0.29345372]\n",
            "  [0.33408578]\n",
            "  [0.35891648]]]\n",
            "Targets: [[[0.33408578]\n",
            "  [0.35891648]\n",
            "  [0.34988713]]\n",
            "\n",
            " [[0.35891648]\n",
            "  [0.34988713]\n",
            "  [0.31828442]]\n",
            "\n",
            " [[0.34988713]\n",
            "  [0.31828442]\n",
            "  [0.27088036]]]\n"
          ]
        }
      ]
    },
    {
      "cell_type": "code",
      "source": [
        "for batch in test_gen_out:\n",
        "  y = batch\n",
        "  print(f\"Targets: {y.shape}\")\n",
        "  break"
      ],
      "metadata": {
        "id": "sUySWeQrvkHR",
        "outputId": "21a52bc2-c277-4e00-d6f4-760c420acae3",
        "colab": {
          "base_uri": "https://localhost:8080/"
        }
      },
      "execution_count": 38,
      "outputs": [
        {
          "output_type": "stream",
          "name": "stdout",
          "text": [
            "Targets: (163, 3, 1)\n"
          ]
        }
      ]
    },
    {
      "cell_type": "code",
      "source": [
        "# make predictions\n",
        "oni_predictions = regressor.predict(test_gen_inp)"
      ],
      "metadata": {
        "colab": {
          "base_uri": "https://localhost:8080/"
        },
        "id": "4ZQlHOxuh0Zy",
        "outputId": "97c1bc6c-fb8b-4b80-a912-7c43ce96fa6e"
      },
      "execution_count": 39,
      "outputs": [
        {
          "output_type": "stream",
          "name": "stdout",
          "text": [
            "\u001b[1m1/1\u001b[0m \u001b[32m━━━━━━━━━━━━━━━━━━━━\u001b[0m\u001b[37m\u001b[0m \u001b[1m0s\u001b[0m 447ms/step\n"
          ]
        }
      ]
    },
    {
      "cell_type": "code",
      "source": [
        "# check shapes match\n",
        "print(oni_predictions.shape, y.shape)"
      ],
      "metadata": {
        "colab": {
          "base_uri": "https://localhost:8080/"
        },
        "id": "tIHWVyFIFBxt",
        "outputId": "fccb3365-38a4-4ddb-a8da-7453576f87e4"
      },
      "execution_count": 40,
      "outputs": [
        {
          "output_type": "stream",
          "name": "stdout",
          "text": [
            "(166, 3, 1) (163, 3, 1)\n"
          ]
        }
      ]
    },
    {
      "cell_type": "code",
      "source": [
        "for i in range(0, y.shape[1]):\n",
        "    # how did we do!?\n",
        "    plt.scatter(\n",
        "        sc.inverse_transform(y[:160, i].numpy().reshape(-1, 1)).reshape(-1),\n",
        "        sc.inverse_transform(oni_predictions[:160, i].reshape(-1, 1)).reshape(-1)\n",
        "        )\n",
        "    plt.xlim([-3,3])\n",
        "    plt.ylim([-3,3])\n",
        "    plt.show()"
      ],
      "metadata": {
        "colab": {
          "base_uri": "https://localhost:8080/",
          "height": 1000
        },
        "id": "WMaxU9aZkjFP",
        "outputId": "3b516717-e07f-44aa-ff37-8547e2fc9bfc"
      },
      "execution_count": 41,
      "outputs": [
        {
          "output_type": "display_data",
          "data": {
            "text/plain": [
              "<Figure size 640x480 with 1 Axes>"
            ],
            "image/png": "[encoded data removed]"
          },
          "metadata": {}
        },
        {
          "output_type": "display_data",
          "data": {
            "text/plain": [
              "<Figure size 640x480 with 1 Axes>"
            ],
            "image/png": "[encoded data removed]"
          },
          "metadata": {}
        },
        {
          "output_type": "display_data",
          "data": {
            "text/plain": [
              "<Figure size 640x480 with 1 Axes>"
            ],
            "image/png": "[encoded data removed]"
          },
          "metadata": {}
        }
      ]
    },
    {
      "cell_type": "code",
      "source": [],
      "metadata": {
        "id": "aZz0E1tTmlaI"
      },
      "execution_count": 41,
      "outputs": []
    }
  ]
}