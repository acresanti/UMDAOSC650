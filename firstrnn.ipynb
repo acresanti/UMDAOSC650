{
  "nbformat": 4,
  "nbformat_minor": 0,
  "metadata": {
    "colab": {
      "provenance": [],
      "mount_file_id": "1-tlc5GGh7ywSlvTy1btcndCkZMeoS3s2",
      "authorship_tag": "ABX9TyM9HceptC6IHsrd+W8Ve5mA",
      "include_colab_link": true
    },
    "kernelspec": {
      "name": "python3",
      "display_name": "Python 3"
    },
    "language_info": {
      "name": "python"
    }
  },
  "cells": [
    {
      "cell_type": "markdown",
      "metadata": {
        "id": "view-in-github",
        "colab_type": "text"
      },
      "source": [
        "<a href=\"https://colab.research.google.com/github/mariajmolina/UMDAOSC650/blob/main/firstrnn.ipynb\" target=\"_parent\"><img src=\"https://colab.research.google.com/assets/colab-badge.svg\" alt=\"Open In Colab\"/></a>"
      ]
    },
    {
      "cell_type": "markdown",
      "source": [
        "# LSTM\n",
        "\n",
        "An example using ONI (Oceanic Nino Index).\n",
        "\n",
        "Let's predict a future ONI value using four previous values.\n",
        "\n",
        "First, we will tackle a Many (4 input time steps) to One (1 future time step) framework.\n",
        "\n",
        "Second, we will tackle a Many (4 input time steps) to Many (Y future time steps) framework. The Many-to-Many framework does not need to be Tx==Ty (but can be)."
      ],
      "metadata": {
        "id": "2wbxelrgNBGe"
      }
    },
    {
      "cell_type": "code",
      "execution_count": 1,
      "metadata": {
        "id": "p-cre9b5l0WQ"
      },
      "outputs": [],
      "source": [
        "import numpy as np\n",
        "import matplotlib.pyplot as plt\n",
        "import pandas as pd\n",
        "from sklearn.preprocessing import MinMaxScaler\n",
        "import keras\n",
        "from keras.models import Sequential\n",
        "from keras.layers import LSTM, Dense, Dropout, Activation, TimeDistributed, RepeatVector\n",
        "#from keras.src.preprocessing.sequence import TimeseriesGenerator # old timeseries generator\n",
        "# from google.colab import drive\n",
        "# drive.mount('/content/drive')"
      ]
    },
    {
      "cell_type": "code",
      "source": [
        "# reading dataset from NOAA\n",
        "dataset = pd.read_csv(\n",
        "    'http://www.cpc.ncep.noaa.gov/data/indices/oni.ascii.txt',\n",
        "    sep='\\s+')"
      ],
      "metadata": {
        "id": "iKKGgzDJmBMD"
      },
      "execution_count": 3,
      "outputs": []
    },
    {
      "cell_type": "code",
      "source": [
        "# data features include seasons, year, total SST (C), and ONI (ENSO index)\n",
        "dataset.head()"
      ],
      "metadata": {
        "colab": {
          "base_uri": "https://localhost:8080/",
          "height": 206
        },
        "id": "_lFFxKALqnlb",
        "outputId": "210cf25f-1dea-4acc-8e37-048bbcafd12c"
      },
      "execution_count": 4,
      "outputs": [
        {
          "output_type": "execute_result",
          "data": {
            "text/plain": [
              "  SEAS    YR  TOTAL  ANOM\n",
              "0  DJF  1950  24.72 -1.53\n",
              "1  JFM  1950  25.17 -1.34\n",
              "2  FMA  1950  25.75 -1.16\n",
              "3  MAM  1950  26.12 -1.18\n",
              "4  AMJ  1950  26.32 -1.07"
            ],
            "text/html": [
              "\n",
              "  <div id=\"df-2996bd0f-e80a-4f3b-abaf-b42a763cbd1c\" class=\"colab-df-container\">\n",
              "    <div>\n",
              "<style scoped>\n",
              "    .dataframe tbody tr th:only-of-type {\n",
              "        vertical-align: middle;\n",
              "    }\n",
              "\n",
              "    .dataframe tbody tr th {\n",
              "        vertical-align: top;\n",
              "    }\n",
              "\n",
              "    .dataframe thead th {\n",
              "        text-align: right;\n",
              "    }\n",
              "</style>\n",
              "<table border=\"1\" class=\"dataframe\">\n",
              "  <thead>\n",
              "    <tr style=\"text-align: right;\">\n",
              "      <th></th>\n",
              "      <th>SEAS</th>\n",
              "      <th>YR</th>\n",
              "      <th>TOTAL</th>\n",
              "      <th>ANOM</th>\n",
              "    </tr>\n",
              "  </thead>\n",
              "  <tbody>\n",
              "    <tr>\n",
              "      <th>0</th>\n",
              "      <td>DJF</td>\n",
              "      <td>1950</td>\n",
              "      <td>24.72</td>\n",
              "      <td>-1.53</td>\n",
              "    </tr>\n",
              "    <tr>\n",
              "      <th>1</th>\n",
              "      <td>JFM</td>\n",
              "      <td>1950</td>\n",
              "      <td>25.17</td>\n",
              "      <td>-1.34</td>\n",
              "    </tr>\n",
              "    <tr>\n",
              "      <th>2</th>\n",
              "      <td>FMA</td>\n",
              "      <td>1950</td>\n",
              "      <td>25.75</td>\n",
              "      <td>-1.16</td>\n",
              "    </tr>\n",
              "    <tr>\n",
              "      <th>3</th>\n",
              "      <td>MAM</td>\n",
              "      <td>1950</td>\n",
              "      <td>26.12</td>\n",
              "      <td>-1.18</td>\n",
              "    </tr>\n",
              "    <tr>\n",
              "      <th>4</th>\n",
              "      <td>AMJ</td>\n",
              "      <td>1950</td>\n",
              "      <td>26.32</td>\n",
              "      <td>-1.07</td>\n",
              "    </tr>\n",
              "  </tbody>\n",
              "</table>\n",
              "</div>\n",
              "    <div class=\"colab-df-buttons\">\n",
              "\n",
              "  <div class=\"colab-df-container\">\n",
              "    <button class=\"colab-df-convert\" onclick=\"convertToInteractive('df-2996bd0f-e80a-4f3b-abaf-b42a763cbd1c')\"\n",
              "            title=\"Convert this dataframe to an interactive table.\"\n",
              "            style=\"display:none;\">\n",
              "\n",
              "  <svg xmlns=\"http://www.w3.org/2000/svg\" height=\"24px\" viewBox=\"0 -960 960 960\">\n",
              "    <path d=\"M120-120v-720h720v720H120Zm60-500h600v-160H180v160Zm220 220h160v-160H400v160Zm0 220h160v-160H400v160ZM180-400h160v-160H180v160Zm440 0h160v-160H620v160ZM180-180h160v-160H180v160Zm440 0h160v-160H620v160Z\"/>\n",
              "  </svg>\n",
              "    </button>\n",
              "\n",
              "  <style>\n",
              "    .colab-df-container {\n",
              "      display:flex;\n",
              "      gap: 12px;\n",
              "    }\n",
              "\n",
              "    .colab-df-convert {\n",
              "      background-color: #E8F0FE;\n",
              "      border: none;\n",
              "      border-radius: 50%;\n",
              "      cursor: pointer;\n",
              "      display: none;\n",
              "      fill: #1967D2;\n",
              "      height: 32px;\n",
              "      padding: 0 0 0 0;\n",
              "      width: 32px;\n",
              "    }\n",
              "\n",
              "    .colab-df-convert:hover {\n",
              "      background-color: #E2EBFA;\n",
              "      box-shadow: 0px 1px 2px rgba(60, 64, 67, 0.3), 0px 1px 3px 1px rgba(60, 64, 67, 0.15);\n",
              "      fill: #174EA6;\n",
              "    }\n",
              "\n",
              "    .colab-df-buttons div {\n",
              "      margin-bottom: 4px;\n",
              "    }\n",
              "\n",
              "    [theme=dark] .colab-df-convert {\n",
              "      background-color: #3B4455;\n",
              "      fill: #D2E3FC;\n",
              "    }\n",
              "\n",
              "    [theme=dark] .colab-df-convert:hover {\n",
              "      background-color: #434B5C;\n",
              "      box-shadow: 0px 1px 3px 1px rgba(0, 0, 0, 0.15);\n",
              "      filter: drop-shadow(0px 1px 2px rgba(0, 0, 0, 0.3));\n",
              "      fill: #FFFFFF;\n",
              "    }\n",
              "  </style>\n",
              "\n",
              "    <script>\n",
              "      const buttonEl =\n",
              "        document.querySelector('#df-2996bd0f-e80a-4f3b-abaf-b42a763cbd1c button.colab-df-convert');\n",
              "      buttonEl.style.display =\n",
              "        google.colab.kernel.accessAllowed ? 'block' : 'none';\n",
              "\n",
              "      async function convertToInteractive(key) {\n",
              "        const element = document.querySelector('#df-2996bd0f-e80a-4f3b-abaf-b42a763cbd1c');\n",
              "        const dataTable =\n",
              "          await google.colab.kernel.invokeFunction('convertToInteractive',\n",
              "                                                    [key], {});\n",
              "        if (!dataTable) return;\n",
              "\n",
              "        const docLinkHtml = 'Like what you see? Visit the ' +\n",
              "          '<a target=\"_blank\" href=https://colab.research.google.com/notebooks/data_table.ipynb>data table notebook</a>'\n",
              "          + ' to learn more about interactive tables.';\n",
              "        element.innerHTML = '';\n",
              "        dataTable['output_type'] = 'display_data';\n",
              "        await google.colab.output.renderOutput(dataTable, element);\n",
              "        const docLink = document.createElement('div');\n",
              "        docLink.innerHTML = docLinkHtml;\n",
              "        element.appendChild(docLink);\n",
              "      }\n",
              "    </script>\n",
              "  </div>\n",
              "\n",
              "\n",
              "<div id=\"df-c1500952-f329-4bbf-844c-a129d674fcdb\">\n",
              "  <button class=\"colab-df-quickchart\" onclick=\"quickchart('df-c1500952-f329-4bbf-844c-a129d674fcdb')\"\n",
              "            title=\"Suggest charts\"\n",
              "            style=\"display:none;\">\n",
              "\n",
              "<svg xmlns=\"http://www.w3.org/2000/svg\" height=\"24px\"viewBox=\"0 0 24 24\"\n",
              "     width=\"24px\">\n",
              "    <g>\n",
              "        <path d=\"M19 3H5c-1.1 0-2 .9-2 2v14c0 1.1.9 2 2 2h14c1.1 0 2-.9 2-2V5c0-1.1-.9-2-2-2zM9 17H7v-7h2v7zm4 0h-2V7h2v10zm4 0h-2v-4h2v4z\"/>\n",
              "    </g>\n",
              "</svg>\n",
              "  </button>\n",
              "\n",
              "<style>\n",
              "  .colab-df-quickchart {\n",
              "      --bg-color: #E8F0FE;\n",
              "      --fill-color: #1967D2;\n",
              "      --hover-bg-color: #E2EBFA;\n",
              "      --hover-fill-color: #174EA6;\n",
              "      --disabled-fill-color: #AAA;\n",
              "      --disabled-bg-color: #DDD;\n",
              "  }\n",
              "\n",
              "  [theme=dark] .colab-df-quickchart {\n",
              "      --bg-color: #3B4455;\n",
              "      --fill-color: #D2E3FC;\n",
              "      --hover-bg-color: #434B5C;\n",
              "      --hover-fill-color: #FFFFFF;\n",
              "      --disabled-bg-color: #3B4455;\n",
              "      --disabled-fill-color: #666;\n",
              "  }\n",
              "\n",
              "  .colab-df-quickchart {\n",
              "    background-color: var(--bg-color);\n",
              "    border: none;\n",
              "    border-radius: 50%;\n",
              "    cursor: pointer;\n",
              "    display: none;\n",
              "    fill: var(--fill-color);\n",
              "    height: 32px;\n",
              "    padding: 0;\n",
              "    width: 32px;\n",
              "  }\n",
              "\n",
              "  .colab-df-quickchart:hover {\n",
              "    background-color: var(--hover-bg-color);\n",
              "    box-shadow: 0 1px 2px rgba(60, 64, 67, 0.3), 0 1px 3px 1px rgba(60, 64, 67, 0.15);\n",
              "    fill: var(--button-hover-fill-color);\n",
              "  }\n",
              "\n",
              "  .colab-df-quickchart-complete:disabled,\n",
              "  .colab-df-quickchart-complete:disabled:hover {\n",
              "    background-color: var(--disabled-bg-color);\n",
              "    fill: var(--disabled-fill-color);\n",
              "    box-shadow: none;\n",
              "  }\n",
              "\n",
              "  .colab-df-spinner {\n",
              "    border: 2px solid var(--fill-color);\n",
              "    border-color: transparent;\n",
              "    border-bottom-color: var(--fill-color);\n",
              "    animation:\n",
              "      spin 1s steps(1) infinite;\n",
              "  }\n",
              "\n",
              "  @keyframes spin {\n",
              "    0% {\n",
              "      border-color: transparent;\n",
              "      border-bottom-color: var(--fill-color);\n",
              "      border-left-color: var(--fill-color);\n",
              "    }\n",
              "    20% {\n",
              "      border-color: transparent;\n",
              "      border-left-color: var(--fill-color);\n",
              "      border-top-color: var(--fill-color);\n",
              "    }\n",
              "    30% {\n",
              "      border-color: transparent;\n",
              "      border-left-color: var(--fill-color);\n",
              "      border-top-color: var(--fill-color);\n",
              "      border-right-color: var(--fill-color);\n",
              "    }\n",
              "    40% {\n",
              "      border-color: transparent;\n",
              "      border-right-color: var(--fill-color);\n",
              "      border-top-color: var(--fill-color);\n",
              "    }\n",
              "    60% {\n",
              "      border-color: transparent;\n",
              "      border-right-color: var(--fill-color);\n",
              "    }\n",
              "    80% {\n",
              "      border-color: transparent;\n",
              "      border-right-color: var(--fill-color);\n",
              "      border-bottom-color: var(--fill-color);\n",
              "    }\n",
              "    90% {\n",
              "      border-color: transparent;\n",
              "      border-bottom-color: var(--fill-color);\n",
              "    }\n",
              "  }\n",
              "</style>\n",
              "\n",
              "  <script>\n",
              "    async function quickchart(key) {\n",
              "      const quickchartButtonEl =\n",
              "        document.querySelector('#' + key + ' button');\n",
              "      quickchartButtonEl.disabled = true;  // To prevent multiple clicks.\n",
              "      quickchartButtonEl.classList.add('colab-df-spinner');\n",
              "      try {\n",
              "        const charts = await google.colab.kernel.invokeFunction(\n",
              "            'suggestCharts', [key], {});\n",
              "      } catch (error) {\n",
              "        console.error('Error during call to suggestCharts:', error);\n",
              "      }\n",
              "      quickchartButtonEl.classList.remove('colab-df-spinner');\n",
              "      quickchartButtonEl.classList.add('colab-df-quickchart-complete');\n",
              "    }\n",
              "    (() => {\n",
              "      let quickchartButtonEl =\n",
              "        document.querySelector('#df-c1500952-f329-4bbf-844c-a129d674fcdb button');\n",
              "      quickchartButtonEl.style.display =\n",
              "        google.colab.kernel.accessAllowed ? 'block' : 'none';\n",
              "    })();\n",
              "  </script>\n",
              "</div>\n",
              "\n",
              "    </div>\n",
              "  </div>\n"
            ],
            "application/vnd.google.colaboratory.intrinsic+json": {
              "type": "dataframe",
              "variable_name": "dataset",
              "summary": "{\n  \"name\": \"dataset\",\n  \"rows\": 901,\n  \"fields\": [\n    {\n      \"column\": \"SEAS\",\n      \"properties\": {\n        \"dtype\": \"category\",\n        \"num_unique_values\": 12,\n        \"samples\": [\n          \"OND\",\n          \"SON\",\n          \"DJF\"\n        ],\n        \"semantic_type\": \"\",\n        \"description\": \"\"\n      }\n    },\n    {\n      \"column\": \"YR\",\n      \"properties\": {\n        \"dtype\": \"number\",\n        \"std\": 21,\n        \"min\": 1950,\n        \"max\": 2025,\n        \"num_unique_values\": 76,\n        \"samples\": [\n          1954,\n          1985,\n          1960\n        ],\n        \"semantic_type\": \"\",\n        \"description\": \"\"\n      }\n    },\n    {\n      \"column\": \"TOTAL\",\n      \"properties\": {\n        \"dtype\": \"number\",\n        \"std\": 0.9436857498266814,\n        \"min\": 24.38,\n        \"max\": 29.26,\n        \"num_unique_values\": 355,\n        \"samples\": [\n          27.06,\n          26.91,\n          27.76\n        ],\n        \"semantic_type\": \"\",\n        \"description\": \"\"\n      }\n    },\n    {\n      \"column\": \"ANOM\",\n      \"properties\": {\n        \"dtype\": \"number\",\n        \"std\": 0.8362091586798466,\n        \"min\": -2.03,\n        \"max\": 2.64,\n        \"num_unique_values\": 314,\n        \"samples\": [\n          1.29,\n          0.4,\n          -0.81\n        ],\n        \"semantic_type\": \"\",\n        \"description\": \"\"\n      }\n    }\n  ]\n}"
            }
          },
          "metadata": {},
          "execution_count": 4
        }
      ]
    },
    {
      "cell_type": "code",
      "source": [
        "dataset.tail()"
      ],
      "metadata": {
        "colab": {
          "base_uri": "https://localhost:8080/",
          "height": 206
        },
        "id": "ep-nRwNHrnsk",
        "outputId": "199a4a06-b9e5-47c5-f5c4-8ed22b7cda42"
      },
      "execution_count": 5,
      "outputs": [
        {
          "output_type": "execute_result",
          "data": {
            "text/plain": [
              "    SEAS    YR  TOTAL  ANOM\n",
              "896  ASO  2024  26.55 -0.21\n",
              "897  SON  2024  26.45 -0.26\n",
              "898  OND  2024  26.30 -0.37\n",
              "899  NDJ  2024  26.09 -0.53\n",
              "900  DJF  2025  25.99 -0.64"
            ],
            "text/html": [
              "\n",
              "  <div id=\"df-20aafccf-eb3d-4d71-8711-dfc7c529198d\" class=\"colab-df-container\">\n",
              "    <div>\n",
              "<style scoped>\n",
              "    .dataframe tbody tr th:only-of-type {\n",
              "        vertical-align: middle;\n",
              "    }\n",
              "\n",
              "    .dataframe tbody tr th {\n",
              "        vertical-align: top;\n",
              "    }\n",
              "\n",
              "    .dataframe thead th {\n",
              "        text-align: right;\n",
              "    }\n",
              "</style>\n",
              "<table border=\"1\" class=\"dataframe\">\n",
              "  <thead>\n",
              "    <tr style=\"text-align: right;\">\n",
              "      <th></th>\n",
              "      <th>SEAS</th>\n",
              "      <th>YR</th>\n",
              "      <th>TOTAL</th>\n",
              "      <th>ANOM</th>\n",
              "    </tr>\n",
              "  </thead>\n",
              "  <tbody>\n",
              "    <tr>\n",
              "      <th>896</th>\n",
              "      <td>ASO</td>\n",
              "      <td>2024</td>\n",
              "      <td>26.55</td>\n",
              "      <td>-0.21</td>\n",
              "    </tr>\n",
              "    <tr>\n",
              "      <th>897</th>\n",
              "      <td>SON</td>\n",
              "      <td>2024</td>\n",
              "      <td>26.45</td>\n",
              "      <td>-0.26</td>\n",
              "    </tr>\n",
              "    <tr>\n",
              "      <th>898</th>\n",
              "      <td>OND</td>\n",
              "      <td>2024</td>\n",
              "      <td>26.30</td>\n",
              "      <td>-0.37</td>\n",
              "    </tr>\n",
              "    <tr>\n",
              "      <th>899</th>\n",
              "      <td>NDJ</td>\n",
              "      <td>2024</td>\n",
              "      <td>26.09</td>\n",
              "      <td>-0.53</td>\n",
              "    </tr>\n",
              "    <tr>\n",
              "      <th>900</th>\n",
              "      <td>DJF</td>\n",
              "      <td>2025</td>\n",
              "      <td>25.99</td>\n",
              "      <td>-0.64</td>\n",
              "    </tr>\n",
              "  </tbody>\n",
              "</table>\n",
              "</div>\n",
              "    <div class=\"colab-df-buttons\">\n",
              "\n",
              "  <div class=\"colab-df-container\">\n",
              "    <button class=\"colab-df-convert\" onclick=\"convertToInteractive('df-20aafccf-eb3d-4d71-8711-dfc7c529198d')\"\n",
              "            title=\"Convert this dataframe to an interactive table.\"\n",
              "            style=\"display:none;\">\n",
              "\n",
              "  <svg xmlns=\"http://www.w3.org/2000/svg\" height=\"24px\" viewBox=\"0 -960 960 960\">\n",
              "    <path d=\"M120-120v-720h720v720H120Zm60-500h600v-160H180v160Zm220 220h160v-160H400v160Zm0 220h160v-160H400v160ZM180-400h160v-160H180v160Zm440 0h160v-160H620v160ZM180-180h160v-160H180v160Zm440 0h160v-160H620v160Z\"/>\n",
              "  </svg>\n",
              "    </button>\n",
              "\n",
              "  <style>\n",
              "    .colab-df-container {\n",
              "      display:flex;\n",
              "      gap: 12px;\n",
              "    }\n",
              "\n",
              "    .colab-df-convert {\n",
              "      background-color: #E8F0FE;\n",
              "      border: none;\n",
              "      border-radius: 50%;\n",
              "      cursor: pointer;\n",
              "      display: none;\n",
              "      fill: #1967D2;\n",
              "      height: 32px;\n",
              "      padding: 0 0 0 0;\n",
              "      width: 32px;\n",
              "    }\n",
              "\n",
              "    .colab-df-convert:hover {\n",
              "      background-color: #E2EBFA;\n",
              "      box-shadow: 0px 1px 2px rgba(60, 64, 67, 0.3), 0px 1px 3px 1px rgba(60, 64, 67, 0.15);\n",
              "      fill: #174EA6;\n",
              "    }\n",
              "\n",
              "    .colab-df-buttons div {\n",
              "      margin-bottom: 4px;\n",
              "    }\n",
              "\n",
              "    [theme=dark] .colab-df-convert {\n",
              "      background-color: #3B4455;\n",
              "      fill: #D2E3FC;\n",
              "    }\n",
              "\n",
              "    [theme=dark] .colab-df-convert:hover {\n",
              "      background-color: #434B5C;\n",
              "      box-shadow: 0px 1px 3px 1px rgba(0, 0, 0, 0.15);\n",
              "      filter: drop-shadow(0px 1px 2px rgba(0, 0, 0, 0.3));\n",
              "      fill: #FFFFFF;\n",
              "    }\n",
              "  </style>\n",
              "\n",
              "    <script>\n",
              "      const buttonEl =\n",
              "        document.querySelector('#df-20aafccf-eb3d-4d71-8711-dfc7c529198d button.colab-df-convert');\n",
              "      buttonEl.style.display =\n",
              "        google.colab.kernel.accessAllowed ? 'block' : 'none';\n",
              "\n",
              "      async function convertToInteractive(key) {\n",
              "        const element = document.querySelector('#df-20aafccf-eb3d-4d71-8711-dfc7c529198d');\n",
              "        const dataTable =\n",
              "          await google.colab.kernel.invokeFunction('convertToInteractive',\n",
              "                                                    [key], {});\n",
              "        if (!dataTable) return;\n",
              "\n",
              "        const docLinkHtml = 'Like what you see? Visit the ' +\n",
              "          '<a target=\"_blank\" href=https://colab.research.google.com/notebooks/data_table.ipynb>data table notebook</a>'\n",
              "          + ' to learn more about interactive tables.';\n",
              "        element.innerHTML = '';\n",
              "        dataTable['output_type'] = 'display_data';\n",
              "        await google.colab.output.renderOutput(dataTable, element);\n",
              "        const docLink = document.createElement('div');\n",
              "        docLink.innerHTML = docLinkHtml;\n",
              "        element.appendChild(docLink);\n",
              "      }\n",
              "    </script>\n",
              "  </div>\n",
              "\n",
              "\n",
              "<div id=\"df-b606ba42-9af7-4169-ac05-e36133099fc6\">\n",
              "  <button class=\"colab-df-quickchart\" onclick=\"quickchart('df-b606ba42-9af7-4169-ac05-e36133099fc6')\"\n",
              "            title=\"Suggest charts\"\n",
              "            style=\"display:none;\">\n",
              "\n",
              "<svg xmlns=\"http://www.w3.org/2000/svg\" height=\"24px\"viewBox=\"0 0 24 24\"\n",
              "     width=\"24px\">\n",
              "    <g>\n",
              "        <path d=\"M19 3H5c-1.1 0-2 .9-2 2v14c0 1.1.9 2 2 2h14c1.1 0 2-.9 2-2V5c0-1.1-.9-2-2-2zM9 17H7v-7h2v7zm4 0h-2V7h2v10zm4 0h-2v-4h2v4z\"/>\n",
              "    </g>\n",
              "</svg>\n",
              "  </button>\n",
              "\n",
              "<style>\n",
              "  .colab-df-quickchart {\n",
              "      --bg-color: #E8F0FE;\n",
              "      --fill-color: #1967D2;\n",
              "      --hover-bg-color: #E2EBFA;\n",
              "      --hover-fill-color: #174EA6;\n",
              "      --disabled-fill-color: #AAA;\n",
              "      --disabled-bg-color: #DDD;\n",
              "  }\n",
              "\n",
              "  [theme=dark] .colab-df-quickchart {\n",
              "      --bg-color: #3B4455;\n",
              "      --fill-color: #D2E3FC;\n",
              "      --hover-bg-color: #434B5C;\n",
              "      --hover-fill-color: #FFFFFF;\n",
              "      --disabled-bg-color: #3B4455;\n",
              "      --disabled-fill-color: #666;\n",
              "  }\n",
              "\n",
              "  .colab-df-quickchart {\n",
              "    background-color: var(--bg-color);\n",
              "    border: none;\n",
              "    border-radius: 50%;\n",
              "    cursor: pointer;\n",
              "    display: none;\n",
              "    fill: var(--fill-color);\n",
              "    height: 32px;\n",
              "    padding: 0;\n",
              "    width: 32px;\n",
              "  }\n",
              "\n",
              "  .colab-df-quickchart:hover {\n",
              "    background-color: var(--hover-bg-color);\n",
              "    box-shadow: 0 1px 2px rgba(60, 64, 67, 0.3), 0 1px 3px 1px rgba(60, 64, 67, 0.15);\n",
              "    fill: var(--button-hover-fill-color);\n",
              "  }\n",
              "\n",
              "  .colab-df-quickchart-complete:disabled,\n",
              "  .colab-df-quickchart-complete:disabled:hover {\n",
              "    background-color: var(--disabled-bg-color);\n",
              "    fill: var(--disabled-fill-color);\n",
              "    box-shadow: none;\n",
              "  }\n",
              "\n",
              "  .colab-df-spinner {\n",
              "    border: 2px solid var(--fill-color);\n",
              "    border-color: transparent;\n",
              "    border-bottom-color: var(--fill-color);\n",
              "    animation:\n",
              "      spin 1s steps(1) infinite;\n",
              "  }\n",
              "\n",
              "  @keyframes spin {\n",
              "    0% {\n",
              "      border-color: transparent;\n",
              "      border-bottom-color: var(--fill-color);\n",
              "      border-left-color: var(--fill-color);\n",
              "    }\n",
              "    20% {\n",
              "      border-color: transparent;\n",
              "      border-left-color: var(--fill-color);\n",
              "      border-top-color: var(--fill-color);\n",
              "    }\n",
              "    30% {\n",
              "      border-color: transparent;\n",
              "      border-left-color: var(--fill-color);\n",
              "      border-top-color: var(--fill-color);\n",
              "      border-right-color: var(--fill-color);\n",
              "    }\n",
              "    40% {\n",
              "      border-color: transparent;\n",
              "      border-right-color: var(--fill-color);\n",
              "      border-top-color: var(--fill-color);\n",
              "    }\n",
              "    60% {\n",
              "      border-color: transparent;\n",
              "      border-right-color: var(--fill-color);\n",
              "    }\n",
              "    80% {\n",
              "      border-color: transparent;\n",
              "      border-right-color: var(--fill-color);\n",
              "      border-bottom-color: var(--fill-color);\n",
              "    }\n",
              "    90% {\n",
              "      border-color: transparent;\n",
              "      border-bottom-color: var(--fill-color);\n",
              "    }\n",
              "  }\n",
              "</style>\n",
              "\n",
              "  <script>\n",
              "    async function quickchart(key) {\n",
              "      const quickchartButtonEl =\n",
              "        document.querySelector('#' + key + ' button');\n",
              "      quickchartButtonEl.disabled = true;  // To prevent multiple clicks.\n",
              "      quickchartButtonEl.classList.add('colab-df-spinner');\n",
              "      try {\n",
              "        const charts = await google.colab.kernel.invokeFunction(\n",
              "            'suggestCharts', [key], {});\n",
              "      } catch (error) {\n",
              "        console.error('Error during call to suggestCharts:', error);\n",
              "      }\n",
              "      quickchartButtonEl.classList.remove('colab-df-spinner');\n",
              "      quickchartButtonEl.classList.add('colab-df-quickchart-complete');\n",
              "    }\n",
              "    (() => {\n",
              "      let quickchartButtonEl =\n",
              "        document.querySelector('#df-b606ba42-9af7-4169-ac05-e36133099fc6 button');\n",
              "      quickchartButtonEl.style.display =\n",
              "        google.colab.kernel.accessAllowed ? 'block' : 'none';\n",
              "    })();\n",
              "  </script>\n",
              "</div>\n",
              "\n",
              "    </div>\n",
              "  </div>\n"
            ],
            "application/vnd.google.colaboratory.intrinsic+json": {
              "type": "dataframe",
              "summary": "{\n  \"name\": \"dataset\",\n  \"rows\": 5,\n  \"fields\": [\n    {\n      \"column\": \"SEAS\",\n      \"properties\": {\n        \"dtype\": \"string\",\n        \"num_unique_values\": 5,\n        \"samples\": [\n          \"SON\",\n          \"DJF\",\n          \"OND\"\n        ],\n        \"semantic_type\": \"\",\n        \"description\": \"\"\n      }\n    },\n    {\n      \"column\": \"YR\",\n      \"properties\": {\n        \"dtype\": \"number\",\n        \"std\": 0,\n        \"min\": 2024,\n        \"max\": 2025,\n        \"num_unique_values\": 2,\n        \"samples\": [\n          2025,\n          2024\n        ],\n        \"semantic_type\": \"\",\n        \"description\": \"\"\n      }\n    },\n    {\n      \"column\": \"TOTAL\",\n      \"properties\": {\n        \"dtype\": \"number\",\n        \"std\": 0.2357541091900633,\n        \"min\": 25.99,\n        \"max\": 26.55,\n        \"num_unique_values\": 5,\n        \"samples\": [\n          26.45,\n          25.99\n        ],\n        \"semantic_type\": \"\",\n        \"description\": \"\"\n      }\n    },\n    {\n      \"column\": \"ANOM\",\n      \"properties\": {\n        \"dtype\": \"number\",\n        \"std\": 0.18102486017119307,\n        \"min\": -0.64,\n        \"max\": -0.21,\n        \"num_unique_values\": 5,\n        \"samples\": [\n          -0.26,\n          -0.64\n        ],\n        \"semantic_type\": \"\",\n        \"description\": \"\"\n      }\n    }\n  ]\n}"
            }
          },
          "metadata": {},
          "execution_count": 5
        }
      ]
    },
    {
      "cell_type": "code",
      "source": [
        "# drop any nans\n",
        "dataset = dataset.dropna(subset=[\"ANOM\"])"
      ],
      "metadata": {
        "id": "5RcTG8sEqmbb"
      },
      "execution_count": 6,
      "outputs": []
    },
    {
      "cell_type": "code",
      "source": [
        "# quick stats\n",
        "dataset.describe()"
      ],
      "metadata": {
        "colab": {
          "base_uri": "https://localhost:8080/",
          "height": 300
        },
        "id": "EipN-1z-vGAZ",
        "outputId": "38a69f7a-c360-4327-961e-f1b09f396a7a"
      },
      "execution_count": 7,
      "outputs": [
        {
          "output_type": "execute_result",
          "data": {
            "text/plain": [
              "                YR       TOTAL        ANOM\n",
              "count   901.000000  901.000000  901.000000\n",
              "mean   1987.042175   26.904517    0.012908\n",
              "std      21.685694    0.943686    0.836209\n",
              "min    1950.000000   24.380000   -2.030000\n",
              "25%    1968.000000   26.230000   -0.570000\n",
              "50%    1987.000000   26.950000   -0.050000\n",
              "75%    2006.000000   27.540000    0.530000\n",
              "max    2025.000000   29.260000    2.640000"
            ],
            "text/html": [
              "\n",
              "  <div id=\"df-1fb224e4-a859-4df1-be54-5dd57e02b5c6\" class=\"colab-df-container\">\n",
              "    <div>\n",
              "<style scoped>\n",
              "    .dataframe tbody tr th:only-of-type {\n",
              "        vertical-align: middle;\n",
              "    }\n",
              "\n",
              "    .dataframe tbody tr th {\n",
              "        vertical-align: top;\n",
              "    }\n",
              "\n",
              "    .dataframe thead th {\n",
              "        text-align: right;\n",
              "    }\n",
              "</style>\n",
              "<table border=\"1\" class=\"dataframe\">\n",
              "  <thead>\n",
              "    <tr style=\"text-align: right;\">\n",
              "      <th></th>\n",
              "      <th>YR</th>\n",
              "      <th>TOTAL</th>\n",
              "      <th>ANOM</th>\n",
              "    </tr>\n",
              "  </thead>\n",
              "  <tbody>\n",
              "    <tr>\n",
              "      <th>count</th>\n",
              "      <td>901.000000</td>\n",
              "      <td>901.000000</td>\n",
              "      <td>901.000000</td>\n",
              "    </tr>\n",
              "    <tr>\n",
              "      <th>mean</th>\n",
              "      <td>1987.042175</td>\n",
              "      <td>26.904517</td>\n",
              "      <td>0.012908</td>\n",
              "    </tr>\n",
              "    <tr>\n",
              "      <th>std</th>\n",
              "      <td>21.685694</td>\n",
              "      <td>0.943686</td>\n",
              "      <td>0.836209</td>\n",
              "    </tr>\n",
              "    <tr>\n",
              "      <th>min</th>\n",
              "      <td>1950.000000</td>\n",
              "      <td>24.380000</td>\n",
              "      <td>-2.030000</td>\n",
              "    </tr>\n",
              "    <tr>\n",
              "      <th>25%</th>\n",
              "      <td>1968.000000</td>\n",
              "      <td>26.230000</td>\n",
              "      <td>-0.570000</td>\n",
              "    </tr>\n",
              "    <tr>\n",
              "      <th>50%</th>\n",
              "      <td>1987.000000</td>\n",
              "      <td>26.950000</td>\n",
              "      <td>-0.050000</td>\n",
              "    </tr>\n",
              "    <tr>\n",
              "      <th>75%</th>\n",
              "      <td>2006.000000</td>\n",
              "      <td>27.540000</td>\n",
              "      <td>0.530000</td>\n",
              "    </tr>\n",
              "    <tr>\n",
              "      <th>max</th>\n",
              "      <td>2025.000000</td>\n",
              "      <td>29.260000</td>\n",
              "      <td>2.640000</td>\n",
              "    </tr>\n",
              "  </tbody>\n",
              "</table>\n",
              "</div>\n",
              "    <div class=\"colab-df-buttons\">\n",
              "\n",
              "  <div class=\"colab-df-container\">\n",
              "    <button class=\"colab-df-convert\" onclick=\"convertToInteractive('df-1fb224e4-a859-4df1-be54-5dd57e02b5c6')\"\n",
              "            title=\"Convert this dataframe to an interactive table.\"\n",
              "            style=\"display:none;\">\n",
              "\n",
              "  <svg xmlns=\"http://www.w3.org/2000/svg\" height=\"24px\" viewBox=\"0 -960 960 960\">\n",
              "    <path d=\"M120-120v-720h720v720H120Zm60-500h600v-160H180v160Zm220 220h160v-160H400v160Zm0 220h160v-160H400v160ZM180-400h160v-160H180v160Zm440 0h160v-160H620v160ZM180-180h160v-160H180v160Zm440 0h160v-160H620v160Z\"/>\n",
              "  </svg>\n",
              "    </button>\n",
              "\n",
              "  <style>\n",
              "    .colab-df-container {\n",
              "      display:flex;\n",
              "      gap: 12px;\n",
              "    }\n",
              "\n",
              "    .colab-df-convert {\n",
              "      background-color: #E8F0FE;\n",
              "      border: none;\n",
              "      border-radius: 50%;\n",
              "      cursor: pointer;\n",
              "      display: none;\n",
              "      fill: #1967D2;\n",
              "      height: 32px;\n",
              "      padding: 0 0 0 0;\n",
              "      width: 32px;\n",
              "    }\n",
              "\n",
              "    .colab-df-convert:hover {\n",
              "      background-color: #E2EBFA;\n",
              "      box-shadow: 0px 1px 2px rgba(60, 64, 67, 0.3), 0px 1px 3px 1px rgba(60, 64, 67, 0.15);\n",
              "      fill: #174EA6;\n",
              "    }\n",
              "\n",
              "    .colab-df-buttons div {\n",
              "      margin-bottom: 4px;\n",
              "    }\n",
              "\n",
              "    [theme=dark] .colab-df-convert {\n",
              "      background-color: #3B4455;\n",
              "      fill: #D2E3FC;\n",
              "    }\n",
              "\n",
              "    [theme=dark] .colab-df-convert:hover {\n",
              "      background-color: #434B5C;\n",
              "      box-shadow: 0px 1px 3px 1px rgba(0, 0, 0, 0.15);\n",
              "      filter: drop-shadow(0px 1px 2px rgba(0, 0, 0, 0.3));\n",
              "      fill: #FFFFFF;\n",
              "    }\n",
              "  </style>\n",
              "\n",
              "    <script>\n",
              "      const buttonEl =\n",
              "        document.querySelector('#df-1fb224e4-a859-4df1-be54-5dd57e02b5c6 button.colab-df-convert');\n",
              "      buttonEl.style.display =\n",
              "        google.colab.kernel.accessAllowed ? 'block' : 'none';\n",
              "\n",
              "      async function convertToInteractive(key) {\n",
              "        const element = document.querySelector('#df-1fb224e4-a859-4df1-be54-5dd57e02b5c6');\n",
              "        const dataTable =\n",
              "          await google.colab.kernel.invokeFunction('convertToInteractive',\n",
              "                                                    [key], {});\n",
              "        if (!dataTable) return;\n",
              "\n",
              "        const docLinkHtml = 'Like what you see? Visit the ' +\n",
              "          '<a target=\"_blank\" href=https://colab.research.google.com/notebooks/data_table.ipynb>data table notebook</a>'\n",
              "          + ' to learn more about interactive tables.';\n",
              "        element.innerHTML = '';\n",
              "        dataTable['output_type'] = 'display_data';\n",
              "        await google.colab.output.renderOutput(dataTable, element);\n",
              "        const docLink = document.createElement('div');\n",
              "        docLink.innerHTML = docLinkHtml;\n",
              "        element.appendChild(docLink);\n",
              "      }\n",
              "    </script>\n",
              "  </div>\n",
              "\n",
              "\n",
              "<div id=\"df-c3c84a73-9f64-4d44-b1b4-1a692a550202\">\n",
              "  <button class=\"colab-df-quickchart\" onclick=\"quickchart('df-c3c84a73-9f64-4d44-b1b4-1a692a550202')\"\n",
              "            title=\"Suggest charts\"\n",
              "            style=\"display:none;\">\n",
              "\n",
              "<svg xmlns=\"http://www.w3.org/2000/svg\" height=\"24px\"viewBox=\"0 0 24 24\"\n",
              "     width=\"24px\">\n",
              "    <g>\n",
              "        <path d=\"M19 3H5c-1.1 0-2 .9-2 2v14c0 1.1.9 2 2 2h14c1.1 0 2-.9 2-2V5c0-1.1-.9-2-2-2zM9 17H7v-7h2v7zm4 0h-2V7h2v10zm4 0h-2v-4h2v4z\"/>\n",
              "    </g>\n",
              "</svg>\n",
              "  </button>\n",
              "\n",
              "<style>\n",
              "  .colab-df-quickchart {\n",
              "      --bg-color: #E8F0FE;\n",
              "      --fill-color: #1967D2;\n",
              "      --hover-bg-color: #E2EBFA;\n",
              "      --hover-fill-color: #174EA6;\n",
              "      --disabled-fill-color: #AAA;\n",
              "      --disabled-bg-color: #DDD;\n",
              "  }\n",
              "\n",
              "  [theme=dark] .colab-df-quickchart {\n",
              "      --bg-color: #3B4455;\n",
              "      --fill-color: #D2E3FC;\n",
              "      --hover-bg-color: #434B5C;\n",
              "      --hover-fill-color: #FFFFFF;\n",
              "      --disabled-bg-color: #3B4455;\n",
              "      --disabled-fill-color: #666;\n",
              "  }\n",
              "\n",
              "  .colab-df-quickchart {\n",
              "    background-color: var(--bg-color);\n",
              "    border: none;\n",
              "    border-radius: 50%;\n",
              "    cursor: pointer;\n",
              "    display: none;\n",
              "    fill: var(--fill-color);\n",
              "    height: 32px;\n",
              "    padding: 0;\n",
              "    width: 32px;\n",
              "  }\n",
              "\n",
              "  .colab-df-quickchart:hover {\n",
              "    background-color: var(--hover-bg-color);\n",
              "    box-shadow: 0 1px 2px rgba(60, 64, 67, 0.3), 0 1px 3px 1px rgba(60, 64, 67, 0.15);\n",
              "    fill: var(--button-hover-fill-color);\n",
              "  }\n",
              "\n",
              "  .colab-df-quickchart-complete:disabled,\n",
              "  .colab-df-quickchart-complete:disabled:hover {\n",
              "    background-color: var(--disabled-bg-color);\n",
              "    fill: var(--disabled-fill-color);\n",
              "    box-shadow: none;\n",
              "  }\n",
              "\n",
              "  .colab-df-spinner {\n",
              "    border: 2px solid var(--fill-color);\n",
              "    border-color: transparent;\n",
              "    border-bottom-color: var(--fill-color);\n",
              "    animation:\n",
              "      spin 1s steps(1) infinite;\n",
              "  }\n",
              "\n",
              "  @keyframes spin {\n",
              "    0% {\n",
              "      border-color: transparent;\n",
              "      border-bottom-color: var(--fill-color);\n",
              "      border-left-color: var(--fill-color);\n",
              "    }\n",
              "    20% {\n",
              "      border-color: transparent;\n",
              "      border-left-color: var(--fill-color);\n",
              "      border-top-color: var(--fill-color);\n",
              "    }\n",
              "    30% {\n",
              "      border-color: transparent;\n",
              "      border-left-color: var(--fill-color);\n",
              "      border-top-color: var(--fill-color);\n",
              "      border-right-color: var(--fill-color);\n",
              "    }\n",
              "    40% {\n",
              "      border-color: transparent;\n",
              "      border-right-color: var(--fill-color);\n",
              "      border-top-color: var(--fill-color);\n",
              "    }\n",
              "    60% {\n",
              "      border-color: transparent;\n",
              "      border-right-color: var(--fill-color);\n",
              "    }\n",
              "    80% {\n",
              "      border-color: transparent;\n",
              "      border-right-color: var(--fill-color);\n",
              "      border-bottom-color: var(--fill-color);\n",
              "    }\n",
              "    90% {\n",
              "      border-color: transparent;\n",
              "      border-bottom-color: var(--fill-color);\n",
              "    }\n",
              "  }\n",
              "</style>\n",
              "\n",
              "  <script>\n",
              "    async function quickchart(key) {\n",
              "      const quickchartButtonEl =\n",
              "        document.querySelector('#' + key + ' button');\n",
              "      quickchartButtonEl.disabled = true;  // To prevent multiple clicks.\n",
              "      quickchartButtonEl.classList.add('colab-df-spinner');\n",
              "      try {\n",
              "        const charts = await google.colab.kernel.invokeFunction(\n",
              "            'suggestCharts', [key], {});\n",
              "      } catch (error) {\n",
              "        console.error('Error during call to suggestCharts:', error);\n",
              "      }\n",
              "      quickchartButtonEl.classList.remove('colab-df-spinner');\n",
              "      quickchartButtonEl.classList.add('colab-df-quickchart-complete');\n",
              "    }\n",
              "    (() => {\n",
              "      let quickchartButtonEl =\n",
              "        document.querySelector('#df-c3c84a73-9f64-4d44-b1b4-1a692a550202 button');\n",
              "      quickchartButtonEl.style.display =\n",
              "        google.colab.kernel.accessAllowed ? 'block' : 'none';\n",
              "    })();\n",
              "  </script>\n",
              "</div>\n",
              "\n",
              "    </div>\n",
              "  </div>\n"
            ],
            "application/vnd.google.colaboratory.intrinsic+json": {
              "type": "dataframe",
              "summary": "{\n  \"name\": \"dataset\",\n  \"rows\": 8,\n  \"fields\": [\n    {\n      \"column\": \"YR\",\n      \"properties\": {\n        \"dtype\": \"number\",\n        \"std\": 744.731141691054,\n        \"min\": 21.68569414092293,\n        \"max\": 2025.0,\n        \"num_unique_values\": 8,\n        \"samples\": [\n          1987.0421753607104,\n          1987.0,\n          901.0\n        ],\n        \"semantic_type\": \"\",\n        \"description\": \"\"\n      }\n    },\n    {\n      \"column\": \"TOTAL\",\n      \"properties\": {\n        \"dtype\": \"number\",\n        \"std\": 310.4944403080411,\n        \"min\": 0.9436857498266814,\n        \"max\": 901.0,\n        \"num_unique_values\": 8,\n        \"samples\": [\n          26.90451720310766,\n          26.95,\n          901.0\n        ],\n        \"semantic_type\": \"\",\n        \"description\": \"\"\n      }\n    },\n    {\n      \"column\": \"ANOM\",\n      \"properties\": {\n        \"dtype\": \"number\",\n        \"std\": 318.4851746469291,\n        \"min\": -2.03,\n        \"max\": 901.0,\n        \"num_unique_values\": 8,\n        \"samples\": [\n          0.012907880133185357,\n          -0.05,\n          901.0\n        ],\n        \"semantic_type\": \"\",\n        \"description\": \"\"\n      }\n    }\n  ]\n}"
            }
          },
          "metadata": {},
          "execution_count": 7
        }
      ]
    },
    {
      "cell_type": "code",
      "source": [
        "# quick viz\n",
        "# djf only\n",
        "dataset[dataset[\"SEAS\"]==\"DJF\"].plot(\"YR\",\"ANOM\")"
      ],
      "metadata": {
        "colab": {
          "base_uri": "https://localhost:8080/",
          "height": 466
        },
        "id": "3QEaavkavtQG",
        "outputId": "2a293f0d-1e58-4f5c-d794-463b93c7cc3b"
      },
      "execution_count": 17,
      "outputs": [
        {
          "output_type": "execute_result",
          "data": {
            "text/plain": [
              "<Axes: xlabel='YR'>"
            ]
          },
          "metadata": {},
          "execution_count": 17
        },
        {
          "output_type": "display_data",
          "data": {
            "text/plain": [
              "<Figure size 640x480 with 1 Axes>"
            ],
            "image/png": "[encoded data removed]"
          },
          "metadata": {}
        }
      ]
    },
    {
      "cell_type": "code",
      "source": [
        "# train test split by years\n",
        "trainds = dataset[dataset[\"YR\"]<=2010]\n",
        "testsds = dataset[dataset[\"YR\"]>2010]"
      ],
      "metadata": {
        "id": "NtRnXk5nwQbP"
      },
      "execution_count": 18,
      "outputs": []
    },
    {
      "cell_type": "code",
      "source": [
        "# grab anoms columns (ONI) and reset index\n",
        "# reshape to be (samples, features)\n",
        "# number of features here is just 1 (ONI)\n",
        "trainds = trainds.reset_index(drop=True)[\"ANOM\"].values.reshape(-1, 1)\n",
        "testsds = testsds.reset_index(drop=True)[\"ANOM\"].values.reshape(-1, 1)"
      ],
      "metadata": {
        "id": "_O7iYwVZvEyB"
      },
      "execution_count": 19,
      "outputs": []
    },
    {
      "cell_type": "code",
      "source": [
        "# checking shapes -- make sure (samples, features)\n",
        "print(trainds.shape, testsds.shape)"
      ],
      "metadata": {
        "colab": {
          "base_uri": "https://localhost:8080/"
        },
        "id": "-qRzFiAK5oln",
        "outputId": "aa37c5f5-3449-4fa2-910d-5567e632d674"
      },
      "execution_count": 20,
      "outputs": [
        {
          "output_type": "stream",
          "name": "stdout",
          "text": [
            "(732, 1) (169, 1)\n"
          ]
        }
      ]
    },
    {
      "cell_type": "code",
      "source": [
        "# Feature Scaling\n",
        "sc = MinMaxScaler(feature_range=(0,1))"
      ],
      "metadata": {
        "id": "7S-QdRBHmCjm"
      },
      "execution_count": 21,
      "outputs": []
    },
    {
      "cell_type": "code",
      "source": [
        "# do rescaling\n",
        "trainds_scaled = sc.fit_transform(trainds)\n",
        "testsds_scaled = sc.transform(testsds)"
      ],
      "metadata": {
        "id": "a6M2k9RF8cXZ"
      },
      "execution_count": 22,
      "outputs": []
    },
    {
      "cell_type": "markdown",
      "source": [
        "# Why do we need a time series generator for RNNs?"
      ],
      "metadata": {
        "id": "_uUT7O7_6Vj9"
      }
    },
    {
      "cell_type": "code",
      "source": [
        "# for help with data manipulation for time series rnn training; we can use the time series generator from keras\n",
        "\n",
        "# dummy input for understanding\n",
        "data = np.array([[i] for i in range(100)])\n",
        "\n",
        "n_input=4 # the length of the input sequence\n",
        "n_features=1 # the number of features\n",
        "\n",
        "# here we are using the input to predict the next value(s) in the sequence (many-to-one)\n",
        "# in other words, the input and target are the same data source\n",
        "# but we don't have to deal with separating them, the generator does this for us!\n",
        "inpdata = data[:-n_input]\n",
        "outdata = data[n_input:]\n",
        "\n",
        "# check shapes\n",
        "print(inpdata.shape, outdata.shape)\n",
        "print(inpdata[:4])\n",
        "print(outdata[:4])"
      ],
      "metadata": {
        "id": "oJcgBvaU7w8h",
        "outputId": "05a708d7-1140-43cc-c418-1226b5f07b39",
        "colab": {
          "base_uri": "https://localhost:8080/"
        }
      },
      "execution_count": 229,
      "outputs": [
        {
          "output_type": "stream",
          "name": "stdout",
          "text": [
            "(96, 1) (96, 1)\n",
            "[[0]\n",
            " [1]\n",
            " [2]\n",
            " [3]]\n",
            "[[4]\n",
            " [5]\n",
            " [6]\n",
            " [7]]\n"
          ]
        }
      ]
    },
    {
      "cell_type": "code",
      "source": [
        "# For many-to-one, we can set the timeseries generator to have different\n",
        "# data and targets as below\n",
        "data_gen = keras.utils.timeseries_dataset_from_array(\n",
        "    data=inpdata,\n",
        "    targets=outdata,\n",
        "    sequence_length=4, # Length of the data sequences\n",
        "    sequence_stride=5, # Period between successive output sequences\n",
        "    sampling_rate=1,   # Period between successive individual timesteps (problematic if > 1)\n",
        "    batch_size=3,\n",
        "    shuffle=False,\n",
        "    seed=1,\n",
        "    start_index=None,\n",
        "    end_index=None,\n",
        ")"
      ],
      "metadata": {
        "id": "CRzwmFZH6WgX"
      },
      "execution_count": 230,
      "outputs": []
    },
    {
      "cell_type": "code",
      "source": [
        "for batch in data_gen:\n",
        "  inputs, targets = batch\n",
        "  print(f\"Inputs: {inputs}\")\n",
        "  print(f\"Targets: {targets}\")\n",
        "  break"
      ],
      "metadata": {
        "id": "UkB9bRKJEpxC",
        "outputId": "564308f7-8a02-4d01-84ef-bb578a2db085",
        "colab": {
          "base_uri": "https://localhost:8080/"
        }
      },
      "execution_count": 231,
      "outputs": [
        {
          "output_type": "stream",
          "name": "stdout",
          "text": [
            "Inputs: [[[ 0]\n",
            "  [ 1]\n",
            "  [ 2]\n",
            "  [ 3]]\n",
            "\n",
            " [[ 5]\n",
            "  [ 6]\n",
            "  [ 7]\n",
            "  [ 8]]\n",
            "\n",
            " [[10]\n",
            "  [11]\n",
            "  [12]\n",
            "  [13]]]\n",
            "Targets: [[ 4]\n",
            " [ 9]\n",
            " [14]]\n"
          ]
        }
      ]
    },
    {
      "cell_type": "code",
      "source": [
        "# For many-to-many, we can set the timeseries generator to have no targets\n",
        "\n",
        "# Example1: Lx = Ly (concurrent output)\n",
        "#sequence_length_inp = 4\n",
        "#sequence_length_out = sequence_length_inp\n",
        "#start_index_out = None\n",
        "#sequence_stride = 1\n",
        "#sampling_rate = 1\n",
        "\n",
        "# Example2: Lx = Ly (input sequence, wait, output sequence)\n",
        "sequence_length_inp = 4\n",
        "sequence_length_out = sequence_length_inp\n",
        "start_index_out = sequence_length_inp\n",
        "sequence_stride = 1\n",
        "sampling_rate = 1\n",
        "\n",
        "# Example3: Lx = Ly (input sequence and slide output sequence)\n",
        "#sequence_length_inp = 4\n",
        "#sequence_length_out = sequence_length_inp\n",
        "#start_index_out = 2\n",
        "#sequence_stride = start_index_out\n",
        "#sampling_rate = start_index_out\n",
        "\n",
        "# data generators\n",
        "data_gen_inp = keras.utils.timeseries_dataset_from_array(\n",
        "    data=data,\n",
        "    targets=None,\n",
        "    sequence_length=sequence_length_inp, # Length of the data sequences\n",
        "    sequence_stride=sequence_stride, # Adjust this to slide the output sequence from the input sequence\n",
        "    sampling_rate=sampling_rate,   # Period between successive individual timesteps\n",
        "    batch_size=2,\n",
        "    shuffle=False,\n",
        "    seed=1,\n",
        "    start_index=None,\n",
        "    end_index=None,\n",
        ")\n",
        "\n",
        "data_gen_out = keras.utils.timeseries_dataset_from_array(\n",
        "    data=data,\n",
        "    targets=None,\n",
        "    sequence_length=sequence_length_out, # Length of the data sequences\n",
        "    sequence_stride=sequence_stride, # Adjust this to slide the output sequence from the input sequence\n",
        "    sampling_rate=sampling_rate,   # Period between successive individual timesteps\n",
        "    batch_size=2,\n",
        "    shuffle=False,\n",
        "    seed=1,\n",
        "    start_index=start_index_out,\n",
        "    end_index=None,\n",
        ")"
      ],
      "metadata": {
        "id": "HE-A2Y6QDqj1"
      },
      "execution_count": 232,
      "outputs": []
    },
    {
      "cell_type": "code",
      "source": [
        "# quick check of output\n",
        "for inputs, outputs in zip(data_gen_inp, data_gen_out):\n",
        "  print(f\"Inputs: {inputs}\")\n",
        "  print(f\"Targets: {outputs}\")\n",
        "  break"
      ],
      "metadata": {
        "id": "Sy7QLT0UDq0W",
        "outputId": "ece9c268-63d0-4cbd-8577-7816c407fa88",
        "colab": {
          "base_uri": "https://localhost:8080/"
        }
      },
      "execution_count": 233,
      "outputs": [
        {
          "output_type": "stream",
          "name": "stdout",
          "text": [
            "Inputs: [[[0]\n",
            "  [1]\n",
            "  [2]\n",
            "  [3]]\n",
            "\n",
            " [[1]\n",
            "  [2]\n",
            "  [3]\n",
            "  [4]]]\n",
            "Targets: [[[4]\n",
            "  [5]\n",
            "  [6]\n",
            "  [7]]\n",
            "\n",
            " [[5]\n",
            "  [6]\n",
            "  [7]\n",
            "  [8]]]\n"
          ]
        }
      ]
    },
    {
      "cell_type": "markdown",
      "source": [
        "# Many-to-One LSTM\n",
        "(Process one time step at a time and only output the final hidden state)\n",
        "\n",
        "This approach is often used when you are primarily interested in the overall context of the sequence for making a single prediction at the end."
      ],
      "metadata": {
        "id": "_1L5-a5eb3TK"
      }
    },
    {
      "cell_type": "code",
      "source": [
        "# the length of the input feature\n",
        "n_input = 4 # you can change this! doesn't HAVE to be 4 months input\n",
        "\n",
        "# here goes our training data\n",
        "inpdata = trainds_scaled[:-n_input]\n",
        "outdata = trainds_scaled[n_input:]\n",
        "\n",
        "n_features = 1\n",
        "BATCHSIZE = 16\n",
        "\n",
        "data_gen = keras.utils.timeseries_dataset_from_array(\n",
        "    data=inpdata,\n",
        "    targets=outdata,\n",
        "    sequence_length=4, # Length of the data sequences\n",
        "    sequence_stride=1, # Period between successive output sequences\n",
        "    sampling_rate=1,   # Period between successive individual timesteps (problematic if > 1)\n",
        "    batch_size=BATCHSIZE,\n",
        "    shuffle=False,\n",
        "    seed=1,\n",
        "    start_index=None,\n",
        "    end_index=None,\n",
        ")\n",
        "\n",
        "# generators make using validation_split not possible when training, we need to define one now\n",
        "test_gen = keras.utils.timeseries_dataset_from_array(\n",
        "    data=testsds_scaled[:-n_input],\n",
        "    targets=testsds_scaled[n_input:],\n",
        "    sequence_length=4, # Length of the data sequences\n",
        "    sequence_stride=1, # Period between successive output sequences\n",
        "    sampling_rate=1,   # Period between successive individual timesteps (problematic if > 1)\n",
        "    batch_size=len(testsds_scaled[n_input:]),\n",
        "    shuffle=False,\n",
        "    seed=1,\n",
        "    start_index=None,\n",
        "    end_index=None,\n",
        ")"
      ],
      "metadata": {
        "id": "zUb6c5liFwG5"
      },
      "execution_count": 266,
      "outputs": []
    },
    {
      "cell_type": "code",
      "source": [
        "# check shapes\n",
        "print(inpdata.shape, outdata.shape, n_features)"
      ],
      "metadata": {
        "colab": {
          "base_uri": "https://localhost:8080/"
        },
        "id": "0KThyhWlzXq6",
        "outputId": "9a54cb32-268b-474f-e281-6213c51f908d"
      },
      "execution_count": 267,
      "outputs": [
        {
          "output_type": "stream",
          "name": "stdout",
          "text": [
            "(728, 1) (728, 1) 1\n"
          ]
        }
      ]
    },
    {
      "cell_type": "code",
      "source": [
        "for batch in data_gen:\n",
        "  inputs, targets = batch\n",
        "  print(f\"Inputs: {inputs[0:3]}\")\n",
        "  print(f\"Targets: {targets[0:3]}\")\n",
        "  break"
      ],
      "metadata": {
        "id": "782yjkdpPG_O",
        "outputId": "186872a2-5bf5-4b4e-dcd0-d2c177fbea8d",
        "colab": {
          "base_uri": "https://localhost:8080/"
        }
      },
      "execution_count": 268,
      "outputs": [
        {
          "output_type": "stream",
          "name": "stdout",
          "text": [
            "Inputs: [[[0.11286682]\n",
            "  [0.15575621]\n",
            "  [0.19638826]\n",
            "  [0.19187359]]\n",
            "\n",
            " [[0.15575621]\n",
            "  [0.19638826]\n",
            "  [0.19187359]\n",
            "  [0.21670429]]\n",
            "\n",
            " [[0.19638826]\n",
            "  [0.19187359]\n",
            "  [0.21670429]\n",
            "  [0.26636569]]]\n",
            "Targets: [[0.21670429]\n",
            " [0.26636569]\n",
            " [0.33634312]]\n"
          ]
        }
      ]
    },
    {
      "cell_type": "code",
      "source": [
        "# many-to-one example\n",
        "# lets make our rnn!\n",
        "regressor = Sequential()\n",
        "\n",
        "# LSTM; input shape is 1 (for one time step at a time)\n",
        "# and n_features which is also 1 for our toy example\n",
        "regressor.add(keras.layers.Input(shape=(1, n_features), batch_size=BATCHSIZE))\n",
        "\n",
        "### NOTE BELOW:\n",
        "# If you want to process the entire sequence at once, change the input\n",
        "# shape above to (4, n_features) while keeping return_sequences=False below.\n",
        "\n",
        "# don't return sequence; just the final hidden state\n",
        "regressor.add(LSTM(units=50, return_sequences=False))\n",
        "\n",
        "# one neuron for output prediction\n",
        "regressor.add(Dense(1))\n",
        "regressor.add(Activation('linear'))\n",
        "\n",
        "# compile model\n",
        "regressor.compile(optimizer='adam', loss='mean_squared_error', metrics=['mse', 'mae'])\n",
        "\n",
        "# what does graph look like?\n",
        "regressor.summary()"
      ],
      "metadata": {
        "id": "dCWIVnYxmCau",
        "colab": {
          "base_uri": "https://localhost:8080/",
          "height": 225
        },
        "outputId": "5e2db78d-ccc8-403d-a6d3-f6d955dfb87c"
      },
      "execution_count": 269,
      "outputs": [
        {
          "output_type": "display_data",
          "data": {
            "text/plain": [
              "\u001b[1mModel: \"sequential_4\"\u001b[0m\n"
            ],
            "text/html": [
              "<pre style=\"white-space:pre;overflow-x:auto;line-height:normal;font-family:Menlo,'DejaVu Sans Mono',consolas,'Courier New',monospace\"><span style=\"font-weight: bold\">Model: \"sequential_4\"</span>\n",
              "</pre>\n"
            ]
          },
          "metadata": {}
        },
        {
          "output_type": "display_data",
          "data": {
            "text/plain": [
              "┏━━━━━━━━━━━━━━━━━━━━━━━━━━━━━━━━━━━━━━┳━━━━━━━━━━━━━━━━━━━━━━━━━━━━━┳━━━━━━━━━━━━━━━━━┓\n",
              "┃\u001b[1m \u001b[0m\u001b[1mLayer (type)                        \u001b[0m\u001b[1m \u001b[0m┃\u001b[1m \u001b[0m\u001b[1mOutput Shape               \u001b[0m\u001b[1m \u001b[0m┃\u001b[1m \u001b[0m\u001b[1m        Param #\u001b[0m\u001b[1m \u001b[0m┃\n",
              "┡━━━━━━━━━━━━━━━━━━━━━━━━━━━━━━━━━━━━━━╇━━━━━━━━━━━━━━━━━━━━━━━━━━━━━╇━━━━━━━━━━━━━━━━━┩\n",
              "│ lstm_4 (\u001b[38;5;33mLSTM\u001b[0m)                        │ (\u001b[38;5;34m16\u001b[0m, \u001b[38;5;34m50\u001b[0m)                    │          \u001b[38;5;34m10,400\u001b[0m │\n",
              "├──────────────────────────────────────┼─────────────────────────────┼─────────────────┤\n",
              "│ dense_4 (\u001b[38;5;33mDense\u001b[0m)                      │ (\u001b[38;5;34m16\u001b[0m, \u001b[38;5;34m1\u001b[0m)                     │              \u001b[38;5;34m51\u001b[0m │\n",
              "├──────────────────────────────────────┼─────────────────────────────┼─────────────────┤\n",
              "│ activation_4 (\u001b[38;5;33mActivation\u001b[0m)            │ (\u001b[38;5;34m16\u001b[0m, \u001b[38;5;34m1\u001b[0m)                     │               \u001b[38;5;34m0\u001b[0m │\n",
              "└──────────────────────────────────────┴─────────────────────────────┴─────────────────┘\n"
            ],
            "text/html": [
              "<pre style=\"white-space:pre;overflow-x:auto;line-height:normal;font-family:Menlo,'DejaVu Sans Mono',consolas,'Courier New',monospace\">┏━━━━━━━━━━━━━━━━━━━━━━━━━━━━━━━━━━━━━━┳━━━━━━━━━━━━━━━━━━━━━━━━━━━━━┳━━━━━━━━━━━━━━━━━┓\n",
              "┃<span style=\"font-weight: bold\"> Layer (type)                         </span>┃<span style=\"font-weight: bold\"> Output Shape                </span>┃<span style=\"font-weight: bold\">         Param # </span>┃\n",
              "┡━━━━━━━━━━━━━━━━━━━━━━━━━━━━━━━━━━━━━━╇━━━━━━━━━━━━━━━━━━━━━━━━━━━━━╇━━━━━━━━━━━━━━━━━┩\n",
              "│ lstm_4 (<span style=\"color: #0087ff; text-decoration-color: #0087ff\">LSTM</span>)                        │ (<span style=\"color: #00af00; text-decoration-color: #00af00\">16</span>, <span style=\"color: #00af00; text-decoration-color: #00af00\">50</span>)                    │          <span style=\"color: #00af00; text-decoration-color: #00af00\">10,400</span> │\n",
              "├──────────────────────────────────────┼─────────────────────────────┼─────────────────┤\n",
              "│ dense_4 (<span style=\"color: #0087ff; text-decoration-color: #0087ff\">Dense</span>)                      │ (<span style=\"color: #00af00; text-decoration-color: #00af00\">16</span>, <span style=\"color: #00af00; text-decoration-color: #00af00\">1</span>)                     │              <span style=\"color: #00af00; text-decoration-color: #00af00\">51</span> │\n",
              "├──────────────────────────────────────┼─────────────────────────────┼─────────────────┤\n",
              "│ activation_4 (<span style=\"color: #0087ff; text-decoration-color: #0087ff\">Activation</span>)            │ (<span style=\"color: #00af00; text-decoration-color: #00af00\">16</span>, <span style=\"color: #00af00; text-decoration-color: #00af00\">1</span>)                     │               <span style=\"color: #00af00; text-decoration-color: #00af00\">0</span> │\n",
              "└──────────────────────────────────────┴─────────────────────────────┴─────────────────┘\n",
              "</pre>\n"
            ]
          },
          "metadata": {}
        },
        {
          "output_type": "display_data",
          "data": {
            "text/plain": [
              "\u001b[1m Total params: \u001b[0m\u001b[38;5;34m10,451\u001b[0m (40.82 KB)\n"
            ],
            "text/html": [
              "<pre style=\"white-space:pre;overflow-x:auto;line-height:normal;font-family:Menlo,'DejaVu Sans Mono',consolas,'Courier New',monospace\"><span style=\"font-weight: bold\"> Total params: </span><span style=\"color: #00af00; text-decoration-color: #00af00\">10,451</span> (40.82 KB)\n",
              "</pre>\n"
            ]
          },
          "metadata": {}
        },
        {
          "output_type": "display_data",
          "data": {
            "text/plain": [
              "\u001b[1m Trainable params: \u001b[0m\u001b[38;5;34m10,451\u001b[0m (40.82 KB)\n"
            ],
            "text/html": [
              "<pre style=\"white-space:pre;overflow-x:auto;line-height:normal;font-family:Menlo,'DejaVu Sans Mono',consolas,'Courier New',monospace\"><span style=\"font-weight: bold\"> Trainable params: </span><span style=\"color: #00af00; text-decoration-color: #00af00\">10,451</span> (40.82 KB)\n",
              "</pre>\n"
            ]
          },
          "metadata": {}
        },
        {
          "output_type": "display_data",
          "data": {
            "text/plain": [
              "\u001b[1m Non-trainable params: \u001b[0m\u001b[38;5;34m0\u001b[0m (0.00 B)\n"
            ],
            "text/html": [
              "<pre style=\"white-space:pre;overflow-x:auto;line-height:normal;font-family:Menlo,'DejaVu Sans Mono',consolas,'Courier New',monospace\"><span style=\"font-weight: bold\"> Non-trainable params: </span><span style=\"color: #00af00; text-decoration-color: #00af00\">0</span> (0.00 B)\n",
              "</pre>\n"
            ]
          },
          "metadata": {}
        }
      ]
    },
    {
      "cell_type": "code",
      "source": [
        "# train the lstm!\n",
        "EPOCHS = 20\n",
        "history = regressor.fit(data_gen, epochs=EPOCHS, validation_data=test_gen)"
      ],
      "metadata": {
        "colab": {
          "base_uri": "https://localhost:8080/"
        },
        "id": "Aue4JDCWyy9L",
        "outputId": "299f9479-897c-4858-9e4e-eb4d2d0b9217"
      },
      "execution_count": 270,
      "outputs": [
        {
          "output_type": "stream",
          "name": "stdout",
          "text": [
            "Epoch 1/20\n",
            "\u001b[1m46/46\u001b[0m \u001b[32m━━━━━━━━━━━━━━━━━━━━\u001b[0m\u001b[37m\u001b[0m \u001b[1m3s\u001b[0m 18ms/step - loss: 0.1287 - mae: 0.3080 - mse: 0.1287 - val_loss: 0.0139 - val_mae: 0.0969 - val_mse: 0.0139\n",
            "Epoch 2/20\n",
            "\u001b[1m46/46\u001b[0m \u001b[32m━━━━━━━━━━━━━━━━━━━━\u001b[0m\u001b[37m\u001b[0m \u001b[1m1s\u001b[0m 9ms/step - loss: 0.0103 - mae: 0.0789 - mse: 0.0103 - val_loss: 0.0116 - val_mae: 0.0865 - val_mse: 0.0116\n",
            "Epoch 3/20\n",
            "\u001b[1m46/46\u001b[0m \u001b[32m━━━━━━━━━━━━━━━━━━━━\u001b[0m\u001b[37m\u001b[0m \u001b[1m0s\u001b[0m 9ms/step - loss: 0.0096 - mae: 0.0759 - mse: 0.0096 - val_loss: 0.0110 - val_mae: 0.0838 - val_mse: 0.0110\n",
            "Epoch 4/20\n",
            "\u001b[1m46/46\u001b[0m \u001b[32m━━━━━━━━━━━━━━━━━━━━\u001b[0m\u001b[37m\u001b[0m \u001b[1m0s\u001b[0m 9ms/step - loss: 0.0092 - mae: 0.0743 - mse: 0.0092 - val_loss: 0.0105 - val_mae: 0.0818 - val_mse: 0.0105\n",
            "Epoch 5/20\n",
            "\u001b[1m46/46\u001b[0m \u001b[32m━━━━━━━━━━━━━━━━━━━━\u001b[0m\u001b[37m\u001b[0m \u001b[1m0s\u001b[0m 9ms/step - loss: 0.0089 - mae: 0.0731 - mse: 0.0089 - val_loss: 0.0102 - val_mae: 0.0804 - val_mse: 0.0102\n",
            "Epoch 6/20\n",
            "\u001b[1m46/46\u001b[0m \u001b[32m━━━━━━━━━━━━━━━━━━━━\u001b[0m\u001b[37m\u001b[0m \u001b[1m0s\u001b[0m 9ms/step - loss: 0.0087 - mae: 0.0723 - mse: 0.0087 - val_loss: 0.0099 - val_mae: 0.0792 - val_mse: 0.0099\n",
            "Epoch 7/20\n",
            "\u001b[1m46/46\u001b[0m \u001b[32m━━━━━━━━━━━━━━━━━━━━\u001b[0m\u001b[37m\u001b[0m \u001b[1m0s\u001b[0m 9ms/step - loss: 0.0085 - mae: 0.0715 - mse: 0.0085 - val_loss: 0.0097 - val_mae: 0.0782 - val_mse: 0.0097\n",
            "Epoch 8/20\n",
            "\u001b[1m46/46\u001b[0m \u001b[32m━━━━━━━━━━━━━━━━━━━━\u001b[0m\u001b[37m\u001b[0m \u001b[1m1s\u001b[0m 9ms/step - loss: 0.0082 - mae: 0.0707 - mse: 0.0082 - val_loss: 0.0094 - val_mae: 0.0772 - val_mse: 0.0094\n",
            "Epoch 9/20\n",
            "\u001b[1m46/46\u001b[0m \u001b[32m━━━━━━━━━━━━━━━━━━━━\u001b[0m\u001b[37m\u001b[0m \u001b[1m1s\u001b[0m 11ms/step - loss: 0.0080 - mae: 0.0698 - mse: 0.0080 - val_loss: 0.0091 - val_mae: 0.0761 - val_mse: 0.0091\n",
            "Epoch 10/20\n",
            "\u001b[1m46/46\u001b[0m \u001b[32m━━━━━━━━━━━━━━━━━━━━\u001b[0m\u001b[37m\u001b[0m \u001b[1m0s\u001b[0m 8ms/step - loss: 0.0078 - mae: 0.0689 - mse: 0.0078 - val_loss: 0.0089 - val_mae: 0.0750 - val_mse: 0.0089\n",
            "Epoch 11/20\n",
            "\u001b[1m46/46\u001b[0m \u001b[32m━━━━━━━━━━━━━━━━━━━━\u001b[0m\u001b[37m\u001b[0m \u001b[1m0s\u001b[0m 10ms/step - loss: 0.0076 - mae: 0.0680 - mse: 0.0076 - val_loss: 0.0086 - val_mae: 0.0738 - val_mse: 0.0086\n",
            "Epoch 12/20\n",
            "\u001b[1m46/46\u001b[0m \u001b[32m━━━━━━━━━━━━━━━━━━━━\u001b[0m\u001b[37m\u001b[0m \u001b[1m0s\u001b[0m 10ms/step - loss: 0.0074 - mae: 0.0670 - mse: 0.0074 - val_loss: 0.0083 - val_mae: 0.0726 - val_mse: 0.0083\n",
            "Epoch 13/20\n",
            "\u001b[1m46/46\u001b[0m \u001b[32m━━━━━━━━━━━━━━━━━━━━\u001b[0m\u001b[37m\u001b[0m \u001b[1m1s\u001b[0m 11ms/step - loss: 0.0071 - mae: 0.0660 - mse: 0.0071 - val_loss: 0.0080 - val_mae: 0.0712 - val_mse: 0.0080\n",
            "Epoch 14/20\n",
            "\u001b[1m46/46\u001b[0m \u001b[32m━━━━━━━━━━━━━━━━━━━━\u001b[0m\u001b[37m\u001b[0m \u001b[1m1s\u001b[0m 16ms/step - loss: 0.0069 - mae: 0.0649 - mse: 0.0069 - val_loss: 0.0076 - val_mae: 0.0698 - val_mse: 0.0076\n",
            "Epoch 15/20\n",
            "\u001b[1m46/46\u001b[0m \u001b[32m━━━━━━━━━━━━━━━━━━━━\u001b[0m\u001b[37m\u001b[0m \u001b[1m1s\u001b[0m 15ms/step - loss: 0.0066 - mae: 0.0637 - mse: 0.0066 - val_loss: 0.0073 - val_mae: 0.0681 - val_mse: 0.0073\n",
            "Epoch 16/20\n",
            "\u001b[1m46/46\u001b[0m \u001b[32m━━━━━━━━━━━━━━━━━━━━\u001b[0m\u001b[37m\u001b[0m \u001b[1m1s\u001b[0m 11ms/step - loss: 0.0063 - mae: 0.0623 - mse: 0.0063 - val_loss: 0.0068 - val_mae: 0.0663 - val_mse: 0.0068\n",
            "Epoch 17/20\n",
            "\u001b[1m46/46\u001b[0m \u001b[32m━━━━━━━━━━━━━━━━━━━━\u001b[0m\u001b[37m\u001b[0m \u001b[1m1s\u001b[0m 11ms/step - loss: 0.0060 - mae: 0.0609 - mse: 0.0060 - val_loss: 0.0064 - val_mae: 0.0642 - val_mse: 0.0064\n",
            "Epoch 18/20\n",
            "\u001b[1m46/46\u001b[0m \u001b[32m━━━━━━━━━━━━━━━━━━━━\u001b[0m\u001b[37m\u001b[0m \u001b[1m0s\u001b[0m 10ms/step - loss: 0.0057 - mae: 0.0592 - mse: 0.0057 - val_loss: 0.0059 - val_mae: 0.0617 - val_mse: 0.0059\n",
            "Epoch 19/20\n",
            "\u001b[1m46/46\u001b[0m \u001b[32m━━━━━━━━━━━━━━━━━━━━\u001b[0m\u001b[37m\u001b[0m \u001b[1m0s\u001b[0m 9ms/step - loss: 0.0053 - mae: 0.0573 - mse: 0.0053 - val_loss: 0.0054 - val_mae: 0.0590 - val_mse: 0.0054\n",
            "Epoch 20/20\n",
            "\u001b[1m46/46\u001b[0m \u001b[32m━━━━━━━━━━━━━━━━━━━━\u001b[0m\u001b[37m\u001b[0m \u001b[1m0s\u001b[0m 9ms/step - loss: 0.0049 - mae: 0.0554 - mse: 0.0049 - val_loss: 0.0048 - val_mae: 0.0558 - val_mse: 0.0048\n"
          ]
        }
      ]
    },
    {
      "cell_type": "code",
      "source": [
        "plt.plot(range(0,EPOCHS), history.history['loss'], c='k', label='training')\n",
        "plt.plot(range(0,EPOCHS), history.history['val_loss'], c='r', label='validation')\n",
        "plt.legend()\n",
        "plt.show()"
      ],
      "metadata": {
        "id": "x3EcKOa8RO_j",
        "outputId": "8ff74ce0-824f-4333-e0af-e4676cd11229",
        "colab": {
          "base_uri": "https://localhost:8080/",
          "height": 430
        }
      },
      "execution_count": 271,
      "outputs": [
        {
          "output_type": "display_data",
          "data": {
            "text/plain": [
              "<Figure size 640x480 with 1 Axes>"
            ],
            "image/png": "[encoded data removed]"
          },
          "metadata": {}
        }
      ]
    },
    {
      "cell_type": "code",
      "source": [
        "for batch in test_gen:\n",
        "  _, y = batch\n",
        "  print(f\"Targets: {y.shape}\")\n",
        "  break"
      ],
      "metadata": {
        "colab": {
          "base_uri": "https://localhost:8080/"
        },
        "id": "yD-8nXD4-rZu",
        "outputId": "30fa782d-75f7-4833-dbeb-4b89ce4732b1"
      },
      "execution_count": 272,
      "outputs": [
        {
          "output_type": "stream",
          "name": "stdout",
          "text": [
            "Targets: (162, 1)\n"
          ]
        }
      ]
    },
    {
      "cell_type": "code",
      "source": [
        "# predict using test data\n",
        "oni_predictions = regressor.predict(test_gen)"
      ],
      "metadata": {
        "id": "DPA3UGBsmCXX",
        "colab": {
          "base_uri": "https://localhost:8080/"
        },
        "outputId": "48ddc290-b73d-44ea-c518-edff4dbd54d6"
      },
      "execution_count": 273,
      "outputs": [
        {
          "output_type": "stream",
          "name": "stdout",
          "text": [
            "\u001b[1m1/1\u001b[0m \u001b[32m━━━━━━━━━━━━━━━━━━━━\u001b[0m\u001b[37m\u001b[0m \u001b[1m0s\u001b[0m 470ms/step\n"
          ]
        }
      ]
    },
    {
      "cell_type": "code",
      "source": [
        "# quick check that we have a match of shapes\n",
        "print(oni_predictions.shape, y.shape)"
      ],
      "metadata": {
        "colab": {
          "base_uri": "https://localhost:8080/"
        },
        "id": "dHY10TFu_Hp5",
        "outputId": "172cfee0-564c-4e73-8159-a387352876f1"
      },
      "execution_count": 274,
      "outputs": [
        {
          "output_type": "stream",
          "name": "stdout",
          "text": [
            "(162, 1) (162, 1)\n"
          ]
        }
      ]
    },
    {
      "cell_type": "code",
      "source": [
        "# how did we do!?\n",
        "plt.scatter(\n",
        "    sc.inverse_transform(y).reshape(-1),\n",
        "    sc.inverse_transform(oni_predictions).reshape(-1)\n",
        "    )\n",
        "plt.xlim([-3,3])\n",
        "plt.ylim([-3,3])\n",
        "plt.show()"
      ],
      "metadata": {
        "colab": {
          "base_uri": "https://localhost:8080/",
          "height": 435
        },
        "id": "ZPeSf6qzGrd1",
        "outputId": "19531423-3bd5-4344-9e52-98132ced517f"
      },
      "execution_count": 275,
      "outputs": [
        {
          "output_type": "display_data",
          "data": {
            "text/plain": [
              "<Figure size 640x480 with 1 Axes>"
            ],
            "image/png": "[encoded data removed]"
          },
          "metadata": {}
        }
      ]
    },
    {
      "cell_type": "markdown",
      "source": [
        "# Many-to-Many LSTM"
      ],
      "metadata": {
        "id": "ydKfkPRzfuLD"
      }
    },
    {
      "cell_type": "code",
      "source": [
        "# redoing data preprocessing steps here more quickly\n",
        "\n",
        "# reading dataset from NOAA online\n",
        "dataset = pd.read_csv(\n",
        "    'http://www.cpc.ncep.noaa.gov/data/indices/oni.ascii.txt',\n",
        "    delim_whitespace=True)\n",
        "\n",
        "# drop any nans\n",
        "dataset = dataset.dropna(subset=[\"ANOM\"])\n",
        "\n",
        "# train test split by years\n",
        "trainds = dataset[dataset[\"YR\"]<=2010]\n",
        "testsds = dataset[dataset[\"YR\"]>2010]\n",
        "\n",
        "# grab anoms columns (ONI) and reset index\n",
        "# reshape to be (samples, features)\n",
        "# number of features here is just 1 (ONI)\n",
        "trainds = trainds.reset_index(drop=True)[\"ANOM\"].values.reshape(-1, 1)\n",
        "testsds = testsds.reset_index(drop=True)[\"ANOM\"].values.reshape(-1, 1)\n",
        "\n",
        "# Feature Scaling\n",
        "sc = MinMaxScaler(feature_range=(0,1))\n",
        "\n",
        "# do rescaling\n",
        "trainds_scaled = sc.fit_transform(trainds)\n",
        "testsds_scaled = sc.transform(testsds)"
      ],
      "metadata": {
        "id": "HyKsK1p2frBp"
      },
      "execution_count": null,
      "outputs": []
    },
    {
      "cell_type": "code",
      "source": [
        "# for help with data manipulation for time series rnn training; we can use the time series generator from keras\n",
        "\n",
        "# dummy input for understanding\n",
        "# data = np.array([[i] for i in range(50)])\n",
        "\n",
        "# here goes our training data\n",
        "data = trainds_scaled\n",
        "\n",
        "# the shape of your target is your prediction shape\n",
        "target = np.concatenate((np.roll(data, 0, axis=0),\n",
        "                         np.roll(data, -1, axis=0),\n",
        "                         np.roll(data, -2, axis=0),\n",
        "                         #np.roll(data, -3, axis=0)\n",
        "                        ), axis=1)\n",
        "\n",
        "# the length of the input feature\n",
        "n_input=4\n",
        "n_features=data.shape[1]\n",
        "n_pred=target.shape[1]\n",
        "\n",
        "# this is the generator that will go into our rnn for training\n",
        "data_gen = TimeseriesGenerator(data,\n",
        "                               target,\n",
        "                               length=n_input,\n",
        "                               sampling_rate=1,\n",
        "                               batch_size=16,\n",
        "                               shuffle=True)"
      ],
      "metadata": {
        "id": "780eNEwefrJt"
      },
      "execution_count": null,
      "outputs": []
    },
    {
      "cell_type": "code",
      "source": [
        "# quick check of output\n",
        "batch_0 = data_gen[0]\n",
        "x, y = batch_0\n",
        "print(x[0], y[0])\n",
        "print(x.shape, y.shape, n_features)"
      ],
      "metadata": {
        "colab": {
          "base_uri": "https://localhost:8080/"
        },
        "id": "UFMqsQTdfrM2",
        "outputId": "3b36c3c0-76c0-4a28-feec-b049909d4cea"
      },
      "execution_count": null,
      "outputs": [
        {
          "output_type": "stream",
          "name": "stdout",
          "text": [
            "[[0.37923251]\n",
            " [0.4717833 ]\n",
            " [0.55079007]\n",
            " [0.60948081]] [0.66591422 0.71331828 0.76749436]\n",
            "(16, 4, 1) (16, 3) 1\n"
          ]
        }
      ]
    },
    {
      "cell_type": "code",
      "source": [
        "# many-to-one example\n",
        "\n",
        "# lets make our rnn!\n",
        "regressor = Sequential()\n",
        "\n",
        "# LSTM; input shape is 1 (for one time step at a time) and n_features which is also 1 for our toy example\n",
        "regressor.add(keras.layers.Input(shape=(1, n_features), batch_size=16))\n",
        "\n",
        "# encoder is needed because we are using many to predict future manys\n",
        "# return sequence\n",
        "regressor.add(LSTM(units=50, return_sequences=False))\n",
        "\n",
        "# one neuron for output prediction needs to be repeated for each future many prediction\n",
        "regressor.add(RepeatVector(n_pred))\n",
        "\n",
        "# decoder to predict; return each prediction so return_sequence=True\n",
        "# return sequence\n",
        "regressor.add(LSTM(units=50, return_sequences=True))\n",
        "\n",
        "# predict 1 value per returned sequence value\n",
        "regressor.add(TimeDistributed(Dense(1)))\n",
        "regressor.add(Activation('linear'))\n",
        "\n",
        "# compile model\n",
        "regressor.compile(optimizer='adam', loss='mean_squared_error', metrics=['mse', 'mae'])\n",
        "\n",
        "# what does graph look like?\n",
        "regressor.summary()"
      ],
      "metadata": {
        "colab": {
          "base_uri": "https://localhost:8080/"
        },
        "id": "6FVy06vcfrPe",
        "outputId": "29636342-b45f-4831-b945-ddb633d27d89"
      },
      "execution_count": null,
      "outputs": [
        {
          "output_type": "stream",
          "name": "stdout",
          "text": [
            "Model: \"sequential_1\"\n",
            "_________________________________________________________________\n",
            " Layer (type)                Output Shape              Param #   \n",
            "=================================================================\n",
            " lstm_1 (LSTM)               (16, 50)                  10400     \n",
            "                                                                 \n",
            " repeat_vector (RepeatVecto  (16, 3, 50)               0         \n",
            " r)                                                              \n",
            "                                                                 \n",
            " lstm_2 (LSTM)               (16, 3, 50)               20200     \n",
            "                                                                 \n",
            " time_distributed (TimeDist  (16, 3, 1)                51        \n",
            " ributed)                                                        \n",
            "                                                                 \n",
            " activation_1 (Activation)   (16, 3, 1)                0         \n",
            "                                                                 \n",
            "=================================================================\n",
            "Total params: 30651 (119.73 KB)\n",
            "Trainable params: 30651 (119.73 KB)\n",
            "Non-trainable params: 0 (0.00 Byte)\n",
            "_________________________________________________________________\n"
          ]
        }
      ]
    },
    {
      "cell_type": "code",
      "source": [
        "# train the lstm!\n",
        "regressor.fit(data_gen, epochs=20)"
      ],
      "metadata": {
        "colab": {
          "base_uri": "https://localhost:8080/"
        },
        "id": "kaipkME-hYxO",
        "outputId": "d3b9c523-3e5a-47a0-db8d-11ae679b27c6"
      },
      "execution_count": null,
      "outputs": [
        {
          "output_type": "stream",
          "name": "stdout",
          "text": [
            "Epoch 1/20\n",
            "46/46 [==============================] - 6s 13ms/step - loss: 0.0764 - mse: 0.0764 - mae: 0.2227\n",
            "Epoch 2/20\n",
            "46/46 [==============================] - 1s 14ms/step - loss: 0.0258 - mse: 0.0258 - mae: 0.1262\n",
            "Epoch 3/20\n",
            "46/46 [==============================] - 1s 15ms/step - loss: 0.0155 - mse: 0.0155 - mae: 0.0965\n",
            "Epoch 4/20\n",
            "46/46 [==============================] - 1s 13ms/step - loss: 0.0146 - mse: 0.0146 - mae: 0.0930\n",
            "Epoch 5/20\n",
            "46/46 [==============================] - 1s 14ms/step - loss: 0.0157 - mse: 0.0157 - mae: 0.0954\n",
            "Epoch 6/20\n",
            "46/46 [==============================] - 1s 15ms/step - loss: 0.0142 - mse: 0.0142 - mae: 0.0920\n",
            "Epoch 7/20\n",
            "46/46 [==============================] - 1s 16ms/step - loss: 0.0125 - mse: 0.0125 - mae: 0.0860\n",
            "Epoch 8/20\n",
            "46/46 [==============================] - 1s 19ms/step - loss: 0.0109 - mse: 0.0109 - mae: 0.0814\n",
            "Epoch 9/20\n",
            "46/46 [==============================] - 1s 12ms/step - loss: 0.0103 - mse: 0.0103 - mae: 0.0787\n",
            "Epoch 10/20\n",
            "46/46 [==============================] - 1s 15ms/step - loss: 0.0068 - mse: 0.0068 - mae: 0.0642\n",
            "Epoch 11/20\n",
            "46/46 [==============================] - 0s 8ms/step - loss: 0.0061 - mse: 0.0061 - mae: 0.0596\n",
            "Epoch 12/20\n",
            "46/46 [==============================] - 0s 10ms/step - loss: 0.0066 - mse: 0.0066 - mae: 0.0626\n",
            "Epoch 13/20\n",
            "46/46 [==============================] - 1s 14ms/step - loss: 0.0054 - mse: 0.0054 - mae: 0.0573\n",
            "Epoch 14/20\n",
            "46/46 [==============================] - 1s 14ms/step - loss: 0.0052 - mse: 0.0052 - mae: 0.0550\n",
            "Epoch 15/20\n",
            "46/46 [==============================] - 1s 11ms/step - loss: 0.0057 - mse: 0.0057 - mae: 0.0572\n",
            "Epoch 16/20\n",
            "46/46 [==============================] - 1s 11ms/step - loss: 0.0059 - mse: 0.0059 - mae: 0.0590\n",
            "Epoch 17/20\n",
            "46/46 [==============================] - 0s 9ms/step - loss: 0.0058 - mse: 0.0058 - mae: 0.0579\n",
            "Epoch 18/20\n",
            "46/46 [==============================] - 0s 7ms/step - loss: 0.0056 - mse: 0.0056 - mae: 0.0572\n",
            "Epoch 19/20\n",
            "46/46 [==============================] - 0s 7ms/step - loss: 0.0053 - mse: 0.0053 - mae: 0.0551\n",
            "Epoch 20/20\n",
            "46/46 [==============================] - 0s 7ms/step - loss: 0.0052 - mse: 0.0052 - mae: 0.0550\n"
          ]
        },
        {
          "output_type": "execute_result",
          "data": {
            "text/plain": [
              "<keras.src.callbacks.History at 0x7f82d76d6d10>"
            ]
          },
          "metadata": {},
          "execution_count": 27
        }
      ]
    },
    {
      "cell_type": "code",
      "source": [
        "# here goes our testing data\n",
        "testdata = testsds_scaled\n",
        "\n",
        "# make sure you make this match your training target\n",
        "testtarget = np.concatenate((\n",
        "    np.roll(testdata, 0, axis=0),\n",
        "    np.roll(testdata, -1, axis=0),\n",
        "    np.roll(testdata, -2, axis=0),\n",
        "    #np.roll(testdata, -3, axis=0)\n",
        "    ), axis=1)\n",
        "\n",
        "testdata_gen = TimeseriesGenerator(\n",
        "    testdata,\n",
        "    testtarget,\n",
        "    length=n_input,\n",
        "    sampling_rate=1,\n",
        "    batch_size=testdata.shape[0], # all samples\n",
        "    shuffle=False)"
      ],
      "metadata": {
        "id": "3_b36aCChZPy"
      },
      "execution_count": null,
      "outputs": []
    },
    {
      "cell_type": "code",
      "source": [
        "# quick check of output\n",
        "batch_0 = testdata_gen[0]\n",
        "x, y = batch_0\n",
        "print(x[0], y[0])\n",
        "print(x.shape, y.shape)"
      ],
      "metadata": {
        "colab": {
          "base_uri": "https://localhost:8080/"
        },
        "id": "Pa9VaqHPiDoE",
        "outputId": "ff6da512-1858-4061-f51a-0153990fc1ec"
      },
      "execution_count": null,
      "outputs": [
        {
          "output_type": "stream",
          "name": "stdout",
          "text": [
            "[[0.13769752]\n",
            " [0.18961625]\n",
            " [0.248307  ]\n",
            " [0.29345372]] [0.33408578 0.35891648 0.34988713]\n",
            "(153, 4, 1) (153, 3)\n"
          ]
        }
      ]
    },
    {
      "cell_type": "code",
      "source": [
        "# make predictions\n",
        "oni_predictions = regressor.predict(testdata_gen)"
      ],
      "metadata": {
        "colab": {
          "base_uri": "https://localhost:8080/"
        },
        "id": "4ZQlHOxuh0Zy",
        "outputId": "c845e2e4-e9b6-432a-e951-7753e5219060"
      },
      "execution_count": null,
      "outputs": [
        {
          "output_type": "stream",
          "name": "stdout",
          "text": [
            "1/1 [==============================] - 2s 2s/step\n"
          ]
        }
      ]
    },
    {
      "cell_type": "code",
      "source": [
        "# check shapes match\n",
        "print(oni_predictions.shape, y.shape)"
      ],
      "metadata": {
        "colab": {
          "base_uri": "https://localhost:8080/"
        },
        "id": "tIHWVyFIFBxt",
        "outputId": "4093be74-8b58-4622-bdb1-d48b0f0beeca"
      },
      "execution_count": null,
      "outputs": [
        {
          "output_type": "stream",
          "name": "stdout",
          "text": [
            "(153, 3, 1) (153, 3)\n"
          ]
        }
      ]
    },
    {
      "cell_type": "code",
      "source": [
        "for i in range(0, n_pred):\n",
        "    # how did we do!?\n",
        "    plt.scatter(\n",
        "        sc.inverse_transform(y[:, i].reshape(-1, 1)).reshape(-1),\n",
        "        sc.inverse_transform(oni_predictions[:, i].reshape(-1, 1)).reshape(-1)\n",
        "        )\n",
        "    plt.xlim([-3,3])\n",
        "    plt.ylim([-3,3])\n",
        "    plt.show()"
      ],
      "metadata": {
        "colab": {
          "base_uri": "https://localhost:8080/",
          "height": 1000
        },
        "id": "WMaxU9aZkjFP",
        "outputId": "221d0cf8-8071-4c0f-9510-2b0c664ae98f"
      },
      "execution_count": null,
      "outputs": [
        {
          "output_type": "display_data",
          "data": {
            "text/plain": [
              "<Figure size 640x480 with 1 Axes>"
            ],
            "image/png": "[encoded data removed]"
          },
          "metadata": {}
        },
        {
          "output_type": "display_data",
          "data": {
            "text/plain": [
              "<Figure size 640x480 with 1 Axes>"
            ],
            "image/png": "[encoded data removed]"
          },
          "metadata": {}
        },
        {
          "output_type": "display_data",
          "data": {
            "text/plain": [
              "<Figure size 640x480 with 1 Axes>"
            ],
            "image/png": "[encoded data removed]"
          },
          "metadata": {}
        }
      ]
    },
    {
      "cell_type": "code",
      "source": [],
      "metadata": {
        "id": "aZz0E1tTmlaI"
      },
      "execution_count": null,
      "outputs": []
    }
  ]
}